{
  "nbformat": 4,
  "nbformat_minor": 0,
  "metadata": {
    "colab": {
      "name": "[CT21] lab04_basics_of_control.ipynb",
      "provenance": [],
      "collapsed_sections": [],
      "include_colab_link": true
    },
    "kernelspec": {
      "name": "python3",
      "display_name": "Python 3"
    }
  },
  "cells": [
    {
      "cell_type": "markdown",
      "metadata": {
        "id": "view-in-github",
        "colab_type": "text"
      },
      "source": [
        "<a href=\"https://colab.research.google.com/github/SergeiSa/Control-Theory-Slides-Spring-2021/blob/main/%20practice_04_basics_of_control.ipynb\" target=\"_parent\"><img src=\"https://colab.research.google.com/assets/colab-badge.svg\" alt=\"Open In Colab\"/></a>"
      ]
    },
    {
      "cell_type": "markdown",
      "metadata": {
        "id": "zPmrTNlSBW-R"
      },
      "source": [
        "# **Practice 4: Basics Of Feedback Control**\n",
        "## **Goals for today**\n",
        "\n",
        "---\n",
        "\n",
        "\n",
        "\n",
        "During today practice we will:\n",
        "\n"
      ]
    },
    {
      "cell_type": "markdown",
      "metadata": {
        "id": "kgF8BN0GTBfP"
      },
      "source": [
        "## **Idea of Control and Feedback**\n",
        "So far we have discussed the methods allowing us to check the stability of the unforced (uncontolled) dynamical systems. Today we will answer a more practical question, namely: **How to make the given dynamical system display desired behavior?** this is one of the questions of concern in the field of **control** theory.\n",
        "\n",
        "In this class we will mainly consider two sets of problems:\n",
        "*   **Stabilization** (regulation) a control system (stabilizer, or regulator) is to be designed so that the state of the closed-loop system will be stabilized around a **static point**.\n",
        "*   **Tracking** (servo) the design objective is to construct a controller (tracker) so that the system output tracks a given time-varying trajectory.\n",
        "\n",
        "One of the most widely used approaches supporting the solution of the problems above is the so-called **feedback control**\n",
        "\n",
        "\n",
        "Recall the autonomous system written in state space:\n",
        "\\begin{equation}\n",
        "\\mathbf{\\dot{x}}=\\boldsymbol{f}(\\mathbf{x},\\mathbf{u})\n",
        "\\end{equation} \n",
        "\n",
        "Let us now assume that one have designed feedback law as follows:\n",
        "\\begin{equation}\n",
        "u = \\boldsymbol{\\varphi}(\\mathbf{x})\n",
        "\\end{equation} \n",
        "\n",
        "<p><img alt=\"ff_fb\" height=\"150px\" src=\"https://drive.google.com/uc?id=1IN9yuBagy2HzOG45mMauiyEXLWSOxi9K\" align=\"center\" hspace=\"250px\" vspace=\"0px\"></p>\n",
        "\n",
        "One may substitute control law and obtain the equations of the **closed loop** system:\n",
        "\\begin{equation}\n",
        "\\mathbf{\\dot{x}}=\\boldsymbol{f}(\\mathbf{x},\\boldsymbol{\\varphi}(\\mathbf{x})) = \\boldsymbol{f}_c(\\mathbf{x})\n",
        "\\end{equation} \n",
        "now one can use stability tools to study the behaviour of the controlled system.\n",
        "\n",
        "Let us begin with the simplest case, namely linear systems. \n",
        "\n",
        "\n"
      ]
    },
    {
      "cell_type": "markdown",
      "metadata": {
        "id": "VMv9_G55JAVR"
      },
      "source": [
        "### **Linear State Feedback**\n",
        "\n",
        "Recall the linear system in state space form:\n",
        "\\begin{equation}\n",
        "\\mathbf{\\dot{x}}=\\mathbf{A}\\mathbf{x} + \\mathbf{B}\\mathbf{u}\n",
        "\\end{equation}\n",
        "\n",
        "The general form of feedback that may stabilize our system is know to be linear:\n",
        "\\begin{equation}\n",
        "\\mathbf{u}=-\\mathbf{K}\\mathbf{x}\n",
        "\\end{equation}\n",
        "\n",
        "Substitution to the system dynamics yields:\n",
        "\\begin{equation}\n",
        "\\mathbf{\\dot{x}}=(\\mathbf{A} - \\mathbf{B}\\mathbf{K})\\mathbf{x} = \\mathbf{A}_c\\mathbf{x}\n",
        "\\end{equation}\n",
        "Thus the stability of the controlled system is completely determined by the eigen values of $\\mathbf{A}_c$ and consequantially by the matrix $\\mathbf{K}$\n"
      ]
    },
    {
      "cell_type": "code",
      "metadata": {
        "colab": {
          "base_uri": "https://localhost:8080/",
          "height": 282
        },
        "id": "dMQ68HJ4H4zp",
        "outputId": "eee6f610-c9f2-4628-dc84-28a84869d6e5"
      },
      "source": [
        "import numpy as np\n",
        "from scipy.integrate import odeint\n",
        "\n",
        "def system_ode(x, t, A, B, K):\n",
        "    u = - np.dot(K,x)  \n",
        "    dx = np.dot(A,x) + np.dot(B,u)\n",
        "    return dx\n",
        "\n",
        "\n",
        "t0 = 0 # Initial time \n",
        "tf = 10 # Final time\n",
        "N = int(2E3) # Numbers of points in time span\n",
        "t = np.linspace(t0, tf, N) # Create time span\n",
        "\n",
        "x0 = [1, 1] # Set initial state \n",
        "\n",
        "A = [[-1,0],\n",
        "     [7, 1]]\n",
        "\n",
        "B = [[0],\n",
        "     [1]]\n",
        "\n",
        "K = [[0,1]] \n",
        "\n",
        "x_sol = odeint(system_ode, x0, t, args=(A, B, K,)) # integrate system \"sys_ode\" from initial state $x0$\n",
        "x1, x2 = x_sol[:,0], x_sol[:,1] # set theta, dtheta to be a respective solution of system states\n",
        "\n",
        "from matplotlib.pyplot import *\n",
        "\n",
        "plot(t, x1, 'r', linewidth=2.0)\n",
        "plot(t, x2, 'b', linewidth=2.0)\n",
        "grid(color='black', linestyle='--', linewidth=1.0, alpha = 0.7)\n",
        "grid(True)\n",
        "xlim([t0, tf])\n",
        "ylabel(r'States ${x}$')\n",
        "xlabel(r'Time $t$ (s)')\n",
        "show()"
      ],
      "execution_count": null,
      "outputs": [
        {
          "output_type": "display_data",
          "data": {
            "image/png": "[encoded data removed]",
            "text/plain": [
              "<Figure size 432x288 with 1 Axes>"
            ]
          },
          "metadata": {
            "tags": [],
            "needs_background": "light"
          }
        }
      ]
    },
    {
      "cell_type": "markdown",
      "metadata": {
        "id": "LFhTSmgYWaDW"
      },
      "source": [
        "### **Example: Stabilization of Linear System**\n",
        "\n",
        "Consider a following unforced system:\n",
        "\n",
        "<p><img alt=\"mbk\" height=\"250px\" src=\"https://drive.google.com/uc?id=1ouEckIc8hm6IOTJ5uGVJHCwx2tBeyKj8\" align=\"center\" hspace=\"350px\" vspace=\"0px\"></p>\n",
        "\n",
        "Dynamics of this system desribed by following ODE:\n",
        "\\begin{equation}\n",
        "m\\ddot{y} + b \\dot{y} + k y = u\n",
        "\\end{equation}\n",
        "\n",
        "And one can formulate this system in state space as:\n",
        "\\begin{equation}\n",
        "\\dot{\\mathbf{x}}\n",
        " = \\mathbf{A}\\mathbf{x} + \\mathbf{B}\\mathbf{u} =\n",
        "\\begin{bmatrix}\n",
        "\\dot{y}\\\\\n",
        "\\ddot{y}\n",
        "\\end{bmatrix}\n",
        "=\n",
        "\\begin{bmatrix}\n",
        "0 & 1\\\\\n",
        "-\\frac{k}{m} & -\\frac{b}{m}\n",
        "\\end{bmatrix}\n",
        " \\begin{bmatrix}\n",
        "y\\\\\n",
        "\\dot{y}\n",
        "\\end{bmatrix}+\n",
        "\\begin{bmatrix}\n",
        "0\\\\\n",
        "\\frac{1}{m}\n",
        "\\end{bmatrix}\n",
        "u\n",
        "\\end{equation}\n",
        "\n",
        "Let us simulate the response of the system with different parameters:"
      ]
    },
    {
      "cell_type": "code",
      "metadata": {
        "id": "xx6wTlUAWZT8",
        "colab": {
          "base_uri": "https://localhost:8080/",
          "height": 282
        },
        "outputId": "a553da95-b802-459b-a424-a00df2891ff8"
      },
      "source": [
        "import numpy as np\n",
        "from scipy.integrate import odeint\n",
        "\n",
        "def system_ode(x, t, A, B, K):\n",
        "    u = - np.dot(K,x)  \n",
        "    dx = np.dot(A,x) + np.dot(B,u)\n",
        "    return dx\n",
        "\n",
        "\n",
        "t0 = 0 # Initial time \n",
        "tf = 10 # Final time\n",
        "N = int(2E3) # Numbers of points in time span\n",
        "t = np.linspace(t0, tf, N) # Create time span\n",
        "y_0 = 0.5\n",
        "x0 = [y_0, 0] # Set initial state \n",
        "\n",
        "m = 1\n",
        "b = -0.5\n",
        "k = 2\n",
        "\n",
        "A = [[0,1],\n",
        "     [-k/m, -b/m]]\n",
        "\n",
        "B = [[0],\n",
        "     [1/m]]\n",
        "\n",
        "K = [[0,0.5]] \n",
        "\n",
        "x_sol = odeint(system_ode, x0, t, args=(A, B, K,)) # integrate system \"sys_ode\" from initial state $x0$\n",
        "y, dy = x_sol[:,0], x_sol[:,1] # set theta, dtheta to be a respective solution of system states\n",
        "\n",
        "from matplotlib.pyplot import *\n",
        "\n",
        "plot(t, y, 'r', linewidth=2.0)\n",
        "grid(color='black', linestyle='--', linewidth=1.0, alpha = 0.7)\n",
        "grid(True)\n",
        "xlim([t0, tf])\n",
        "ylabel(r'Position ${y}$ (m)')\n",
        "xlabel(r'Time $t$ (s)')\n",
        "show()"
      ],
      "execution_count": null,
      "outputs": [
        {
          "output_type": "display_data",
          "data": {
            "image/png": "[encoded data removed]",
            "text/plain": [
              "<Figure size 432x288 with 1 Axes>"
            ]
          },
          "metadata": {
            "tags": [],
            "needs_background": "light"
          }
        }
      ]
    },
    {
      "cell_type": "markdown",
      "metadata": {
        "id": "cWMGBtXBpNQS"
      },
      "source": [
        ">**EXERCISE**: \n",
        "*    Find the gains $k_1, k_2$ that will stabilize the following system:\n",
        "> \\begin{equation}\n",
        "\\mathbf{\\dot{x}}\n",
        "=\n",
        "\\begin{bmatrix}\n",
        "3 & 1\\\\\n",
        "1  & 3\n",
        "\\end{bmatrix}\n",
        "\\mathbf{x}\n",
        "+\n",
        "\\begin{bmatrix}\n",
        "0\\\\\n",
        "1 \n",
        "\\end{bmatrix}\n",
        "\\mathbf{u}\n",
        "\\end{equation}\n",
        ">  simulate the response. \n"
      ]
    },
    {
      "cell_type": "markdown",
      "metadata": {
        "id": "orDzncSidhQk"
      },
      "source": [
        "**NOTE**\n",
        "\n",
        "> It is often the case (especially in fully actuated mechanical systems) that one can analyze system response and stability without actually transforming the system to state-space form, for instance, one may directly substitute control law to the system dynamics to analyze closed-loop response.\n",
        "\n",
        "For instance consider the mass-spring damper above:\n",
        "\n",
        "\\begin{equation}\n",
        "m\\ddot{y} + b \\dot{y} + k y = -k_1 y - k_2 \\dot{y}\n",
        "\\end{equation}\n",
        "\n",
        "which yields:\n",
        "\n",
        "\\begin{equation}\n",
        "m\\ddot{y} + (b + k_2) \\dot{y} + (k + k_1) y = 0 \n",
        "\\end{equation}\n",
        "\n",
        "It is obvious now which gains make this system stable\n",
        "\n",
        "In case of mechanical systems (system of second order equations), the matrix $\\mathbf{K}$ represent the so called proportinal-derivative (PD) controller  $\\mathbf{K} = [\\mathbf{k}_p,\\mathbf{k}_d]^T$.\n",
        "\n",
        "\n",
        "\n"
      ]
    },
    {
      "cell_type": "markdown",
      "metadata": {
        "id": "2Ea3TESnkBmu"
      },
      "source": [
        "### **Higher Order Systems**\n",
        "\n",
        "Stabilization of the fully actuated second-order systems is a trivial task, however, in practice, you will face systems with higher dimensions, where defining the feedback gain may not be trivial. Thus one may use so-called pole-placement or LQR techniques\n",
        "\n",
        "For instnaceRecall the DC motor equations:\n",
        "\n",
        "\\begin{equation}\n",
        "\\begin{bmatrix}\n",
        "\\dot{\\theta} \\\\\n",
        "\\ddot{\\theta} \\\\\n",
        "\\dot{i}\n",
        "\\end{bmatrix} \n",
        "=\n",
        "\\begin{bmatrix}\n",
        "0 & 1 & 0 \\\\\n",
        "0 & -\\frac{b}{J} & \\frac{K_m}{J} \\\\\n",
        "0 & -\\frac{K_e}{L} & -\\frac{R}{L}\n",
        "\\end{bmatrix} \n",
        "\\begin{bmatrix}\n",
        "\\theta \\\\\n",
        "\\dot{\\theta} \\\\\n",
        "i\n",
        "\\end{bmatrix}\n",
        "+\n",
        "\\begin{bmatrix}\n",
        "0 \\\\\n",
        "0 \\\\\n",
        "\\frac{1}{L}\n",
        "\\end{bmatrix}\n",
        "V\n",
        "\\end{equation}\n",
        "\n",
        "we will assume that full-state is given (measured).\n",
        "\n",
        "Let us now try to assign stable poles in order to control DC motor"
      ]
    },
    {
      "cell_type": "code",
      "metadata": {
        "id": "97QxmcR0A8Iq",
        "colab": {
          "base_uri": "https://localhost:8080/",
          "height": 318
        },
        "outputId": "28394a93-4f32-4b01-cf35-ba59ae439be5"
      },
      "source": [
        "\n",
        "\n",
        "k_m = 0.0274\n",
        "k_e = k_m\n",
        "J = 3.2284E-6\n",
        "b = 3.5077E-6\n",
        "L = 2.75E-6\n",
        "R = 4\n",
        "\n",
        "A = [[0, 1, 0],\n",
        "     [0, -b/J, k_m/J],\n",
        "     [0, -k_e/L, -R/L]]\n",
        "\n",
        "B = [[0], \n",
        "     [0], \n",
        "     [1/L]];\n",
        "\n",
        "P = [-100, -500, - 2000]\n",
        "\n",
        "from scipy.signal import place_poles\n",
        "pp =place_poles(np.array(A), np.array(B), np.array(P)) \n",
        "print(pp.computed_poles)\n",
        "K = pp.gain_matrix\n",
        "print(K)\n",
        "tf = 1.5 # Final time\n",
        "N = int(2E3) # Numbers of points in time span\n",
        "t = np.linspace(t0, tf, N) # Create time span\n",
        "x0 = [1, 10, 1] # Set initial state \n",
        "\n",
        "x_sol = odeint(system_ode, x0, t, args=(A, B, K,)) # integrate system \"sys_ode\" from initial state $x0$\n",
        "theta, dtheta, i = x_sol[:,0], x_sol[:,1], x_sol[:,2] # set theta, dtheta to be a respective solution of system states\n",
        "\n",
        "from matplotlib.pyplot import *\n",
        "\n",
        "plot(t, theta, 'r', linewidth=2.0)\n",
        "plot(t, dtheta, 'b', linewidth=2.0)\n",
        "plot(t, i, 'g', linewidth=2.0)\n",
        "grid(color='black', linestyle='--', linewidth=1.0, alpha = 0.7)\n",
        "grid(True)\n",
        "xlim([t0, tf])\n",
        "ylabel(r'Motor Angle ${\\theta}$ (rad)')\n",
        "xlabel(r'Time $t$ (s)')\n",
        "show()"
      ],
      "execution_count": null,
      "outputs": [
        {
          "output_type": "stream",
          "text": [
            "[-2000.  -500.  -100.]\n",
            "[[ 0.03240182 -0.02699589 -3.99285299]]\n"
          ],
          "name": "stdout"
        },
        {
          "output_type": "display_data",
          "data": {
            "image/png": "[encoded data removed]",
            "text/plain": [
              "<Figure size 432x288 with 1 Axes>"
            ]
          },
          "metadata": {
            "tags": [],
            "needs_background": "light"
          }
        }
      ]
    },
    {
      "cell_type": "markdown",
      "metadata": {
        "id": "XCseemxbf4Wm"
      },
      "source": [
        "### **Regulation**\n",
        "\n",
        "In some practical problems we are always want to move our system not to the some equalibrium but to the **desired point** $\\mathbf{x}_d$, and stay there ($\\mathbf{\\dot{x}}_d = \\mathbf{0}$). To do so one may consider the change of variables: \n",
        "\\begin{equation}\n",
        "\\mathbf{\\tilde{x}} = \\mathbf{x}_d - \\mathbf{x} \n",
        "\\end{equation}\n",
        "\n",
        "\n",
        "<p><img alt=\"ff_fb\" height=\"150px\" src=\"https://drive.google.com/uc?id=1E4tNt0rSwXsrGSi4U1cOk0D_Y-q8bFJ-\" align=\"center\" hspace=\"230px\" vspace=\"0px\"></p>\n",
        "\n",
        "For instance applying the full state feedback in the new variables yields:\n",
        "\\begin{equation}\n",
        "\\mathbf{u} = \\mathbf{K}\\mathbf{\\tilde{x}} \n",
        "\\end{equation}\n",
        "\n",
        "Thus transforming problem back to the stabilization of new variables $\\mathbf{\\tilde{x}}$ (control error):\n",
        "\\begin{equation}\n",
        "\\dot{\\tilde{\\mathbf{x}}}=(\\mathbf{A} - \\mathbf{B}\\mathbf{K})\\tilde{\\mathbf{x}}\n",
        "\\end{equation}\n"
      ]
    },
    {
      "cell_type": "code",
      "metadata": {
        "id": "k20MK1tj87wC",
        "colab": {
          "base_uri": "https://localhost:8080/",
          "height": 282
        },
        "outputId": "1ede8159-e9e2-43a6-9abc-de9fd7e76370"
      },
      "source": [
        "import numpy as np \n",
        "from scipy.integrate import odeint # import integrator routine\n",
        "\n",
        "def system_ode(x, t, A, B, K, x_d):\n",
        "    x_e = x_d - x \n",
        "    u = np.dot(K,x_e)  \n",
        "    dx = np.dot(A,x) + np.dot(B,u)\n",
        "    return dx\n",
        "\n",
        "x_d = [3, 0, 0]\n",
        "\n",
        "x_sol = odeint(system_ode, x0, t, args=(A, B, K,x_d,)) # integrate system \"sys_ode\" from initial state $x0$\n",
        "theta, dtheta, i = x_sol[:,0], x_sol[:,1], x_sol[:,2] # set theta, dtheta, i to be a respective solution of system states\n",
        "\n",
        "from matplotlib.pyplot import *\n",
        "\n",
        "hlines(x_d[0], min(t), max(t), color = 'black', linestyles='--', linewidth=2.0)\n",
        "plot(t, theta, 'r', linewidth=2.0)\n",
        "grid(color='black', linestyle='--', linewidth=1.0, alpha = 0.7)\n",
        "grid(True)\n",
        "xlim([t0, tf])\n",
        "ylabel(r'Motor Angle ${\\theta}$ (rad)')\n",
        "xlabel(r'Time $t$ (s)')\n",
        "show()"
      ],
      "execution_count": null,
      "outputs": [
        {
          "output_type": "display_data",
          "data": {
            "image/png": "[encoded data removed]",
            "text/plain": [
              "<Figure size 432x288 with 1 Axes>"
            ]
          },
          "metadata": {
            "tags": [],
            "needs_background": "light"
          }
        }
      ]
    }
  ]
}