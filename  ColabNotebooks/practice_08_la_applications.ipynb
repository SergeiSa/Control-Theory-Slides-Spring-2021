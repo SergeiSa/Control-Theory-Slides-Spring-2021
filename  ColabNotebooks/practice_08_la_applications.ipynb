{
  "nbformat": 4,
  "nbformat_minor": 0,
  "metadata": {
    "colab": {
      "name": "[CT21] lab08_la_applications.ipynb",
      "provenance": [],
      "collapsed_sections": [],
      "include_colab_link": true
    },
    "kernelspec": {
      "name": "python3",
      "display_name": "Python 3"
    }
  },
  "cells": [
    {
      "cell_type": "markdown",
      "metadata": {
        "id": "view-in-github",
        "colab_type": "text"
      },
      "source": [
        "<a href=\"https://colab.research.google.com/github/SergeiSa/Control-Theory-Slides-Spring-2021/blob/main/%20ColabNotebooks/practice_08_la_applications.ipynb\" target=\"_parent\"><img src=\"https://colab.research.google.com/assets/colab-badge.svg\" alt=\"Open In Colab\"/></a>"
      ]
    },
    {
      "cell_type": "markdown",
      "metadata": {
        "id": "zPmrTNlSBW-R"
      },
      "source": [
        "# **Practice 8: Fundamental Subspaces with application to LTI Systems**\n",
        "## **Goals for today**\n",
        "\n",
        "---\n",
        "\n",
        "During today practice we will:\n",
        "*   Exploit a structure of linear mapping between inputs and outputs.\n"
      ]
    },
    {
      "cell_type": "markdown",
      "metadata": {
        "id": "kgF8BN0GTBfP"
      },
      "source": [
        "## **Four Fundamental Subspaces. Recall**\n",
        "---\n",
        ">As we have studied on the lectures there are four fundamental subspaces accompanying any linear operator (matrix) $\\mathbf{A}^{m \\times n}$, namely:\n",
        ">*   **Column** space (range, image): $\\mathcal{C}(\\mathbf{A}) \\in \\mathbb{R}^m$ \n",
        ">*   **Null** space (kernel): $\\mathcal{N}(\\mathbf{A}) \\in \\mathbb{R}^n$\n",
        ">*   **Row** space: $\\mathcal{R}(\\mathbf{A}) = \\mathcal{C}(\\mathbf{A}^T)  \\in \\mathbb{R}^n$\n",
        ">*   **Left null** space: $\\mathcal{N}(\\mathbf{A}^T) \\in \\mathbb{R}^m$\n",
        "---\n",
        "\n",
        "\n",
        "\n"
      ]
    },
    {
      "cell_type": "markdown",
      "metadata": {
        "id": "-hiCl_SzZlZi"
      },
      "source": [
        "\n",
        "### **SVD $\\rightarrow$Four Fundamental Subspaces**\n",
        "Outstanding is that SVD directly provides all **four fundamental subspaces** at once. \n",
        "\n",
        "---\n",
        "\n",
        "\\begin{equation}\n",
        "\\mathbf{A} = \\mathbf{U}\\mathbf{S}\\mathbf{V}^T = \\begin{bmatrix}\\underset{m \\times r}{\\mathbf{U}_r} & \\underset{m \\times m - r}{\\mathbf{U}_n}\n",
        "\\end{bmatrix}\n",
        "\\begin{bmatrix}\n",
        "\\underset{r \\times r}{\\mathbf{S}_r} & \\underset{r \\times n - r}{\\mathbf{0}} \\\\ \n",
        "\\underset{m - r \\times r}{\\mathbf{0}} & \n",
        "\\underset{m - r \\times n - r}{\\mathbf{0}}\n",
        "\\end{bmatrix}\n",
        "\\begin{bmatrix}\\underset{n \\times r}{\\mathbf{V}_r} & \\underset{n \\times n -r}{\\mathbf{V}_n}\n",
        "\\end{bmatrix}^T\n",
        "= \\mathbf{U}_r \\mathbf{S}_r \\mathbf{V}^T_r\n",
        "\\end{equation}\n",
        "\n",
        "---\n",
        "\n",
        "*   **Column space** $\\mathcal{C}(\\mathbf{A})$is spanned by first $r$ vectors in $\\mathbf{U}_r$\n",
        "*  **Left null space** $\\mathcal{N}(\\mathbf{A}^T)$ is spanned by $m-r$ vectors in $\\mathbf{U}_n$\n",
        "*   **Row space** $\\mathcal{R}(\\mathbf{A}^T)$is spanned by first $r$ right singular vectors in $\\mathbf{V}_r$\n",
        "*  **Null space** $\\mathcal{N}(\\mathbf{A})$ is spanned by $n-r$ vectors in $\\mathbf{V}_n$\n",
        "\n",
        "\n",
        "\n",
        "\n",
        "---"
      ]
    },
    {
      "cell_type": "code",
      "metadata": {
        "colab": {
          "base_uri": "https://localhost:8080/"
        },
        "id": "PTlAj8zrNvtB",
        "outputId": "c3ee790c-c7a5-4405-cfe9-2073cc3b6a1f"
      },
      "source": [
        "# from numpy import array\n",
        "import numpy as np\n",
        "from numpy.linalg import svd\n",
        "\n",
        "A = [[0, 0], \n",
        "     [0, -1]]\n",
        "A = np.array(A)\n",
        "\n",
        "U, S, VT = svd(A, full_matrices=True)\n",
        "\n",
        "# Let's print out the SVD matrices:\n",
        "print(f\"Left Singular Vectors:\\n {U}\\n\")\n",
        "print(f\"Singular Values:\\n {S}\\n\")\n",
        "print(f\"Right Singular Vectors:\\n {VT.T}\\n\")\n"
      ],
      "execution_count": null,
      "outputs": [
        {
          "output_type": "stream",
          "text": [
            "Left Singular Vectors:\n",
            " [[0. 1.]\n",
            " [1. 0.]]\n",
            "\n",
            "Singular Values:\n",
            " [1. 0.]\n",
            "\n",
            "Right Singular Vectors:\n",
            " [[-0.  1.]\n",
            " [-1.  0.]]\n",
            "\n",
            "[1. 0.]\n",
            "[0. 0.]\n"
          ],
          "name": "stdout"
        }
      ]
    },
    {
      "cell_type": "code",
      "metadata": {
        "id": "4Pq23jm9pcdf"
      },
      "source": [
        "# Fundamental subspaces are given by slicing resulting matrices"
      ],
      "execution_count": null,
      "outputs": []
    },
    {
      "cell_type": "markdown",
      "metadata": {
        "id": "RprUob8IDS-Q"
      },
      "source": [
        "## **Applications to the LTI Systems**"
      ]
    },
    {
      "cell_type": "markdown",
      "metadata": {
        "id": "jBksZ-2LmF-_"
      },
      "source": [
        "### **Equilibrium Points of Uncontrolled System**\n",
        "\n",
        "Given LTI system $\\dot{\\mathbf{x}} = \\mathbf{A}\\mathbf{x}$, where $\\mathbf{x} \\in \\mathbb{R}^n$, $\\mathbf{u} \\in \\mathbb{R}^m$, find all equalibrium states, namely:\n",
        "\\begin{equation}\n",
        "\\dot{\\mathbf{x}} = \\mathbf{A}\\mathbf{x} = 0\n",
        "\\end{equation}\n",
        "\n",
        "The all posible equalibrium points thus given by $\\mathbf{x}_e = \\mathbf{N}\\mathbf{z}$, $\\forall \\mathbf{z}$\n"
      ]
    },
    {
      "cell_type": "code",
      "metadata": {
        "colab": {
          "base_uri": "https://localhost:8080/"
        },
        "id": "K_q0BPN1nehA",
        "outputId": "1587b1f4-983f-4f96-8436-1f50efd7ea0f"
      },
      "source": [
        "from numpy import hstack\n",
        "A = [[0, 1],\n",
        "     [-2,-3]]\n",
        "B = [[0], [1]]\n",
        "\n",
        "M = hstack((A,B))\n",
        "\n",
        "print(f'Stacked matrix:\\n {M}')\n",
        "\n",
        "U,S,VT = svd(M, full_matrices=True)\n",
        "print(f'Left singular vectors:\\n {U}')\n",
        "print(f'Singular values:\\n {S}')\n",
        "print(f'Right singular vectors:\\n {VT.T}')"
      ],
      "execution_count": null,
      "outputs": [
        {
          "output_type": "stream",
          "text": [
            "Stacked matrix:\n",
            " [[ 0  1  0]\n",
            " [-2 -3  1]]\n",
            "Left singular vectors:\n",
            " [[-0.21452344  0.97671884]\n",
            " [ 0.97671884  0.21452344]]\n",
            "Singular values:\n",
            " [3.82869567 0.58402865]\n",
            "Right singular vectors:\n",
            " [[-0.5102097  -0.73463328  0.4472136 ]\n",
            " [-0.82134498  0.57043179  0.        ]\n",
            " [ 0.25510485  0.36731664  0.89442719]]\n"
          ],
          "name": "stdout"
        }
      ]
    },
    {
      "cell_type": "markdown",
      "metadata": {
        "id": "Uk0dtOIBByUT"
      },
      "source": [
        "### **Equilibrium Points and Feedforward**\n",
        "\n",
        "Given LTI system $\\dot{\\mathbf{x}} = \\mathbf{A} \\mathbf{x} + \\mathbf{B} \\mathbf{u}$, where $\\mathbf{x} \\in \\mathbb{R}^n$, $\\mathbf{u} \\in \\mathbb{R}^m$, find all states that can be made into fixed points with a constant control law.\n",
        "\n",
        "\n",
        "Let us find null space of the matrix $\\begin{bmatrix} \\mathbf{A} & \\mathbf{B} \\end{bmatrix}$ as $\\mathbf{N} = \\text{null} (\\begin{bmatrix} \\mathbf{A} & \\mathbf{B} \\end{bmatrix})$. \n",
        "\n",
        "We can find all $\\mathbf{x}$, $\\mathbf{u}$ pairs that produce equilibrium points as follows: $\\begin{bmatrix} \\mathbf{x} \\\\ \\mathbf{u} \\end{bmatrix} = \\mathbf{N} \\mathbf{z}$, $\\forall \\mathbf{z}$\n",
        "\n"
      ]
    },
    {
      "cell_type": "code",
      "metadata": {
        "colab": {
          "base_uri": "https://localhost:8080/"
        },
        "id": "3bC4nO4oByAI",
        "outputId": "5d278b0d-dfeb-4cd6-9067-fd53e393a661"
      },
      "source": [
        "from numpy import hstack\n",
        "A = [[0, 1],\n",
        "     [-2,-3]]\n",
        "B = [[0], [1]]\n",
        "\n",
        "M = hstack((A,B))\n",
        "\n",
        "print(f'Stacked matrix:\\n {M}')\n",
        "\n",
        "U,S,VT = svd(M, full_matrices=True)\n",
        "print(f'Left singular vectors:\\n {U}')\n",
        "print(f'Singular values:\\n {S}')\n",
        "print(f'Right singular vectors:\\n {VT.T}')"
      ],
      "execution_count": null,
      "outputs": [
        {
          "output_type": "stream",
          "text": [
            "Stacked matrix:\n",
            " [[ 0  1  0]\n",
            " [-2 -3  1]]\n",
            "Left singular vectors:\n",
            " [[-0.21452344  0.97671884]\n",
            " [ 0.97671884  0.21452344]]\n",
            "Singular values:\n",
            " [3.82869567 0.58402865]\n",
            "Right singular vectors:\n",
            " [[-0.5102097  -0.73463328  0.4472136 ]\n",
            " [-0.82134498  0.57043179  0.        ]\n",
            " [ 0.25510485  0.36731664  0.89442719]]\n"
          ],
          "name": "stdout"
        }
      ]
    },
    {
      "cell_type": "markdown",
      "metadata": {
        "id": "FfRXE6WnC35G"
      },
      "source": [
        "<!-- ### **Equilibrium Points and Feedforward** -->\n",
        "\n",
        "\n",
        "Given LTI system $\\dot{\\mathbf{x}} = \\mathbf{A} \\mathbf{x} + \\mathbf{B} \\mathbf{u}$, where $\\mathbf{x} \\in \\mathbb{R}^n$, $\\mathbf{u} \\in \\mathbb{R}^m$, \n",
        "\n",
        "1.   check if $\\mathbf{x}_d$ can be transformed into a equilibrium point\n",
        "2.   find control constant $\\mathbf{u}_d$ that does it, given control law $\\mathbf{u} = \\mathbf{K}\\mathbf{x} + \\mathbf{u}_d$.\n",
        "\n",
        "\n",
        " We can check that $(\\mathbf{A}-\\mathbf{B}\\mathbf{K}) \\mathbf{x}_d + \\mathbf{B} \\mathbf{u}_d = \\mathbf{0}$ has a solution, in other words that $-(\\mathbf{A}-\\mathbf{B}\\mathbf{K}) \\mathbf{x}^* \\in \\mathcal{C}(\\mathbf{B})$. Resulting condition is given via projection into the left null space of $\\mathbf{B}$: \n",
        " $(\\mathbf{I} - \\mathbf{B}\\mathbf{B}^+)(\\mathbf{A}-\\mathbf{B}\\mathbf{K})\\mathbf{x}_d = \\mathbf{0}$\n",
        "\n",
        "This means finding such $\\mathbf{u}_d$ that $(\\mathbf{A}-\\mathbf{B}\\mathbf{K}) \\mathbf{x}_d + \\mathbf{B}\\mathbf{u}_d= \\mathbf{0}$. This is done via pseudo-inverse, which provides exact solution, as long as it exists: $\\mathbf{u}_d= -\\mathbf{B}^+(\\mathbf{A}-\\mathbf{B}\\mathbf{K}) \\mathbf{x}_d$.\n"
      ]
    },
    {
      "cell_type": "code",
      "metadata": {
        "id": "CUzadWFLEs2I"
      },
      "source": [
        "# ADD YOUR CODE HERE"
      ],
      "execution_count": null,
      "outputs": []
    }
  ]
}