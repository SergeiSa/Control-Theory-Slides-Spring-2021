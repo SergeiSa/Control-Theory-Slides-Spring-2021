{
  "nbformat": 4,
  "nbformat_minor": 0,
  "metadata": {
    "colab": {
      "name": "[CT21] lab05_reg_tracking.ipynb",
      "provenance": [],
      "collapsed_sections": [],
      "include_colab_link": true
    },
    "kernelspec": {
      "name": "python3",
      "display_name": "Python 3"
    }
  },
  "cells": [
    {
      "cell_type": "markdown",
      "metadata": {
        "id": "view-in-github",
        "colab_type": "text"
      },
      "source": [
        "<a href=\"https://colab.research.google.com/github/SergeiSa/Control-Theory-Slides-Spring-2021/blob/main/%20ColabNotebooks/practice_05_reg_tracking.ipynb\" target=\"_parent\"><img src=\"https://colab.research.google.com/assets/colab-badge.svg\" alt=\"Open In Colab\"/></a>"
      ]
    },
    {
      "cell_type": "markdown",
      "metadata": {
        "id": "zPmrTNlSBW-R"
      },
      "source": [
        "# **Practice 5: Regulation and Tracking**\n",
        "## **Goals for today**\n",
        "\n",
        "---\n",
        "\n",
        "\n",
        "\n",
        "During today practice we will:\n",
        "- Recall the pole placement and root locus techniques\n",
        "- Solve the regulation and tracking problems\n",
        "\n"
      ]
    },
    {
      "cell_type": "markdown",
      "metadata": {
        "id": "VMv9_G55JAVR"
      },
      "source": [
        "### **Linear State Feedback**\n",
        "\n",
        "Recall the linear system in state space form:\n",
        "\\begin{equation}\n",
        "\\mathbf{\\dot{x}}=\\mathbf{A}\\mathbf{x} + \\mathbf{B}\\mathbf{u}\n",
        "\\end{equation}\n",
        "\n",
        "The general form of feedback that may stabilize our system is know to be linear:\n",
        "\\begin{equation}\n",
        "\\mathbf{u}=-\\mathbf{K}\\mathbf{x}\n",
        "\\end{equation}\n",
        "\n",
        "Substitution to the system dynamics yields:\n",
        "\\begin{equation}\n",
        "\\mathbf{\\dot{x}}=(\\mathbf{A} - \\mathbf{B}\\mathbf{K})\\mathbf{x} = \\mathbf{A}_c\\mathbf{x}\n",
        "\\end{equation}\n",
        "Thus the stability of the controlled system is completely determined by the eigen values of $\\mathbf{A}_c$ and consequantially by the matrix $\\mathbf{K}$\n"
      ]
    },
    {
      "cell_type": "markdown",
      "metadata": {
        "id": "Oy2uWXakaWXW"
      },
      "source": [
        "### **Pole Placement**\n",
        "\n",
        "There is a technique for finding suitable $\\mathbf{K}$ matrix that would produced desired eigenvalues of the $\\mathbf{A}_c$ system. It is called pole placement.\n",
        "\n",
        "Watch the intoduction to pole placement for self-study: [link](https://www.youtube.com/watch?v=FXSpHy8LvmY&ab_channel=MATLAB). Notice the difference between the approach to \"steady state\" control design show there, and in the lecture."
      ]
    },
    {
      "cell_type": "code",
      "metadata": {
        "colab": {
          "base_uri": "https://localhost:8080/"
        },
        "id": "UoGq0eulafoH",
        "outputId": "53343852-583c-41df-fc6e-e94948411192"
      },
      "source": [
        "import numpy as np\n",
        "from numpy.linalg import eig\n",
        "from scipy.signal import place_poles\n",
        "\n",
        "A = np.array([[0, 0], \n",
        "              [0, -1]])\n",
        "\n",
        "B = np.array([[1], \n",
        "              [1]])\n",
        "\n",
        "#desired eigenvalues\n",
        "poles = np.array([-10-1j, -10+1j])\n",
        "place_obj = place_poles(A, B, poles)\n",
        "\n",
        "#found control gains\n",
        "K = place_obj.gain_matrix\n",
        "print(\"K:\", K)\n",
        "\n",
        "#test that eigenvalues of the closed loop system are what they are supposed to be \n",
        "e, v = eig((A - B.dot(K)))\n",
        "print(\"eigenvalues of A - B*K:\", e)"
      ],
      "execution_count": null,
      "outputs": [
        {
          "output_type": "stream",
          "text": [
            "K: [[101. -82.]]\n",
            "eigenvalues of A - B*K: [-10.+1.j -10.-1.j]\n"
          ],
          "name": "stdout"
        }
      ]
    },
    {
      "cell_type": "markdown",
      "metadata": {
        "id": "MQ3fceFLKoH_"
      },
      "source": [
        "### **Exercise:**\n",
        "Make the follwing systems Lyapunov and asymptotically stable. \n",
        "$$\\dot x = \n",
        "\\begin{bmatrix} 10 & 0 \\\\ -5 & 10\n",
        "\\end{bmatrix}\n",
        "x\n",
        "+\n",
        "\\begin{bmatrix} \n",
        "2 \\\\ 0\n",
        "\\end{bmatrix}\n",
        "u\n",
        "$$\n",
        "\n",
        "$$\\dot x = \n",
        "\\begin{bmatrix} 2 & 2 \\\\ -6 & 10\n",
        "\\end{bmatrix}\n",
        "x\n",
        "+\n",
        "\\begin{bmatrix} \n",
        "0 & -1 \\\\ 5 & -1\n",
        "\\end{bmatrix}\n",
        "u\n",
        "$$"
      ]
    },
    {
      "cell_type": "markdown",
      "metadata": {
        "id": "C5KyZ1TVbCd2"
      },
      "source": [
        "Give example of an unstable system of the form $\\mathbf{\\dot{x}}=\\mathbf{A}\\mathbf{x} + \\mathbf{B}\\mathbf{u}$ that can't be stabilized\n",
        "\n"
      ]
    },
    {
      "cell_type": "markdown",
      "metadata": {
        "id": "_Vxzvsu5bFu4"
      },
      "source": [
        "### **Root Locus**\n",
        "\n",
        "Consider the following question: given system $\\dot{\\mathbf{x}} = \\mathbf{A}\\mathbf{x}+\\mathbf{B}\\mathbf{u}$ and control $\\mathbf{u} = \n",
        "-\\mathbf{K} \\mathbf{x}$, how does the change in $\\mathbf{K}$ changes the eigenvalues of theresulting matrix $\\mathbf{A} - \\mathbf{B}\\mathbf{K}$?\n",
        "\n",
        "Root locus method is drawing the graph of eigenvalues of the matrix $\\mathbf{A} - \\mathbf{B}\\mathbf{K}$ for a given change of matrix $\\mathbf{K}$ . We only vary a single component of $\\mathbf{K}$ , so the result is a line."
      ]
    },
    {
      "cell_type": "code",
      "metadata": {
        "colab": {
          "base_uri": "https://localhost:8080/",
          "height": 279
        },
        "id": "ZcilfRflbHjx",
        "outputId": "d930eee2-e528-4c9f-a205-3bc93600eae5"
      },
      "source": [
        "import matplotlib.pyplot as plt\n",
        "\n",
        "A = np.array([[1, -7], [2, -10]])\n",
        "B = np.array([[1], [0]])\n",
        "K0 = np.array([[1., 1.]])\n",
        "\n",
        "k_min = -10;\n",
        "k_max = 10;\n",
        "k_step = 0.01;\n",
        "\n",
        "Count = int(np.floor((k_max-k_min)/k_step))\n",
        "\n",
        "k_range = np.linspace(k_min, k_max, Count)\n",
        "E = np.zeros((Count, 4))\n",
        "\n",
        "for i in range(Count):\n",
        "    K0[0, 0] = k_range[i]\n",
        "    ei, v = eig((A - B.dot(K0)))\n",
        "\n",
        "    E[i, 0] = np.real(ei[0])\n",
        "    E[i, 1] = np.imag(ei[0])\n",
        "    E[i, 2] = np.real(ei[1])\n",
        "    E[i, 3] = np.imag(ei[1])\n",
        "\n",
        "    #print(\"eigenvalues of A - B*K:\", ei)\n",
        "\n",
        "\n",
        "plt.plot(E[:, 0], E[:, 1], color = 'r')\n",
        "plt.plot(E[:, 2], E[:, 3], color = 'b')\n",
        "plt.xlabel(r'Re')\n",
        "plt.ylabel(r'Im')\n",
        "plt.ylim()\n",
        "plt.grid(color='black', linestyle='--', linewidth=1.0, alpha = 0.7)\n",
        "plt.grid(True)\n",
        "plt.show()\n"
      ],
      "execution_count": null,
      "outputs": [
        {
          "output_type": "display_data",
          "data": {
            "image/png": "[encoded data removed]",
            "text/plain": [
              "<Figure size 432x288 with 1 Axes>"
            ]
          },
          "metadata": {
            "tags": [],
            "needs_background": "light"
          }
        }
      ]
    },
    {
      "cell_type": "markdown",
      "metadata": {
        "id": "XCseemxbf4Wm"
      },
      "source": [
        "## **Regulation**\n",
        "\n",
        "In some practical problems we are always want to move our system not to the some equalibrium but to the **desired point** $\\mathbf{x}_d$, and stay there ($\\mathbf{\\dot{x}}_d = \\mathbf{0}$). To do so one may consider the change of variables: \n",
        "\\begin{equation}\n",
        "\\mathbf{\\tilde{x}} = \\mathbf{x}_d - \\mathbf{x} \n",
        "\\end{equation}\n",
        "\n",
        "\n",
        "<p><img alt=\"ff_fb\" height=\"150px\" src=\"https://drive.google.com/uc?id=1E4tNt0rSwXsrGSi4U1cOk0D_Y-q8bFJ-\" align=\"center\" hspace=\"230px\" vspace=\"0px\"></p>\n",
        "\n",
        "For instance applying the full state feedback in the new variables yields:\n",
        "\\begin{equation}\n",
        "\\mathbf{u} = \\mathbf{K}\\mathbf{\\tilde{x}} + \\mathbf{u}_d\n",
        "\\end{equation}\n",
        "\n",
        "where following holds $\\mathbf{A}\\mathbf{x}_d + \\mathbf{B}\\mathbf{u}_d=\\mathbf{0}$\n",
        "\n",
        "Thus transforming problem back to the stabilization of new variables $\\mathbf{\\tilde{x}}$ (control error):\n",
        "\\begin{equation}\n",
        "\\dot{\\tilde{\\mathbf{x}}}=(\\mathbf{A} - \\mathbf{B}\\mathbf{K})\\tilde{\\mathbf{x}}\n",
        "\\end{equation}\n"
      ]
    },
    {
      "cell_type": "markdown",
      "metadata": {
        "id": "_rwz15m6esAC"
      },
      "source": [
        "### **Example:**\n",
        "\n",
        "Given system:\n",
        "\n",
        "$$\\dot x = \n",
        "\\begin{bmatrix} 10 & 5 \\\\ -5 & -10\n",
        "\\end{bmatrix}\n",
        "x\n",
        "+\n",
        "\\begin{bmatrix} \n",
        "-1 \\\\ 2\n",
        "\\end{bmatrix}\n",
        "u\n",
        "$$\n",
        "\n",
        "let us drive it towards the point $x_d = \\begin{bmatrix} 0 \\\\ 1 \\end{bmatrix}$\n",
        "\n"
      ]
    },
    {
      "cell_type": "code",
      "metadata": {
        "colab": {
          "base_uri": "https://localhost:8080/",
          "height": 282
        },
        "id": "dMQ68HJ4H4zp",
        "outputId": "708d34ce-d97c-426d-a192-ea72c60ce44f"
      },
      "source": [
        "import numpy as np\n",
        "from scipy.integrate import odeint\n",
        "\n",
        "def system_ode(x, t, A, B, K, x_d, u_d):\n",
        "    x_e = x_d - x \n",
        "    u = np.dot(K,x_e) + u_d\n",
        "    dx = np.dot(A,x) + np.dot(B,u)\n",
        "    return dx\n",
        "\n",
        "\n",
        "t0 = 0 # Initial time \n",
        "tf = 10 # Final time\n",
        "N = int(2E3) # Numbers of points in time span\n",
        "t = np.linspace(t0, tf, N) # Create time span\n",
        "y_0 = 0.5\n",
        "x0 = [0, 0] # Set initial state \n",
        "\n",
        "A = [[10, 5], \n",
        "     [-5, -10]]\n",
        "\n",
        "B = [[-1], \n",
        "     [2]]\n",
        "\n",
        "c = 10\n",
        "x_d = [0, c]\n",
        "u_d = 5*c\n",
        "K = [[-13.26666667,  -5.13333333]]\n",
        "\n",
        "\n",
        "\n",
        "x_sol = odeint(system_ode, x0, t, args=(A, B, K,x_d, u_d )) # integrate system \"sys_ode\" from initial state $x0$\n",
        "\n",
        "from matplotlib.pyplot import *\n",
        "\n",
        "plot(t, x_sol[:,0], 'r', linewidth=2.0)\n",
        "plot(t, x_sol[:,1], 'b', linewidth=2.0)\n",
        "grid(color='black', linestyle='--', linewidth=1.0, alpha = 0.7)\n",
        "grid(True)\n",
        "xlim([t0, tf])\n",
        "ylabel(r'Position ${y}$ (m)')\n",
        "xlabel(r'Time $t$ (s)')\n",
        "show()"
      ],
      "execution_count": null,
      "outputs": [
        {
          "output_type": "display_data",
          "data": {
            "image/png": "[encoded data removed]",
            "text/plain": [
              "<Figure size 432x288 with 1 Axes>"
            ]
          },
          "metadata": {
            "tags": [],
            "needs_background": "light"
          }
        }
      ]
    },
    {
      "cell_type": "markdown",
      "metadata": {
        "id": "-Nl7EaBShXzu"
      },
      "source": [
        "## **Tracking**\n",
        "In case of tracking a desired signal is given by function of time $\\mathbf{x}_d(t)$, thus $\\dot{\\mathbf{x}}_d \\neq \\mathbf{0}$ and in order to calculate feedforward one should be able to solve:\n",
        "\\begin{equation}\n",
        "\\dot{\\mathbf{x}}_d = \\mathbf{A}\\mathbf{x}_d + \\mathbf{B}\\mathbf{u}_d\n",
        "\\end{equation}\n",
        "\n",
        "Then applying control law:\n",
        "\\begin{equation}\n",
        "\\mathbf{u} = \\mathbf{K}\\mathbf{\\tilde{x}} + \\mathbf{u}_d\n",
        "\\end{equation}\n",
        "\n",
        "yields:\n",
        "\\begin{equation}\n",
        "\\dot{\\tilde{\\mathbf{x}}}=(\\mathbf{A} - \\mathbf{B}\\mathbf{K})\\tilde{\\mathbf{x}}\n",
        "\\end{equation}"
      ]
    },
    {
      "cell_type": "code",
      "metadata": {
        "id": "7V1pKvTldWDP"
      },
      "source": [
        "# CODE FOR TRACKING PROBLEM"
      ],
      "execution_count": null,
      "outputs": []
    },
    {
      "cell_type": "markdown",
      "metadata": {
        "id": "LFhTSmgYWaDW"
      },
      "source": [
        "### **Bonus: Frequency responce**\n",
        "\n",
        "\n",
        "Simulate the equations of DC motor for a sinusoidal input voltage $V = A \\sin\\omega t$ and analyze responce in angle $\\theta$.\n",
        "\n",
        "How does the choice of $\\omega$ affects the result?\n",
        "\n",
        "Watch [video](https://youtu.be/bU7y051Ejgw) on \"frequency responce\" and find how you could use the proposed method to analyse the effect of $\\omega$ in your problem.\n",
        "\n",
        "**Note:** To plot the frequancy rersponce it is convinient to use   ```scipy.signal.ss2tf``` and ```scipy.signal.freqz```\n",
        "\n"
      ]
    }
  ]
}