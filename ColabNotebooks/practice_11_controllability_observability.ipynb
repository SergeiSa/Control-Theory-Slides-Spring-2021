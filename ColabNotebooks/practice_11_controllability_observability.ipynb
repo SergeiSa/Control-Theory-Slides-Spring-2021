{
  "nbformat": 4,
  "nbformat_minor": 0,
  "metadata": {
    "colab": {
      "name": "[CT21] 11_controllability_observability.ipynb",
      "provenance": [],
      "collapsed_sections": [],
      "include_colab_link": true
    },
    "kernelspec": {
      "name": "python3",
      "display_name": "Python 3"
    }
  },
  "cells": [
    {
      "cell_type": "markdown",
      "metadata": {
        "id": "view-in-github",
        "colab_type": "text"
      },
      "source": [
        "<a href=\"https://colab.research.google.com/github/SergeiSa/Control-Theory-Slides-Spring-2021/blob/main/ColabNotebooks/practice_11_controllability_observability.ipynb\" target=\"_parent\"><img src=\"https://colab.research.google.com/assets/colab-badge.svg\" alt=\"Open In Colab\"/></a>"
      ]
    },
    {
      "cell_type": "markdown",
      "metadata": {
        "id": "zPmrTNlSBW-R"
      },
      "source": [
        "# **Practice 11: Controllability**\n",
        "\n",
        "---"
      ]
    },
    {
      "cell_type": "markdown",
      "metadata": {
        "id": "DEdCnYFHUUSS"
      },
      "source": [
        "## **Motivation**\n",
        "\n",
        "**Controllability** is an important property of a control system, and the controllability property plays a crucial role in many control problems, such as stabilization of unstable systems by feedback, or optimal control.\n",
        "\n",
        "Roughly, the concept of controllability denotes the **ability to move a system around in its entire configuration space using only certain admissible manipulations**. The exact definition varies slightly within the framework or the type of models applied.\n",
        "\n",
        "We can informally define controllability as follows: \n",
        "\n",
        "If for some initial state $\\mathbf {x_{0}}$  and some final state $\\mathbf {x_{f}}$ there exists an input sequence to transfer the system state from $\\mathbf {x_{0}}$  to $\\mathbf {x_{f}}$ in a finite time interval, then the system modeled by the state-space representation is controllable.\n",
        "\n",
        "For the controllable system we can **place the poles at arbitary desired location** on the complex plane\n"
      ]
    },
    {
      "cell_type": "markdown",
      "metadata": {
        "id": "u8MGmtB_u5Li"
      },
      "source": [
        "### **Full State Controlability (Kalman)**\n",
        "Consider the descrete or continues time systems:\n",
        "\\begin{equation}\n",
        "\\dot{\\mathbf{x}}\n",
        "=\n",
        "\\mathbf{A}\\mathbf{x}\n",
        "+ \n",
        "\\mathbf{B}\\mathbf{u}\n",
        "\\\\\n",
        "\\mathbf{x}_{k+1}\n",
        "=\n",
        "\\mathbf{A}_d\\mathbf{x}_k\n",
        "+ \n",
        "\\mathbf{B}_d\\mathbf{u}_k\n",
        "\\end{equation}\n",
        "The $n\\times nm$ controllability matrix is given by\n",
        "\n",
        "\\begin{equation}\n",
        "\\mathcal{\\mathbf{R}}=\n",
        "{\\begin{bmatrix}\n",
        "\\mathbf{B}&\n",
        "\\mathbf{AB}&\n",
        "\\mathbf{A^{{2}}B}&\n",
        "...&\n",
        "\\mathbf{A^{{n-1}}B}\n",
        "\\end{bmatrix}}\n",
        "\\end{equation}\n",
        "The system is **full state controllable** iff the controllability matrix has full row rank:\n",
        "\\begin{equation}\n",
        "\\text{rank}\\{\\mathcal{\\mathbf{R}}\\}\n",
        "=n\n",
        "\\end{equation}\n"
      ]
    },
    {
      "cell_type": "code",
      "metadata": {
        "id": "ex834kChHu-K",
        "colab": {
          "base_uri": "https://localhost:8080/"
        },
        "outputId": "e71fb79f-d8bd-4e21-8864-2086add75dd3"
      },
      "source": [
        "import numpy as np\n",
        "\n",
        "def ctrb(A, B):\n",
        "  R = B\n",
        "  n = np.shape(A)[0]\n",
        "  # print(n)\n",
        "  for i in range(1,n):\n",
        "    A_pwr_n = np.linalg.matrix_power(A, i) \n",
        "    R = np.hstack((R,A_pwr_n.dot(B)))\n",
        "  rank_R = np.linalg.matrix_rank(R)\n",
        "  \n",
        "  if rank_R == n:\n",
        "    test = 'controllable'\n",
        "  else:\n",
        "    test = 'uncontrollable'\n",
        "  return R, rank_R, test\n",
        "\n",
        "A = [[0,1],\n",
        "     [-2,-3]]\n",
        "A = np.array(A)\n",
        "\n",
        "B = [[0],\n",
        "     [1]]\n",
        "     \n",
        "B = np.array(B)\n",
        "\n",
        "R, rank, test = ctrb(A, B)\n",
        "print(f'Contralability matrix:\\n{R}\\n\\nRank of the controlability matrix: {rank},\\nsystem is {test}' )"
      ],
      "execution_count": null,
      "outputs": [
        {
          "output_type": "stream",
          "text": [
            "Contralability matrix:\n",
            "[[ 0  1]\n",
            " [ 1 -3]]\n",
            "\n",
            "Rank of the controlability matrix: 2,\n",
            "system is controllable\n"
          ],
          "name": "stdout"
        }
      ]
    },
    {
      "cell_type": "code",
      "metadata": {
        "colab": {
          "base_uri": "https://localhost:8080/"
        },
        "id": "lCzoAU3HTIXD",
        "outputId": "66da87d1-e184-4270-c3c7-5fa180d3e303"
      },
      "source": [
        "M, m, l, b, g = 2, .2, 0.2, 0.1, 9.81\n",
        "\n",
        "A = [[0, 1, 0, 0], \n",
        "     [g*(M+m)/(M*l), 0 , 0, 0],\n",
        "     [0,0,0,1],\n",
        "     [-m*g/M, 0, 0,0]]\n",
        "     \n",
        "A = np.array(A)\n",
        "\n",
        "B = [[0], \n",
        "     [-1/(M*l)], \n",
        "     [0], \n",
        "     [1/M]]\n",
        "\n",
        "B = np.array(B)\n",
        "\n",
        "R, rank, test = ctrb(A, B)\n",
        "print(f'Contralability matrix:\\n{R}\\n\\nRank of the controlability matrix: {rank},\\nsystem is {test}' )"
      ],
      "execution_count": null,
      "outputs": [
        {
          "output_type": "stream",
          "text": [
            "Contralability matrix:\n",
            "[[   0.       -2.5       0.     -134.8875]\n",
            " [  -2.5       0.     -134.8875    0.    ]\n",
            " [   0.        0.5       0.        2.4525]\n",
            " [   0.5       0.        2.4525    0.    ]]\n",
            "\n",
            "Rank of the controlability matrix: 4,\n",
            "system is controllable\n"
          ],
          "name": "stdout"
        }
      ]
    },
    {
      "cell_type": "markdown",
      "metadata": {
        "id": "RWyfe7kEnIel"
      },
      "source": [
        "### **Popov-Belevitch-Hautus test**\n",
        "\n",
        "The pair $\\{ \\mathbf{A}, \\mathbf{B}\\}$is said to be controllable iff:\n",
        "\n",
        "\\begin{equation}\n",
        "\\text{rank}\\{ \n",
        "\\begin{bmatrix}\n",
        "\\mathbf{A} - \\zeta \\mathbf{I}\n",
        "&\n",
        "\\mathbf{B}\n",
        "\\end{bmatrix}\n",
        "  \\} =n, \\quad\n",
        "  \\forall \\zeta \\in \n",
        "  \\mathbb{C}\n",
        "\\end{equation}\n",
        "\n",
        "However the only way for $\\mathbf{A} - \\lambda\\mathbf{I}$ to lose the rank is for $\\lambda$ to be the eigenvalue of $\\mathbf{A}$, thus instead of checking the entire complex plane we may consider just the eigenvalues:\n",
        "\n",
        "\\begin{equation}\n",
        "\\text{rank}\\{ \n",
        "\\begin{bmatrix}\n",
        "\\mathbf{A} - \\lambda_i \\mathbf{I}\n",
        "&\n",
        "\\mathbf{B}\n",
        "\\end{bmatrix}\n",
        "  \\} =n, \\quad\n",
        "  \\forall i \\in \n",
        "  \\{1, 2,\\dots, n\\}\n",
        "\\end{equation}\n",
        "\n"
      ]
    },
    {
      "cell_type": "code",
      "metadata": {
        "id": "J2BApExN4-rw",
        "colab": {
          "base_uri": "https://localhost:8080/"
        },
        "outputId": "5189208c-72b1-4a71-c692-94736b7ad249"
      },
      "source": [
        "def pbh(A, B):\n",
        "    lambdas, v = np.linalg.eig(A)\n",
        "    n = np.shape(A)[0]\n",
        "    ranks = n*[0]\n",
        "    test = 'controllable'\n",
        "    for i in range(n):\n",
        "      A_e = A - lambdas[i]*np.eye(n)\n",
        "      M = np.hstack((A_e, B))\n",
        "      ranks[i] = np.linalg.matrix_rank(M)\n",
        "      if ranks[i] != n:\n",
        "        test = 'uncontrollable'\n",
        "    return lambdas, ranks , test\n",
        "\n",
        "\n",
        "eigs, ranks, test = pbh(A,B)\n",
        "print(f'Eigen values of PBH matrices:\\n{eigs}\\n\\nRanks of the PBH matrices: {ranks},\\nsystem is {test}' )\n"
      ],
      "execution_count": null,
      "outputs": [
        {
          "output_type": "stream",
          "text": [
            "Eigen values of PBH matrices:\n",
            "[ 0.          0.          7.34540673 -7.34540673]\n",
            "\n",
            "Ranks of the PBH matrices: [4, 4, 4, 4],\n",
            "system is controllable\n"
          ],
          "name": "stdout"
        }
      ]
    },
    {
      "cell_type": "markdown",
      "metadata": {
        "id": "O-oqxaH24_Jy"
      },
      "source": [
        "\n",
        "it is interesting to see that:\n",
        "\\begin{equation}\n",
        "\\mathbf{B}\n",
        "\\notin\n",
        "\\mathcal{C}(\\mathbf{A} - \\lambda_i \\mathbf{I})\n",
        "\\quad\n",
        "\\forall i \\in \n",
        "\\{1, 2,\\dots, n\\}\n",
        "\\end{equation}\n",
        "\n",
        "The matrix $\\mathbf{B}$ better to not be aligned with **some of the eigenvectors** "
      ]
    },
    {
      "cell_type": "code",
      "metadata": {
        "id": "IAqnf6lz_oN2",
        "colab": {
          "base_uri": "https://localhost:8080/"
        },
        "outputId": "ce81cd1b-118f-4e3c-e4a6-29edbaeba8b4"
      },
      "source": [
        "from scipy.linalg import null_space, orth\n",
        "# scipy.linalg.orth(A)\n",
        "A = [[1,2,3],\n",
        "     [2,1,0],\n",
        "     [0,2,4]]\n",
        "\n",
        "A = np.array(A)\n",
        "lambdas, v = np.linalg.eig(A)\n",
        "print(v)\n",
        "B = [v[:,0]+v[:,1]]\n",
        "B = [[0],[0],[1]]\n",
        "B = np.array(B)\n",
        "\n",
        "R, rank, test = ctrb(A, B)\n",
        "print(f'Contralability matrix:\\n{R}\\n\\nRank of the controlability matrix: {rank},\\nsystem is {test}' )\n",
        "\n",
        "eigs, ranks, test = pbh(A,B)\n",
        "print(f'Eigen values of PBH matrices:\\n{eigs}\\n\\nRanks of the PBH matrices: {ranks},\\nsystem is {test}' )\n"
      ],
      "execution_count": null,
      "outputs": [
        {
          "output_type": "stream",
          "text": [
            "[[ 4.08248290e-01 -8.46641303e-16  6.66666667e-01]\n",
            " [-8.16496581e-01  8.32050294e-01  3.33333333e-01]\n",
            " [ 4.08248290e-01 -5.54700196e-01  6.66666667e-01]]\n",
            "Contralability matrix:\n",
            "[[ 0  3 15]\n",
            " [ 0  0  6]\n",
            " [ 1  4 16]]\n",
            "\n",
            "Rank of the controlability matrix: 3,\n",
            "system is controllable\n",
            "Eigen values of PBH matrices:\n",
            "[4.4408921e-16 1.0000000e+00 5.0000000e+00]\n",
            "\n",
            "Ranks of the PBH matrices: [3, 3, 3],\n",
            "system is controllable\n"
          ],
          "name": "stdout"
        }
      ]
    },
    {
      "cell_type": "markdown",
      "metadata": {
        "id": "GsfxAs8lE1oA"
      },
      "source": [
        "Moreover condition above provide the insight on the **minimal number of the control channels** that we need for sytem to be controllable and is directly related to the multiplicity of the eigenvalues\n",
        "\n"
      ]
    },
    {
      "cell_type": "code",
      "metadata": {
        "id": "mLwbtlaQFBFR",
        "colab": {
          "base_uri": "https://localhost:8080/"
        },
        "outputId": "38e35f78-fc3b-467c-b264-9e19fd894c73"
      },
      "source": [
        "m = 1\n",
        "k1 = 3\n",
        "k2 = 3\n",
        "A = [[0,1,0,0],\n",
        "     [-k1/m,0,0,0],\n",
        "     [0,0,0, 1],\n",
        "     [0,0,-k2/m,0]]\n",
        "A = np.array(A)\n",
        "B = [[0],[1/m],[0],[1/m]]\n",
        "\n",
        "B = [[0,0],[1/m,0],[0,0],[0,1/m]]\n",
        "B = np.array(B)\n",
        "lambdas, v = np.linalg.eig(A)\n",
        "\n",
        "eigs, ranks, test = pbh(A,B)\n",
        "print(f'Eigen values of PBH matrices:\\n{eigs}\\n\\nRanks of the PBH matrices: {ranks},\\nsystem is {test}' )\n",
        "\n",
        "\n",
        "print(lambdas)"
      ],
      "execution_count": null,
      "outputs": [
        {
          "output_type": "stream",
          "text": [
            "Eigen values of PBH matrices:\n",
            "[0.+1.73205081j 0.-1.73205081j 0.+1.73205081j 0.-1.73205081j]\n",
            "\n",
            "Ranks of the PBH matrices: [4, 4, 4, 4],\n",
            "system is controllable\n",
            "[0.+1.73205081j 0.-1.73205081j 0.+1.73205081j 0.-1.73205081j]\n"
          ],
          "name": "stdout"
        }
      ]
    },
    {
      "cell_type": "markdown",
      "metadata": {
        "id": "Vvc-lUC7EFsf"
      },
      "source": [
        "It is clear that **multiplicity $\\gamma$ of the eigenvalues** is 2."
      ]
    },
    {
      "cell_type": "code",
      "metadata": {
        "colab": {
          "base_uri": "https://localhost:8080/"
        },
        "id": "NCKWp4NFDmk2",
        "outputId": "4d88a287-9b98-4c65-db38-3046b148e0c9"
      },
      "source": [
        "  n = len(lambdas)\n",
        "\n",
        "  for i in range(n):\n",
        "    A_e = A - lambdas[i]*np.eye(n)\n",
        "    print(f'Eigenvalue s: {lambdas[i]}')\n",
        "    print(f'Rank of A - sI: {np.linalg.matrix_rank(A_e)}')\n",
        "    print(f'Rank difficiency: {n - np.linalg.matrix_rank(A_e)}\\n')"
      ],
      "execution_count": null,
      "outputs": [
        {
          "output_type": "stream",
          "text": [
            "Eigenvalue s: 1.7320508075688772j\n",
            "Rank of A - sI: 2\n",
            "Rank difficiency: 2\n",
            "\n",
            "Eigenvalue s: -1.7320508075688772j\n",
            "Rank of A - sI: 2\n",
            "Rank difficiency: 2\n",
            "\n",
            "Eigenvalue s: 1.7320508075688772j\n",
            "Rank of A - sI: 2\n",
            "Rank difficiency: 2\n",
            "\n",
            "Eigenvalue s: -1.7320508075688772j\n",
            "Rank of A - sI: 2\n",
            "Rank difficiency: 2\n",
            "\n"
          ],
          "name": "stdout"
        }
      ]
    },
    {
      "cell_type": "markdown",
      "metadata": {
        "id": "6O2QcV6fE-VK"
      },
      "source": [
        "thus we need at least $m = n - \\gamma$ control channels to control the system"
      ]
    },
    {
      "cell_type": "code",
      "metadata": {
        "colab": {
          "base_uri": "https://localhost:8080/"
        },
        "id": "9JUQyODTFSI9",
        "outputId": "bd8138c6-f4eb-4112-bc72-aaded06a93b3"
      },
      "source": [
        "A = [[0,1,0,0],\n",
        "     [0,0,1,0],\n",
        "     [0,0,0,1],\n",
        "     [-2,1,-3,4]]\n",
        "A = np.array(A)\n",
        "\n",
        "lambdas, v = np.linalg.eig(A)\n",
        "\n",
        "n = len(lambdas)\n",
        "for i in range(n):\n",
        "  A_e = A - lambdas[i]*np.eye(n)\n",
        "  print(f'Eigenvalue s: {lambdas[i]}')\n",
        "  print(f'Rank of A - sI: {np.linalg.matrix_rank(A_e)}')\n",
        "  print(f'Rank difficiency: {n - np.linalg.matrix_rank(A_e)}\\n')\n",
        "\n",
        "B = [[0],[0],[0],[1]]\n",
        "B = np.array(B)\n",
        "eigs, ranks, test = pbh(A,B)\n",
        "print(f'Eigen values of PBH matrices:\\n{eigs}\\n\\nRanks of the PBH matrices: {ranks},\\nsystem is {test}' )\n"
      ],
      "execution_count": null,
      "outputs": [
        {
          "output_type": "stream",
          "text": [
            "Eigenvalue s: (3.0550069569440637+0j)\n",
            "Rank of A - sI: 3\n",
            "Rank difficiency: 1\n",
            "\n",
            "Eigenvalue s: (1.2648353428932393+0j)\n",
            "Rank of A - sI: 3\n",
            "Rank difficiency: 1\n",
            "\n",
            "Eigenvalue s: (-0.15992114991865097+0.7014362052215042j)\n",
            "Rank of A - sI: 3\n",
            "Rank difficiency: 1\n",
            "\n",
            "Eigenvalue s: (-0.15992114991865097-0.7014362052215042j)\n",
            "Rank of A - sI: 3\n",
            "Rank difficiency: 1\n",
            "\n",
            "Eigen values of PBH matrices:\n",
            "[ 3.05500696+0.j          1.26483534+0.j         -0.15992115+0.70143621j\n",
            " -0.15992115-0.70143621j]\n",
            "\n",
            "Ranks of the PBH matrices: [4, 4, 4, 4],\n",
            "system is controllable\n"
          ],
          "name": "stdout"
        }
      ]
    },
    {
      "cell_type": "markdown",
      "metadata": {
        "id": "xSxhOkVbk9n_"
      },
      "source": [
        "### **Degrees of Controlability**\n",
        "\n",
        "A Kalman test given above is indeed usefull while providing the binary answer to the question does the system is controllable or not. However it may be the case that system is barely controllable, so system may pass controlability test but in practice may not be controllable or designed controller **provide poor performance/not implemntable gains**."
      ]
    },
    {
      "cell_type": "code",
      "metadata": {
        "id": "MZDxcbXkk9D0",
        "colab": {
          "base_uri": "https://localhost:8080/"
        },
        "outputId": "dca8c521-0880-4907-931d-0f9abb753752"
      },
      "source": [
        "from scipy.signal import place_poles\n",
        "m = 1\n",
        "k1 = 3\n",
        "k2 = 3\n",
        "A = [[0,1,0,0],\n",
        "     [-k1/m,0,0,0],\n",
        "     [0,0,0, 1],\n",
        "     [0,0,-k2/m,0]]\n",
        "A = np.array(A)\n",
        "\n",
        "B = [[0, 0 ],\n",
        "     [1/m, 0 ], \n",
        "     [0, 0], \n",
        "     [ 0,1/m]]\n",
        "\n",
        "B = np.array(B)\n",
        "\n",
        "eigs, ranks, test = pbh(A,B)\n",
        "print(f'Eigen values of PBH matrices:\\n{eigs}\\n\\nRanks of the PBH matrices: {ranks},\\nsystem is {test}' )\n",
        "\n",
        "P = np.array([-1,-2,-3,-4])\n",
        "pp = place_poles(A, B, P)\n",
        "K = pp.gain_matrix\n",
        "print(K)"
      ],
      "execution_count": null,
      "outputs": [
        {
          "output_type": "stream",
          "text": [
            "Eigen values of PBH matrices:\n",
            "[0.+1.73205081j 0.-1.73205081j 0.+1.73205081j 0.-1.73205081j]\n",
            "\n",
            "Ranks of the PBH matrices: [4, 4, 4, 4],\n",
            "system is controllable\n",
            "[[4.72093174 5.88837381 1.14781568 0.45912492]\n",
            " [1.14779945 0.45911681 0.27906826 4.11162619]]\n"
          ],
          "name": "stdout"
        }
      ]
    },
    {
      "cell_type": "markdown",
      "metadata": {
        "id": "VIle3GpMna9W"
      },
      "source": [
        "### **Stabilizability**\n",
        "\n",
        "A slightly weaker notion than controllability is that of stabilizability. A system is said to be stabilizable when all uncontrollable state variables can be made to have stable dynamics. Thus, even though some of the state variables **cannot be controlled** (as determined by the controllability test above) all the state variables will still remain **bounded during** the system's behavior.\n",
        "\n",
        "**Stabilizable** systems should be controllable only for the unstable eigenvalues i.e:\n",
        "\n",
        "\\begin{equation}\n",
        "\\text{rank}\\{ \n",
        "\\begin{bmatrix}\n",
        "\\mathbf{A} - \\lambda_i \\mathbf{I}\n",
        "&\n",
        "\\mathbf{B}\n",
        "\\end{bmatrix}\n",
        "  \\} =n, \\quad\n",
        "  \\forall \\lambda \\in \\{c: \\text{Re}(c)\\geq0\\}\n",
        "\\end{equation}"
      ]
    },
    {
      "cell_type": "code",
      "metadata": {
        "id": "nN0SPS6yHkoX",
        "colab": {
          "base_uri": "https://localhost:8080/",
          "height": 581
        },
        "outputId": "3db7e947-6ba7-4d4d-b13f-15418af10758"
      },
      "source": [
        "from scipy.integrate import odeint \n",
        "from matplotlib.pyplot import *\n",
        "\n",
        "\n",
        "A = [[1,1],\n",
        "     [0,-1]]\n",
        "A = np.array(A)\n",
        "\n",
        "B = [[1],\n",
        "     [0]]\n",
        "B = np.array(B)\n",
        "\n",
        "def f(x, t, A, B):\n",
        "    x_1, x_2 = x\n",
        "    \n",
        "    u = -2*x_1 +2*x_2\n",
        "    # u = 0\n",
        "    dx_1 = A[0,0]*x_1 + A[0,1]*x_2 + B[0,0]*u\n",
        "    dx_2 = A[1,0]*x_1 + A[1,1]*x_2 + B[1,0]*u\n",
        "\n",
        "    return dx_1, dx_2\n",
        "\n",
        "t0 = 0 # Initial time \n",
        "tf = 8 # Final time\n",
        "t = np.linspace(t0, tf, 1000)\n",
        "\n",
        "x0 = [0.5,0.5]  # initial state\n",
        "\n",
        "solution = {\"ss\": odeint(f, x0, t, args = (A, B))}\n",
        "x1, x2 = solution['ss'][:,0], solution['ss'][:,1]\n",
        "\n",
        "\n",
        "\n",
        "\n",
        "figure(figsize=(9, 3))\n",
        "plot(t, solution['ss'], linewidth=2.0)\n",
        "grid(color='black', linestyle='--', linewidth=1.0, alpha = 0.7)\n",
        "grid(True)\n",
        "xlim([t0, tf])\n",
        "ylabel(r'State space ${x}$')\n",
        "xlabel(r'Time $t$')\n",
        "show()\n",
        "\n",
        "\n",
        "x1_max, x2_max = 1.5, 1.5\n",
        "x1_span = np.arange(-x1_max,x2_max,0.1)\n",
        "x2_span = np.arange(-x1_max,x2_max,0.1)\n",
        "x1_grid, x2_grid = np.meshgrid(x1_span, x2_span)\n",
        "\n",
        "figure(figsize=(5, 5))\n",
        "title('Phase Plane')\n",
        "# Varying color along a streamline\n",
        "L = (x1_grid**2 + x2_grid**2)**0.5\n",
        "lw = 3*L / L.max()\n",
        "contourf(x1_span, x2_span, L, cmap='autumn', alpha = 0.25)\n",
        "\n",
        "dx1, dx2 = f([x1_grid, x2_grid],t, A, B)\n",
        "\n",
        "strm = streamplot(x1_span, x2_span, dx1, dx2, density = 1,color=L, cmap='autumn', linewidth = lw)\n",
        "seed_points = np.array([x0[0], x0[1]])\n",
        "\n",
        "\n",
        "plot(x1, x2, 'r-', lw = 3.0)\n",
        "plot(seed_points[0], seed_points[1], 'ro', lw = 10)\n",
        "hlines(0, -x1_max, x2_max,color = 'red', linestyle = '--', alpha = 0.6)\n",
        "vlines(0, -x1_max, x2_max,color = 'red', linestyle = '--', alpha = 0.6)\n",
        "xlim([-0.9*x1_max,0.9*x2_max])\n",
        "ylim([-0.9*x2_max,0.9*x2_max])\n",
        "xlabel(r'State ${x}_1$')\n",
        "ylabel(r'State ${x}_2$')\n",
        "tight_layout()\n",
        "show()"
      ],
      "execution_count": null,
      "outputs": [
        {
          "output_type": "display_data",
          "data": {
            "image/png": "[encoded data removed]",
            "text/plain": [
              "<Figure size 648x216 with 1 Axes>"
            ]
          },
          "metadata": {
            "tags": [],
            "needs_background": "light"
          }
        },
        {
          "output_type": "display_data",
          "data": {
            "image/png": "[encoded data removed]",
            "text/plain": [
              "<Figure size 360x360 with 1 Axes>"
            ]
          },
          "metadata": {
            "tags": [],
            "needs_background": "light"
          }
        }
      ]
    },
    {
      "cell_type": "code",
      "metadata": {
        "colab": {
          "base_uri": "https://localhost:8080/"
        },
        "id": "gTkCPrb60K05",
        "outputId": "b069ee76-c363-4008-d70f-d48713b3311d"
      },
      "source": [
        "\n",
        "R, rank, test = ctrb(A, B)\n",
        "print(f'Contralability matrix:\\n{R}\\n\\nRank of the controlability matrix: {rank},\\nsystem is {test}' )\n"
      ],
      "execution_count": null,
      "outputs": [
        {
          "output_type": "stream",
          "text": [
            "Contralability matrix:\n",
            "[[1 1]\n",
            " [0 0]]\n",
            "\n",
            "Rank of the controlability matrix: 1,\n",
            "system is uncontrollable\n"
          ],
          "name": "stdout"
        }
      ]
    },
    {
      "cell_type": "markdown",
      "metadata": {
        "id": "XcjByvZ3rvIu"
      },
      "source": [
        "Let's run the slightly modifed PBH test on this system:"
      ]
    },
    {
      "cell_type": "code",
      "metadata": {
        "colab": {
          "base_uri": "https://localhost:8080/"
        },
        "id": "xzvBrjgyruwN",
        "outputId": "1c697231-89bb-423d-e07a-634815320277"
      },
      "source": [
        "def pbh(A, B):\n",
        "    lambdas, v = np.linalg.eig(A)\n",
        "    n = np.shape(A)[0]\n",
        "    ranks = n*[0]\n",
        "    # M = n*[0]\n",
        "    test = 'controllable'\n",
        "    for i in range(n):\n",
        "      M = np.hstack((A - lambdas[i]*np.eye(n), B))\n",
        "      ranks[i] = np.linalg.matrix_rank(M)\n",
        "      if ranks[i] != n:\n",
        "        test = 'uncontrollable'\n",
        "        if np.real(lambdas[i])<0:\n",
        "          test += ' but stabilizable'\n",
        "    return ranks, lambdas, test\n",
        "\n",
        "\n",
        "eigs, ranks, test = pbh(A,B)\n",
        "print(f'Eigen values of PBH matrices:\\n{eigs}\\n\\nRanks of the PBH matrices: {ranks},\\nsystem is {test}' )\n"
      ],
      "execution_count": null,
      "outputs": [
        {
          "output_type": "stream",
          "text": [
            "Eigen values of PBH matrices:\n",
            "[2, 1]\n",
            "\n",
            "Ranks of the PBH matrices: [ 1. -1.],\n",
            "system is uncontrollable but stabilizable\n"
          ],
          "name": "stdout"
        }
      ]
    },
    {
      "cell_type": "markdown",
      "metadata": {
        "id": "H608E584MQst"
      },
      "source": [
        "### **HW Problem:**\n",
        "\n",
        "Consider a satellite described by the following equations:\n",
        "\\begin{equation}\n",
        "\\left\\{\\begin{matrix}\n",
        "m\\ddot{r}=m r\\dot{\\theta}^2  -G\\cfrac{m M}{r^2} + u_1\n",
        "\\\\ \n",
        "mr\\ddot{\\theta}=-2 m \\dot{r}\\dot{\\theta}+ u_2\n",
        "\\end{matrix}\\right.\n",
        "\\end{equation}\n",
        "\n",
        "try to answer if it is possible to stabilize the satelite nearby the desired orbit with constant radius $r_d = \\text{const}$ by only one control input (either $u_1$ or $u_2$)\n",
        "\n",
        "***Hint:*** Obtain the desired trajectory $\\mathbf{x}_d$ by substituting $r_d$ to the dynamics above and find the linearized version ($\\mathbf{A,B}$), then use techniques that you have studied in this class.  \n",
        "\n",
        "#### **Bonus:**\n",
        "Check if it is possible to use either only $r$ or $\\theta$ to design controller, if it's so design the observer to estimate the full state. "
      ]
    },
    {
      "cell_type": "code",
      "metadata": {
        "id": "nZV5wFi2ONap"
      },
      "source": [
        "# Parametres\n",
        "re=\t1737.10e+3\n",
        "r0 = re + 50.0e+4;\n",
        "\n",
        "m = 100;\n",
        "G = 6.67408e-11;\n",
        "M = 7.3477e+22 \n",
        "k = G*M;\n"
      ],
      "execution_count": null,
      "outputs": []
    }
  ]
}