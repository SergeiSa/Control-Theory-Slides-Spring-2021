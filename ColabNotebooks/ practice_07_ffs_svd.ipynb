{
  "nbformat": 4,
  "nbformat_minor": 0,
  "metadata": {
    "colab": {
      "name": "[CT21] lab07_ffs_svd.ipynb",
      "provenance": [],
      "collapsed_sections": [],
      "include_colab_link": true
    },
    "kernelspec": {
      "name": "python3",
      "display_name": "Python 3"
    }
  },
  "cells": [
    {
      "cell_type": "markdown",
      "metadata": {
        "id": "view-in-github",
        "colab_type": "text"
      },
      "source": [
        "<a href=\"https://colab.research.google.com/github/SergeiSa/Control-Theory-Slides-Spring-2021/blob/main/ColabNotebooks/%20practice_07_ffs_svd.ipynb\" target=\"_parent\"><img src=\"https://colab.research.google.com/assets/colab-badge.svg\" alt=\"Open In Colab\"/></a>"
      ]
    },
    {
      "cell_type": "markdown",
      "metadata": {
        "id": "zPmrTNlSBW-R"
      },
      "source": [
        "# **Practice 7: Fundamental Subspaces and SVD**\n",
        "## **Goals for today**\n",
        "\n",
        "---\n",
        "\n",
        "During today practice we will:\n",
        "*   Exploit a structure of linear mapping between inputs and outputs.\n"
      ]
    },
    {
      "cell_type": "markdown",
      "metadata": {
        "id": "kgF8BN0GTBfP"
      },
      "source": [
        "## **Four Fundamental Subspaces. Recall**\n",
        "---\n",
        ">As we have studied on the lectures there are four fundamental subspaces accompanying any linear operator (matrix) $\\mathbf{A}^{m \\times n}$, namely:\n",
        ">*   **Column** space (range, image): $\\mathcal{C}(\\mathbf{A}) \\in \\mathbb{R}^m$ \n",
        ">*   **Null** space (kernel): $\\mathcal{N}(\\mathbf{A}) \\in \\mathbb{R}^n$\n",
        ">*   **Row** space: $\\mathcal{R}(\\mathbf{A}) = \\mathcal{C}(\\mathbf{A}^T)  \\in \\mathbb{R}^n$\n",
        ">*   **Left null** space: $\\mathcal{N}(\\mathbf{A}^T) \\in \\mathbb{R}^m$\n",
        "---\n",
        "\n",
        "## **Linear Mapping**\n",
        "\n",
        ">Let us consider following equation kinematic relationship:\n",
        ">\\begin{equation}\n",
        "  \\mathbf{y} = \\mathbf{A}\\mathbf{x}\n",
        "\\end{equation}\n",
        ">where\n",
        ">\n",
        ">*   $\\mathbf{A} \\in \\mathbb{R}^{m \\times n}$ is linear operator (matrix)\n",
        "*   $\\mathbf{x} \\in \\mathbb{R}^n$ are inputs of operator $\\mathbf{A}$\n",
        "*   $\\mathbf{y} \\in \\mathbb{R}^m$ are outputs of operator $\\mathbf{A}$\n",
        "\n",
        "This equations can be characterized in terms of the columns space $\\mathcal{C}(\\mathbf{A})$ (range) and null space $\\mathcal{N}(\\mathbf{A})$ of the mapping $\\mathbf{A}$\n",
        "\n",
        "*   The column space of $\\mathbf{A}$ is the subspace $\\mathcal{C}(\\mathbf{A}) \\in \\mathbb{R}^m$ of outputs $\\mathbf{y}$ that can be produced by inputs $\\mathbf{x}$\n",
        "*   The null space of $\\mathbf{A}$ is the subspace $\\mathcal{N}(\\mathbf{A}) \\in \\mathbb{R}^n$ of inputs $\\mathbf{x}$ that produce zero output $\\mathbf{y}$.\n",
        "\n",
        "<p><img alt=\"linear mapping\" height=\"300px\" src=\"https://drive.google.com/uc?id=1TFwh51MsJEZpIwGdo9imvne2Bl8_DXvX\" align=\"center\" hspace=\"250px\" vspace=\"0px\"></p>\n",
        "\n",
        "If the matrix $\\mathbf{A}$ have full rank, one has $\\text{dim}\\{\\mathcal{C}(\\mathbf{A})\\} = m,\\text{dim}\\{\\mathcal{N}(\\mathbf{A})\\} = n - m $. \n",
        "\n",
        "\n",
        "\n",
        "\n",
        "\n",
        "\n"
      ]
    },
    {
      "cell_type": "code",
      "metadata": {
        "colab": {
          "base_uri": "https://localhost:8080/"
        },
        "id": "PTlAj8zrNvtB",
        "outputId": "99af42fa-668c-4fd5-8bd4-2a2fb3984e9e"
      },
      "source": [
        "from scipy.linalg import null_space, orth\n",
        "A = [[0, 0], \n",
        "     [0, -1]]\n",
        "\n",
        "print(f\"Null space:\\n {null_space(A)}\\n\")\n",
        "\n",
        "print(f\"Column space:\\n {orth(A)}\\n\")"
      ],
      "execution_count": null,
      "outputs": [
        {
          "output_type": "stream",
          "text": [
            "Null space:\n",
            " [[1.]\n",
            " [0.]]\n",
            "\n",
            "Column space:\n",
            " [[0.]\n",
            " [1.]]\n",
            "\n"
          ],
          "name": "stdout"
        }
      ]
    },
    {
      "cell_type": "markdown",
      "metadata": {
        "id": "4mkxyZoho9n2"
      },
      "source": [
        "## **Singular Value Decomposition**\n",
        "The singular value decomposition of an $m\\times n$ real or complex matrix $\\mathbf{A}$  is a factorization of the form $\\mathbf{U S V^{*}}$, where $\\mathbf {U}$  is an $m\\times m$ real or complex unitary matrix, $\\mathbf{S}$ is an ${m\\times n}$ rectangular diagonal matrix with non-negative real numbers on the diagonal, and $\\mathbf {V}$ is an $n\\times n$ real or complex unitary matrix. \n",
        "\n",
        "The diagonal entries $\\sigma_{i}=\\mathbf{S}_{ii}$ are known as the singular values of $\\mathbf{A}$. The number of non-zero singular values is equal to the rank of $\\mathbf{A}$. . Let us for now stick in to a real domain where SVD can be written as:\n",
        "\n",
        "---\n",
        "\n",
        "\\begin{equation}\n",
        "\\mathbf{A} = \\mathbf{U}\\mathbf{S}\\mathbf{V}^T\n",
        "\\end{equation}\n",
        "\n",
        "---\n",
        "\n",
        "with matrices $\\mathbf{U},\\mathbf{S},\\mathbf{V}$ above obeing following usefull properties:\n",
        "*   Rank $r$ of matrix $\\mathbf{A}$ is number of non zero singular values $\\sigma_i$ ($\\text{dim}\\{\\mathbf{S}_r\\}$)\n",
        "* Singular values $\\sigma$ of $\\mathbf{A}$ and eigenvalues $\\lambda$ of $\\mathbf{A^TA}$ (or $\\mathbf{AA^T}$) are related as $\\sigma_i = \\lambda_i^2$ \n",
        "* The columns of $\\mathbf{V}$ are eigenvectors of $A^TA$ called right singular vectors of $\\mathbf{A}$.\n",
        "* The columns of $\\mathbf{U}$ are eigenvectors of $AA^T$ called left singular vecotrs of $\\mathbf{A}$.\n",
        "* Determinant is equal to product of eigenvalues $\\det\\{\\mathbf{A}\\} = \\prod_{i=1}^r\\sigma_i$\n",
        "\n",
        ">**HW EXERCISE**: \n",
        "* Proof the statements above\n",
        "\n",
        "\n",
        "\n"
      ]
    },
    {
      "cell_type": "markdown",
      "metadata": {
        "id": "-hiCl_SzZlZi"
      },
      "source": [
        "\n",
        "### **SVD $\\rightarrow$Four Fundamental Subspaces**\n",
        "Outstanding is that SVD directly provides all **four fundamental subspaces** at once. \n",
        "\n",
        "---\n",
        "\n",
        "\\begin{equation}\n",
        "\\mathbf{A} = \\mathbf{U}\\mathbf{S}\\mathbf{V}^T = \\begin{bmatrix}\\underset{m \\times r}{\\mathbf{U}_r} & \\underset{m \\times m - r}{\\mathbf{U}_n}\n",
        "\\end{bmatrix}\n",
        "\\begin{bmatrix}\n",
        "\\underset{r \\times r}{\\mathbf{S}_r} & \\underset{r \\times n - r}{\\mathbf{0}} \\\\ \n",
        "\\underset{m - r \\times r}{\\mathbf{0}} & \n",
        "\\underset{m - r \\times n - r}{\\mathbf{0}}\n",
        "\\end{bmatrix}\n",
        "\\begin{bmatrix}\\underset{n \\times r}{\\mathbf{V}_r} & \\underset{n \\times n -r}{\\mathbf{V}_n}\n",
        "\\end{bmatrix}^T\n",
        "= \\mathbf{U}_r \\mathbf{S}_r \\mathbf{V}^T_r\n",
        "\\end{equation}\n",
        "\n",
        "---\n",
        "\n",
        "*   **Column space** $\\mathcal{C}(\\mathbf{A})$is spanned by first $r$ vectors in $\\mathbf{U}_r$\n",
        "*  **Left null space** $\\mathcal{N}(\\mathbf{A}^T)$ is spanned by $m-r$ vectors in $\\mathbf{U}_n$\n",
        "*   **Row space** $\\mathcal{R}(\\mathbf{A}^T)$is spanned by first $r$ right singular vectors in $\\mathbf{V}_r$\n",
        "*  **Null space** $\\mathcal{N}(\\mathbf{A})$ is spanned by $n-r$ vectors in $\\mathbf{V}_n$\n",
        "\n",
        "\n",
        "\n",
        "\n",
        "---"
      ]
    },
    {
      "cell_type": "markdown",
      "metadata": {
        "id": "mhW8S54gocc5"
      },
      "source": [
        "## **Geometrical Representation**\n",
        "A Singular Value Decomposition allow the intuitive geometrical interpretation. \n",
        "\n",
        "<p><img alt=\"ff_fb\" height=\"300px\" src=\"https://drive.google.com/uc?id=1ptwXhFZmhZk9s6XKFtYSAzdTNaUEX-NW\" align=\"center\" hspace=\"100px\" vspace=\"0px\"></p>"
      ]
    },
    {
      "cell_type": "markdown",
      "metadata": {
        "id": "VKwy8-iwhSfb"
      },
      "source": [
        "## **Example: Unit norm ellipsoids**\n",
        "\n",
        "Consider case of input bounded by unit circle (euclidean norm): \n",
        "\\begin{equation}\n",
        "\\|\\mathbf{x}\\|_2^2 = \\mathbf{x}^T \\mathbf{x} \\leq 1\n",
        "\\end{equation}\n",
        "Now think about output constraints defined by linear mapping which is nothing but transformation from the sphere in $\\mathbb{R}^n$ to the ellipsoid in $\\mathbb{R}^m$.\n",
        "\n"
      ]
    },
    {
      "cell_type": "code",
      "metadata": {
        "id": "-IEVsRS4yVQL",
        "colab": {
          "base_uri": "https://localhost:8080/",
          "height": 390
        },
        "outputId": "57cf51a7-f5b2-408a-b4e4-859abfa3ff95"
      },
      "source": [
        "from matplotlib.pyplot import *\n",
        "from numpy import linspace\n",
        "# Define a circle in inputs\n",
        "n = 100\n",
        "phi = linspace(0, 1,n)\n",
        "x_circle = cos(2*pi*phi), sin(2*pi*phi)\n",
        " \n",
        "# transform a circle by A in the particular posture\n",
        "A = [[1,0],\n",
        "     [0.5,2]]\n",
        " \n",
        "y = dot(A,x_circle)\n",
        "figure(figsize=(6,6))\n",
        "plot(x_circle[0], x_circle[1], color = 'blue')\n",
        "plot(y[0], y[1], color = 'red')\n",
        "ylim([-2.5,2.5])\n",
        "xlim([-2.5,2.5])\n",
        "grid(color='black', linestyle='--', linewidth=1.0, alpha = 0.7)\n",
        "ylabel(r'$x_1$')\n",
        "xlabel(r'$x_2$')\n",
        "show()"
      ],
      "execution_count": null,
      "outputs": [
        {
          "output_type": "display_data",
          "data": {
            "image/png": "[encoded data removed]",
            "text/plain": [
              "<Figure size 432x432 with 1 Axes>"
            ]
          },
          "metadata": {
            "tags": [],
            "needs_background": "light"
          }
        }
      ]
    },
    {
      "cell_type": "markdown",
      "metadata": {
        "id": "obaS10Cb6YNI"
      },
      "source": [
        "Now we can use SVD to characterize such transformation:"
      ]
    },
    {
      "cell_type": "code",
      "metadata": {
        "id": "XCn_ojr52CBo",
        "colab": {
          "base_uri": "https://localhost:8080/",
          "height": 681
        },
        "outputId": "a9e2e119-2fff-4c2a-cd83-3e458214c9f5"
      },
      "source": [
        "from numpy.linalg import svd\n",
        "from numpy import transpose\n",
        "from numpy import diag\n",
        "U,S,VT = svd(A)\n",
        "\n",
        "print(f' Left singular vectors U:\\n {U}\\n\\n Singular values  S:\\n {S}\\n\\n Right singular vectors V:\\n {VT.transpose()}\\n\\n ')\n",
        "\n",
        "figure(figsize=(6,6))\n",
        "plot([0, S[0]*U[0,0]], [0, S[0]*U[0,1]], color = 'red', marker = 'o')\n",
        "plot([0, S[1]*U[1,0]], [0, S[1]*U[1,1]], color = 'red', marker = 'o')\n",
        "plot(x_circle[0], x_circle[1], color = 'blue')\n",
        "plot(y[0], y[1], color = 'red')\n",
        "ylim([-2.5,2.5])\n",
        "xlim([-2.5,2.5])\n",
        "grid(color='black', linestyle='--', linewidth=1.0, alpha = 0.7)\n",
        "ylabel(r'$x_1$')\n",
        "xlabel(r'$x_2$')\n",
        "show()\n",
        "\n",
        "print(f' Elipsoid semi-axes U*S:\\n {dot(U,diag(S))}\\n')\n"
      ],
      "execution_count": null,
      "outputs": [
        {
          "output_type": "stream",
          "text": [
            " Left singular vectors U:\n",
            " [[ 0.14869598  0.98888296]\n",
            " [ 0.98888296 -0.14869598]]\n",
            "\n",
            " Singular values  S:\n",
            " [2.07970763 0.96167364]\n",
            "\n",
            " Right singular vectors V:\n",
            " [[ 0.30924417  0.95098267]\n",
            " [ 0.95098267 -0.30924417]]\n",
            "\n",
            " \n"
          ],
          "name": "stdout"
        },
        {
          "output_type": "display_data",
          "data": {
            "image/png": "[encoded data removed]",
            "text/plain": [
              "<Figure size 432x432 with 1 Axes>"
            ]
          },
          "metadata": {
            "tags": [],
            "needs_background": "light"
          }
        },
        {
          "output_type": "stream",
          "text": [
            " Elipsoid semi-axes U*S:\n",
            " [[ 0.30924417  0.95098267]\n",
            " [ 2.05658743 -0.14299701]]\n",
            "\n"
          ],
          "name": "stdout"
        }
      ]
    },
    {
      "cell_type": "markdown",
      "metadata": {
        "id": "vNBZOcUl8sws"
      },
      "source": [
        ">**QUESTION**: \n",
        "What will happen in case of singular matrix $\\mathbf{A}$? How you can interpret corresponding SVD geometrically?"
      ]
    },
    {
      "cell_type": "markdown",
      "metadata": {
        "id": "L9p7kWFh-Xew"
      },
      "source": [
        "## **Condition Number**\n",
        "In order to characterize anisotropy of resulting transformation one can denote the following criteria: \n",
        "\\begin{equation}\n",
        "\\kappa (\\mathbf{A})={\\frac {\\sigma _{\\text{max}}(\\mathbf{A})}{\\sigma _{\\text{min}}(\\mathbf{A})}}\n",
        "\\end{equation}"
      ]
    },
    {
      "cell_type": "markdown",
      "metadata": {
        "id": "Xh1yoCZaBF_j"
      },
      "source": [
        "In general a condition number allow you to characterize how much the output value of the function can change for a small change in the input argument, namely sensativity. A definition above is valid for $\\ell^2$ norm:\n",
        "\\begin{equation}\n",
        "\\kappa (\\mathbf{A})= {\\frac {\\left\\|A^{-1}\\tilde{\\mathbf{y}}\\right\\|}{\\left\\|A^{-1}\\mathbf{y}\\right\\|}}/{\\frac {\\| \\mathbf{y} \\|}{\\| \\tilde{\\mathbf{y}} \\|}}\n",
        "\\end{equation}"
      ]
    },
    {
      "cell_type": "code",
      "metadata": {
        "id": "6e3t_R5NDj2m",
        "colab": {
          "base_uri": "https://localhost:8080/",
          "height": 426
        },
        "outputId": "07ed8bad-fc1a-4073-817c-7f7c72ec42f0"
      },
      "source": [
        "from numpy.linalg import cond\n",
        "\n",
        "A1 = [[1.5,0.2],[0,1]]\n",
        "A2 = [[2,1],[1,2]]\n",
        "figure(figsize=(6,6))\n",
        "plot(x_circle[0], x_circle[1], color = 'blue')\n",
        "for matrix in A1, A2:\n",
        "  y = dot(matrix,x_circle)\n",
        "  plot(y[0], y[1])\n",
        "  ylim([-2.5,2.5])\n",
        "  xlim([-2.5,2.5])\n",
        "  print(f'Condition number c {cond(matrix)}')\n",
        "grid(color='black', linestyle='--', linewidth=1.0, alpha = 0.7)\n",
        "ylabel(r'$x_1$')\n",
        "xlabel(r'$x_2$')\n",
        "show()\n",
        "\n",
        "  "
      ],
      "execution_count": null,
      "outputs": [
        {
          "output_type": "stream",
          "text": [
            "Condition number c 1.5468641541960593\n",
            "Condition number c 2.999999999999999\n"
          ],
          "name": "stdout"
        },
        {
          "output_type": "display_data",
          "data": {
            "image/png": "[encoded data removed]",
            "text/plain": [
              "<Figure size 432x432 with 1 Axes>"
            ]
          },
          "metadata": {
            "tags": [],
            "needs_background": "light"
          }
        }
      ]
    },
    {
      "cell_type": "markdown",
      "metadata": {
        "id": "RprUob8IDS-Q"
      },
      "source": [
        "## **Applications to the LTI Systems**"
      ]
    },
    {
      "cell_type": "markdown",
      "metadata": {
        "id": "Uk0dtOIBByUT"
      },
      "source": [
        "### **Equilibrium Points and Feedforward**\n",
        "\n",
        "Given LTI system $\\dot{\\mathbf{x}} = \\mathbf{A} \\mathbf{x} + \\mathbf{B} \\mathbf{u}$, where $\\mathbf{x} \\in \\mathbb{R}^n$, $\\mathbf{u} \\in \\mathbb{R}^m$, find all states that can be made into fixed points with a constant control law.\n",
        "\n",
        "\n",
        "Let us find null space of the matrix $\\begin{bmatrix} \\mathbf{A} & \\mathbf{B} \\end{bmatrix}$ as $\\mathbf{N} = \\text{null} (\\begin{bmatrix} \\mathbf{A} & \\mathbf{B} \\end{bmatrix})$. \n",
        "\n",
        "We can find all $\\mathbf{x}$, $\\mathbf{u}$ pairs that produce equilibrium points as follows: $\\begin{bmatrix} \\mathbf{x} \\\\ \\mathbf{u} \\end{bmatrix} = \\mathbf{N} \\mathbf{z}$, $\\forall \\mathbf{z}$\n",
        "\n"
      ]
    },
    {
      "cell_type": "code",
      "metadata": {
        "colab": {
          "base_uri": "https://localhost:8080/"
        },
        "id": "3bC4nO4oByAI",
        "outputId": "0101d144-eae8-44a8-934b-ae2f91ce787e"
      },
      "source": [
        "from numpy import hstack\n",
        "A = [[0, 1],\n",
        "     [-2,-3]]\n",
        "B = [[0], [1]]\n",
        "\n",
        "M = hstack((A,B))\n",
        "\n",
        "print(f'Stacked matrix:\\n {M}')\n",
        "\n",
        "U,S,VT = svd(M, full_matrices=True)\n",
        "print(f'Left singular vectors:\\n {U}')\n",
        "print(f'Singular values:\\n {S}')\n",
        "print(f'Right singular vectors:\\n {VT.T}')"
      ],
      "execution_count": null,
      "outputs": [
        {
          "output_type": "stream",
          "text": [
            "Stacked matrix:\n",
            " [[ 0  1  0]\n",
            " [-2 -3  1]]\n",
            "Left singular vectors:\n",
            " [[-0.21452344  0.97671884]\n",
            " [ 0.97671884  0.21452344]]\n",
            "Singular values:\n",
            " [3.82869567 0.58402865]\n",
            "Right singular vectors:\n",
            " [[-0.5102097  -0.73463328  0.4472136 ]\n",
            " [-0.82134498  0.57043179  0.        ]\n",
            " [ 0.25510485  0.36731664  0.89442719]]\n"
          ],
          "name": "stdout"
        }
      ]
    },
    {
      "cell_type": "markdown",
      "metadata": {
        "id": "FfRXE6WnC35G"
      },
      "source": [
        "<!-- ### **Equilibrium Points and Feedforward** -->\n",
        "\n",
        "\n",
        "Given LTI system $\\dot{\\mathbf{x}} = \\mathbf{A} \\mathbf{x} + \\mathbf{B} \\mathbf{u}$, where $\\mathbf{x} \\in \\mathbb{R}^n$, $\\mathbf{u} \\in \\mathbb{R}^m$, \n",
        "\n",
        "1.   check if $\\mathbf{x}_d$ can be transformed into a equilibrium point\n",
        "2.   find control constant $\\mathbf{u}_d$ that does it, given control law $\\mathbf{u} = \\mathbf{K}\\mathbf{x} + \\mathbf{u}_d$.\n",
        "\n",
        "\n",
        " We can check that $(\\mathbf{A}-\\mathbf{B}\\mathbf{K}) \\mathbf{x}_d + \\mathbf{B} \\mathbf{u}_d = \\mathbf{0}$ has a solution, in other words that $-(\\mathbf{A}-\\mathbf{B}\\mathbf{K}) \\mathbf{x}^* \\in \\mathcal{C}(\\mathbf{B})$. Resulting condition is given via projection into the left null space of $\\mathbf{B}$: \n",
        " $(\\mathbf{I} - \\mathbf{B}\\mathbf{B}^+)(\\mathbf{A}-\\mathbf{B}\\mathbf{K})\\mathbf{x}_d = \\mathbf{0}$\n",
        "\n",
        "This means finding such $\\mathbf{u}_d$ that $(\\mathbf{A}-\\mathbf{B}\\mathbf{K}) \\mathbf{x}_d + \\mathbf{B}\\mathbf{u}_d= \\mathbf{0}$. This is done via pseudo-inverse, which provides exact solution, as long as it exists: $\\mathbf{u}_d= -\\mathbf{B}^+(\\mathbf{A}-\\mathbf{B}\\mathbf{K}) \\mathbf{x}_d$.\n"
      ]
    },
    {
      "cell_type": "code",
      "metadata": {
        "id": "CUzadWFLEs2I"
      },
      "source": [
        "# ADD YOUR CODE HERE"
      ],
      "execution_count": null,
      "outputs": []
    }
  ]
}