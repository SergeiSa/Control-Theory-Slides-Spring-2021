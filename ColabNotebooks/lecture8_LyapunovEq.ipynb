{
  "nbformat": 4,
  "nbformat_minor": 0,
  "metadata": {
    "colab": {
      "name": "LyapunovEq.ipynb",
      "provenance": [],
      "include_colab_link": true
    },
    "kernelspec": {
      "name": "python3",
      "display_name": "Python 3"
    }
  },
  "cells": [
    {
      "cell_type": "markdown",
      "metadata": {
        "id": "view-in-github",
        "colab_type": "text"
      },
      "source": [
        "<a href=\"https://colab.research.google.com/github/SergeiSa/Control-Theory-Slides-Spring-2021/blob/main/ColabNotebooks/lecture8_LyapunovEq.ipynb\" target=\"_parent\"><img src=\"https://colab.research.google.com/assets/colab-badge.svg\" alt=\"Open In Colab\"/></a>"
      ]
    },
    {
      "cell_type": "markdown",
      "metadata": {
        "id": "3ncmZERaeTOW"
      },
      "source": [
        "# Lyapunov equations\n",
        "\n",
        "Lyapunov equations for continious systems has form:\n",
        "\n",
        "$AP + PA^{\\top}  =-Q$\n",
        "\n",
        "and for discrete systems it is \n",
        "\n",
        "$A P A^{\\top} - P = -Q$\n",
        "\n",
        "As long as there exists such positive definite $P$ that Lyapunov equations holds for a positive definite $Q$, the system is stable.\n",
        "\n",
        "Let's see it in code:"
      ]
    },
    {
      "cell_type": "code",
      "metadata": {
        "colab": {
          "base_uri": "https://localhost:8080/"
        },
        "id": "fIlKWi1heNiV",
        "outputId": "47c52c5d-ac5b-4e5f-eeee-c9547cb90fd0"
      },
      "source": [
        "import numpy as np\n",
        "from scipy.linalg import solve_continuous_lyapunov\n",
        "from scipy.linalg import solve_discrete_lyapunov\n",
        "from scipy.linalg import eig\n",
        "\n",
        "\n",
        "Q = np.array([[-1, 0], [0, -1]])\n",
        "\n",
        "A = np.array([[-10, 5], [-5, -10]])\n",
        "e, v = eig(A)\n",
        "print(\"eig(A):\\n\", e)\n",
        "\n",
        "P = solve_continuous_lyapunov(A, Q)\n",
        "print(\"P\", P)\n",
        "e, v = eig((A.transpose().dot(P) + P.dot(A)))\n",
        "print(\"eig(A'P + P*A):\\n\", e)\n",
        "print(\" \")\n",
        "print(\" \")\n",
        "\n",
        "\n",
        "A = np.array([[0.9, 0.5], [-0.2, -0.8]])\n",
        "e, v = eig(A)\n",
        "print(\"eig(A)\", e)\n",
        "\n",
        "P = solve_discrete_lyapunov(A, Q)\n",
        "print(\"P\", P)\n",
        "print(\"(A'PA - P + Q ):\")\n",
        "print(((A.dot(P)).dot(A.transpose()) - P + Q))\n"
      ],
      "execution_count": null,
      "outputs": [
        {
          "output_type": "stream",
          "text": [
            "eig(A) [-10.+5.j -10.-5.j]\n",
            "P [[ 5.00000000e-02  7.34706413e-20]\n",
            " [-1.24900090e-18  5.00000000e-02]]\n",
            "eig(A'P + P*A) [-1.+0.j -1.+0.j]\n",
            " \n",
            " \n",
            "eig(A) [ 0.83898669+0.j -0.73898669+0.j]\n",
            "P [[-4.03347296  0.9268445 ]\n",
            " [ 0.9268445  -2.40207966]]\n",
            "(A'PA - P + Q ):\n",
            "[[0.00000000e+00 3.33066907e-16]\n",
            " [1.11022302e-16 4.44089210e-16]]\n"
          ],
          "name": "stdout"
        }
      ]
    },
    {
      "cell_type": "markdown",
      "metadata": {
        "id": "FdmioTfehF-z"
      },
      "source": [
        "Test the following systems' stability:"
      ]
    },
    {
      "cell_type": "markdown",
      "metadata": {
        "id": "W0mjs9LugtlN"
      },
      "source": [
        "\n",
        "$$x_{i+1} = \n",
        "\\begin{pmatrix} 1.5 & 0.2 \\\\ -0.15 & 0.23\n",
        "\\end{pmatrix}\n",
        "x_i\n",
        "$$\n",
        "\n",
        "\n",
        "$$x_{i+1} = \n",
        "\\begin{pmatrix} -1 & -1 \\\\ -2 & 0.1\n",
        "\\end{pmatrix}\n",
        "x_i\n",
        "$$\n",
        "\n",
        "\n",
        "$$x_{i+1} = \n",
        "\\begin{pmatrix} -3 & -1 \\\\ -1.5 & -10.3\n",
        "\\end{pmatrix}\n",
        "x_i\n",
        "$$\n",
        "\n",
        "\n",
        "$$x_{i+1} = \n",
        "\\begin{pmatrix} -0.2 & -1 \\\\ 1.7 & 1.1\n",
        "\\end{pmatrix}\n",
        "x_i\n",
        "$$"
      ]
    },
    {
      "cell_type": "markdown",
      "metadata": {
        "id": "XIJZDiUmhvWv"
      },
      "source": [
        "Test stability of continious systems with the same state matrices:\n",
        "\n",
        "\n",
        "$$\\dot x = \n",
        "\\begin{pmatrix} 1.5 & 0.2 \\\\ -0.15 & 0.23\n",
        "\\end{pmatrix}\n",
        "x\n",
        "$$\n",
        "\n",
        "\n",
        "$$\\dot x = \n",
        "\\begin{pmatrix} -1 & -1 \\\\ -2 & 0.1\n",
        "\\end{pmatrix}\n",
        "x\n",
        "$$\n",
        "\n",
        "\n",
        "$$\\dot x = \n",
        "\\begin{pmatrix} -3 & -1 \\\\ -1.5 & -10.3\n",
        "\\end{pmatrix}\n",
        "x\n",
        "$$\n",
        "\n",
        "\n",
        "$$\\dot x = \n",
        "\\begin{pmatrix} -0.2 & -1 \\\\ 1.7 & 1.1\n",
        "\\end{pmatrix}\n",
        "x\n",
        "$$"
      ]
    },
    {
      "cell_type": "markdown",
      "metadata": {
        "id": "ARtI-McEi9n5"
      },
      "source": [
        "Consider the following matrices:\n",
        "\n",
        "$$\\dot x = \n",
        "\\begin{pmatrix} -10.05 & -0.021 & -0.02 \\\\  \n",
        "0 & 0 & 0 \\\\  \n",
        "-0.022 & 0.0032 & -10.055\n",
        "\\end{pmatrix}\n",
        "x\n",
        "$$\n",
        "\n",
        "$$\\dot x = \n",
        "\\begin{pmatrix} -2.009 & 0 & 0.0012 \\\\  \n",
        "0.05 & 0 & -0.041 \\\\  \n",
        "-0.042 & 0 & -4.055\n",
        "\\end{pmatrix}\n",
        "x\n",
        "$$\n",
        "\n",
        "Can you reason about assymptotic stability of the system without computations?"
      ]
    },
    {
      "cell_type": "markdown",
      "metadata": {
        "id": "fBgQ4jhckZq_"
      },
      "source": [
        "**Answer:**\n",
        "\n",
        "First system is Lyapunov stable, but not assymptotically stable. You can see that its eigenvalues are not going to have negative eigenvalues, but also you see that the matrix has a non-trivial null space.\n",
        "\n",
        "You can also directly notice that the second component of $x$ is not going to change, rulling out assymptotic stability.\n",
        "\n",
        "Second sistem has a non-trivial null space too, meaning some of its eigenvalues are going to be 0. "
      ]
    },
    {
      "cell_type": "markdown",
      "metadata": {
        "id": "9ajNVPtmna3c"
      },
      "source": [
        "Consider the following system again:\n",
        "\n",
        "$$\\dot x = \n",
        "\\begin{pmatrix} -10.05 & -0.021 & -0.02 \\\\  \n",
        "0 & 0 & 0 \\\\  \n",
        "-0.022 & 0.0032 & -10.055\n",
        "\\end{pmatrix}\n",
        "x\n",
        "$$\n",
        "\n",
        "You know that $x_2$ is a constant. Let's denote the value of $x_2$ as $c$. Can you rewrite the system in terms of remaining variables $x_1$ and $x_3$ and prove its stability using the Lyapuniv eq?"
      ]
    },
    {
      "cell_type": "markdown",
      "metadata": {
        "id": "kBR3IQ6sn0to"
      },
      "source": [
        "## Solution\n",
        "\n",
        "### Way 1\n",
        "\n",
        "Denote:\n",
        "\n",
        "$$y = \n",
        "\\begin{pmatrix} \n",
        "x_1 \\\\  \n",
        "x_3\n",
        "\\end{pmatrix}\n",
        "$$\n",
        "\n",
        "And rewrite:\n",
        "\n",
        "$$\\dot y = \n",
        "\\begin{pmatrix} -10.05 & -0.02 \\\\  \n",
        "-0.022 & -10.055\n",
        "\\end{pmatrix}\n",
        "y\n",
        "+\n",
        "\\begin{pmatrix} -0.021 \\\\  \n",
        "0.0032\n",
        "\\end{pmatrix}\n",
        "c\n",
        "$$\n",
        "\n",
        "The rest you know how to do.\n",
        "\n",
        "### Way 2\n",
        "\n",
        "Orthonormal basis in the column space of the state matrix in this case is:\n",
        "\n",
        "$$\n",
        "C =\n",
        "\\begin{pmatrix} \n",
        "1 & 0 \\\\  \n",
        "0 & 0 \\\\  \n",
        "0 & 1\n",
        "\\end{pmatrix}\n",
        "$$\n",
        "\n",
        "Motion of the system takes place in that column space. Let's denote $y = C^{\\top}x$, and as long as $x$ is in this column space, it is true that $x = Cy$. But if $x$ is not in the column space, it is $x = Cy + x^*$\n",
        "\n",
        "Notice that $x^*$ is in the left null space of the state matrix, as long as $y = C^{\\top}x$, because: \n",
        "\n",
        "$$Cy = CC^{\\top}x$$\n",
        "$$x-x^* = CC^{\\top}x$$\n",
        "$$x^* = (I-CC^{\\top})x$$\n",
        "\n",
        "where the last expression is a projection of $x$ onto the left null space of the state matrix. Orthonormal basis in the left null space of the state matrix is:\n",
        "\n",
        "$$\n",
        "L =\n",
        "\\begin{pmatrix} \n",
        "0 \\\\  \n",
        "1 \\\\  \n",
        "0\n",
        "\\end{pmatrix}\n",
        "$$\n",
        "\n",
        "And we know that $x_2 = c$, so $x^* = Lc$.\n",
        "\n",
        "Variable $y$ is the new coordinates in the column space basis.\n",
        "\n",
        "Let's project teh dynamics into the column space. First we multiply it by $C^{\\top}$:\n",
        "\n",
        "$$C^{\\top} \\dot x = \n",
        "C^{\\top}\n",
        "\\begin{pmatrix} -10.05 & -0.021 & -0.02 \\\\  \n",
        "0 & 0 & 0 \\\\  \n",
        "-0.022 & 0.0032 & -10.055\n",
        "\\end{pmatrix}\n",
        "x\n",
        "$$\n",
        "\n",
        "$$\\dot y = \n",
        "\\begin{pmatrix} -10.05 & -0.021 & -0.02 \\\\ \n",
        "-0.022 & 0.0032 & -10.055\n",
        "\\end{pmatrix}\n",
        "x\n",
        "$$\n",
        "\n",
        "Then, since $x = Cy + Lc$ on teh system trajectory, we get:\n",
        "\n",
        "$$\\dot y = \n",
        "\\begin{pmatrix} -10.05 & -0.021 & -0.02 \\\\ \n",
        "-0.022 & 0.0032 & -10.055\n",
        "\\end{pmatrix}\n",
        "(Cy + Lc)\n",
        "$$\n",
        "\n",
        "$$\\dot y = \n",
        "\\begin{pmatrix} -10.05 & -0.02 \\\\ \n",
        "-0.022 & -10.055\n",
        "\\end{pmatrix}\n",
        "y\n",
        "+\n",
        "\\begin{pmatrix} \n",
        "-0.021 \\\\ \n",
        "0.0032\n",
        "\\end{pmatrix}\n",
        "c\n",
        "$$\n",
        "\n",
        "From here you apply Lyapunov eq. directly."
      ]
    }
  ]
}