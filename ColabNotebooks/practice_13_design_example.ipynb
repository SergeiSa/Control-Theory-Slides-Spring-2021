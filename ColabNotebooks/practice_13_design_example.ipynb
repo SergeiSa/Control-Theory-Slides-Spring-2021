{
  "nbformat": 4,
  "nbformat_minor": 0,
  "metadata": {
    "colab": {
      "name": "[CT21] lab13_design_example.ipynb",
      "provenance": [],
      "collapsed_sections": [],
      "include_colab_link": true
    },
    "kernelspec": {
      "name": "python3",
      "display_name": "Python 3"
    }
  },
  "cells": [
    {
      "cell_type": "markdown",
      "metadata": {
        "id": "view-in-github",
        "colab_type": "text"
      },
      "source": [
        "<a href=\"https://colab.research.google.com/github/SergeiSa/Control-Theory-Slides-Spring-2021/blob/main/ColabNotebooks/practice_13_design_example.ipynb\" target=\"_parent\"><img src=\"https://colab.research.google.com/assets/colab-badge.svg\" alt=\"Open In Colab\"/></a>"
      ]
    },
    {
      "cell_type": "markdown",
      "metadata": {
        "id": "zPmrTNlSBW-R"
      },
      "source": [
        "# **Practice 13: Design Example, Orbital maneuver**\n",
        "\n",
        "---"
      ]
    },
    {
      "cell_type": "markdown",
      "metadata": {
        "id": "H608E584MQst"
      },
      "source": [
        "### **Problem Definition:**\n",
        "\n",
        "Consider a satellite described by the following equations:\n",
        "\\begin{equation}\n",
        "\\left\\{\\begin{matrix}\n",
        "m\\ddot{r}=m r\\dot{\\theta}^2  -G\\cfrac{m M}{r^2} + u_r\n",
        "\\\\ \n",
        "mr\\ddot{\\theta}=-2 m \\dot{r}\\dot{\\theta}+ u_\\theta\n",
        "\\end{matrix}\\right.\n",
        "\\end{equation}\n",
        "\n",
        "A problem is to **stabilize** the satellite on the desired orbit of constant radius $r_d = \\text{const}$ with minimal control effort. \n",
        "\n",
        "\n",
        "\n",
        "\n",
        "<p><img alt=\"linear mapping\" height=\"450px\" src=\"https://drive.google.com/uc?id=1yvtXC__pJRka_DaK1KKolVcgzu9uo8WF\" align=\"center\" hspace=\"250px\" vspace=\"0px\"></p>\n",
        "\n"
      ]
    },
    {
      "cell_type": "markdown",
      "metadata": {
        "id": "qEPSCPZ5SyZo"
      },
      "source": [
        "\n",
        "\n",
        "The overall workflow to design the controller is summarized as follows:\n",
        "\n",
        "\n",
        "1.   Modeling, **State space representation** of system dynamics ( [Practice 1](https://colab.research.google.com/drive/1OE18rhr8Mhq3H5FS5yci037CQ52ag4yq))\n",
        "2.   Deducing **feasible trajectory** \n",
        "3.   **Linearizing** system dynamics nearby desired trajectory, **linear state space** ( [Practice 8](https://colab.research.google.com/drive/15l9Pyv-ol33NrwM3v48r9jjZLP_Vgimt)) \n",
        "4.   **Discretization** of linearized system ( [Practice 6](https://colab.research.google.com/drive/1FLxfvWfwhNvjlYz-9oQJviwlj9M0URUh))\n",
        "5.   **Controllability** analysis ( [Practice 11](https://colab.research.google.com/drive/1Rs_RygP56Fea_Y_QDGIl8vAy4Ht_wkSM))\n",
        "6.   **Сontroller** design ( [Practice 9](https://colab.research.google.com/drive/1_MjEdyWbJ2In3NZRfdrmKUPdR0IobKH-))\n",
        "\n",
        "\n",
        "\n",
        "In order to check the designed controller we will implement the following simulations:\n",
        "1.   Full state feedback on the **linearized** system \n",
        "2.   Full state feedback on the **original** system \n",
        "\n"
      ]
    },
    {
      "cell_type": "markdown",
      "metadata": {
        "id": "b2CcXs6tcpbP"
      },
      "source": [
        "\n",
        "### **State Space Representation**\n",
        "\n",
        "Let us first introduce the following constant $k = gM$ and rewrite system dynamics in normal form: \n",
        "\\begin{equation}\n",
        "\\left\\{\\begin{matrix}\n",
        "\\ddot{r}= r\\dot{\\theta}^2  -\\cfrac{k}{r^2} + \\cfrac{u_r}{m}\n",
        "\\\\ \n",
        "\\ddot{\\theta}=-2 \\cfrac{\\dot{r}\\dot{\\theta}}{r}+ \\cfrac{u_\\theta}{mr}\n",
        "\\end{matrix}\\right.\n",
        "\\end{equation}\n",
        "\n",
        "Thus introducing the state variables as $\\mathbf{x} = [r, \\dot{r}, \\theta, \\dot{\\theta}]^T$ we may rewrite the equiations above in state space form:\n",
        "\n",
        "\\begin{equation}\n",
        "\\begin{bmatrix}\n",
        "\\dot{\\mathbf{x}}_1 \n",
        "\\\\\n",
        "\\dot{\\mathbf{x}}_2\n",
        "\\\\\n",
        "\\dot{\\mathbf{x}}_3\n",
        "\\\\ \n",
        "\\dot{\\mathbf{x}}_4\n",
        "\\end{bmatrix}\n",
        "=\n",
        "\\begin{bmatrix}\n",
        "\\mathbf{x}_2 \n",
        "\\\\\n",
        "\\mathbf{x}_1 \\mathbf{x}_4^2\n",
        "\\\\\n",
        "\\mathbf{x}_4\n",
        "\\\\ \n",
        "-2 \\cfrac{\\mathbf{x}_2\\mathbf{x}_4}{\\mathbf{x}_1}\n",
        "\\end{bmatrix}\n",
        "+\n",
        "\\begin{bmatrix}\n",
        " 0 & 0 \\\\\n",
        "  -\\frac{1}{m} & 0 \\\\\n",
        " 0 & 0 \\\\\n",
        " 0 & \\frac{1}{m \\mathbf{x}_1}\\\\\n",
        "\\end{bmatrix}\n",
        "\\begin{bmatrix}\n",
        "u_r\n",
        "\\\\\n",
        "u_\\theta\n",
        "\\end{bmatrix}\n",
        "\\end{equation}\n",
        "\n",
        "Which may be written in general state space form as:\n",
        "\n",
        "\n",
        "\\begin{equation}\n",
        "\\dot{\\mathbf{x}}\n",
        "= \n",
        "\\mathbf{f}(\\mathbf{x}, \\mathbf{u})\n",
        "\\end{equation}\n"
      ]
    },
    {
      "cell_type": "code",
      "metadata": {
        "colab": {
          "base_uri": "https://localhost:8080/",
          "height": 105
        },
        "id": "_avHXMUccpJo",
        "outputId": "21cb759f-ed3d-4178-c386-bf547ca5f3b7"
      },
      "source": [
        "def f(x, u, params):\n",
        "    k, m = params\n",
        "    r, dr, theta, dtheta = x\n",
        "    u_r, u_theta = u\n",
        "    ddr = r*dtheta**2 -k/(r**2) + u_r/m  \n",
        "    ddtheta = -2*dr*dtheta/r + u_theta/(r*m)\n",
        "    return dr, ddr, dtheta, ddtheta\n",
        "\n",
        "import sympy as sym\n",
        "\n",
        "sym.init_printing()\n",
        "\n",
        "x_sym = sym.symbols(r'r \\dot{r} \\theta \\dot{\\theta}') \n",
        "u_sym = sym.symbols(r'u_r u_\\theta') \n",
        "params_sym = sym.symbols(r'k m')\n",
        "f_sym = sym.Matrix([f(x_sym, u_sym, params_sym)]).T\n",
        "\n",
        "f_sym\n"
      ],
      "execution_count": null,
      "outputs": [
        {
          "output_type": "execute_result",
          "data": {
            "text/latex": "$\\displaystyle \\left[\\begin{matrix}\\dot{r}\\\\\\dot{\\theta}^{2} r - \\frac{k}{r^{2}} + \\frac{u_{r}}{m}\\\\\\dot{\\theta}\\\\- \\frac{2 \\dot{\\theta} \\dot{r}}{r} + \\frac{u_{\\theta}}{m r}\\end{matrix}\\right]$",
            "text/plain": [
              "⎡              \\dot{r}              ⎤\n",
              "⎢                                   ⎥\n",
              "⎢                 2     k    uᵣ     ⎥\n",
              "⎢     \\dot{\\theta} ⋅r - ── + ──     ⎥\n",
              "⎢                        2   m      ⎥\n",
              "⎢                       r           ⎥\n",
              "⎢                                   ⎥\n",
              "⎢           \\dot{\\theta}            ⎥\n",
              "⎢                                   ⎥\n",
              "⎢  2⋅\\dot{\\theta}⋅\\dot{r}   u_\\theta⎥\n",
              "⎢- ────────────────────── + ────────⎥\n",
              "⎣            r                m⋅r   ⎦"
            ]
          },
          "metadata": {
            "tags": []
          },
          "execution_count": 1
        }
      ]
    },
    {
      "cell_type": "markdown",
      "metadata": {
        "id": "MT3odtf5q5e1"
      },
      "source": [
        "### **Feasible trajectory: Equatorial orbit**\n",
        "Once model is given by the state space representation above we may obtain trajectory that is consistent with dynamics by direct substitution of the constant $r_d = \\text{const}$:\n",
        "\\begin{equation}\n",
        "\\left\\{\\begin{matrix}\n",
        "0= r_d\\dot{\\theta}_d^2  -\\cfrac{k}{r_d^2} + \\cfrac{u_{r_d}}{m}\n",
        "\\\\ \n",
        "\\ddot{\\theta}_d= \\cfrac{u_{\\theta_d}}{mr_d}\n",
        "\\end{matrix}\\right.\n",
        "\\end{equation}\n",
        "\n",
        "Moreover if one will consider effortless ($u_{r_d}, u_{\\theta_d}$) trajectories the equations above represent the following: \n",
        "\n",
        "\\begin{equation}\n",
        "r^3_d \\dot{\\theta}_d^2  = k \\rightarrow \\dot{\\theta}_d = \\omega = \\sqrt{\\frac{k}{r^3_d}}{}\n",
        "\\end{equation}\n",
        " Thus the desired trajectory is given by following state/control pair:\n",
        "\\begin{equation}\n",
        "\\mathbf{x}_d = \n",
        "\\begin{bmatrix}\n",
        "r_d & 0 &  \\omega t & \\omega\n",
        "\\end{bmatrix}^T\n",
        "\\\\\n",
        "\\mathbf{u}_d =  \n",
        "\\begin{bmatrix}\n",
        "u_{\\theta_d} & u_{r_d}\n",
        "\\end{bmatrix}^T\n",
        "=\n",
        "\\begin{bmatrix}\n",
        "0 & 0\n",
        "\\end{bmatrix}^T\n",
        "\\end{equation}\n",
        "Thus the solution is flies along the line of the Earth's equator with constant speed and represent so called equatorial orbit. \n",
        "\n",
        "***Note***\n",
        "\n",
        "To get into equatorial orbit, a satellite must be launched from a place on Earth close to the equator. NASA often launches satellites aboard an Ariane rocket into equatorial orbit from French Guyana. Special case of equatorial orbit is a geosynchronous (sometimes abbreviated GSO) is an orbit around Earth of a satellite with an orbital period that matches Earth's rotation on its axis, which takes one sidereal day (23 hours, 56 minutes, and 4 seconds) "
      ]
    },
    {
      "cell_type": "markdown",
      "metadata": {
        "id": "t8qOnyoxuj7t"
      },
      "source": [
        "### **Linearization**\n",
        "System above is nonlinear, in order to implement the techniques that we studied in this class we need to first obtain the linear state space model. A convinient way to do so is to linearize system dynamics nearby equilibrium point or desired trajectory:\n",
        "\n",
        "\\begin{equation}\n",
        "\\dot{\\mathbf{x}}\n",
        "= \\mathbf{f}(\\mathbf{x}_d,\\mathbf{u}_d)+ \n",
        "\\frac{\\partial\\mathbf{f}}{\\partial\\mathbf{x}}\\Bigr\\rvert_{\\mathbf{x}_d,\\mathbf{u}_d} \n",
        "(\\mathbf{x} - \\mathbf{x}_d) + \n",
        "\\frac{\\partial\\mathbf{u}}{\\partial\\mathbf{x}}\\Bigr\\rvert_{\\mathbf{x}_d,\\mathbf{u}_d}  \n",
        "(\\mathbf{u} - \\mathbf{u}_d)  + \\text{H.O.T}\n",
        "\\end{equation}\n",
        "\n",
        "Introducing the tracking error $\\tilde{\\mathbf{x}}$ we may rewrite the equation above in linear form as follows:\n",
        "\n",
        "\\begin{equation}\n",
        "\\dot{\\tilde{\\mathbf{x}}} = \\mathbf{A}\\tilde{\\mathbf{x}} + \\mathbf{B}\\tilde{\\mathbf{u}}   \n",
        "\\end{equation}\n",
        "where: $\\tilde{\\mathbf{x}}$ is tracking error, $\\tilde{\\mathbf{u}}$ is the new control input $\\mathbf{A} = \\frac{\\partial\\mathbf{f}}{\\partial\\mathbf{x}}\\Bigr\\rvert_{\\mathbf{x}_d,\\mathbf{u}_d}$ - state evaluation matrix, $\\mathbf{B} = \\frac{\\partial\\mathbf{f}}{\\partial\\mathbf{u}}\\Bigr\\rvert_{\\mathbf{x}_d,\\mathbf{u}_d}$\n"
      ]
    },
    {
      "cell_type": "markdown",
      "metadata": {
        "id": "Kr4TMd-_D7iZ"
      },
      "source": [
        "Let us first calculate system jacobian with respect to state: $\\frac{\\partial\\mathbf{f}}{\\partial\\mathbf{x}}$\n"
      ]
    },
    {
      "cell_type": "code",
      "metadata": {
        "colab": {
          "base_uri": "https://localhost:8080/",
          "height": 104
        },
        "id": "iEybo_f3ujQ-",
        "outputId": "065d204a-4467-4856-a08d-ed9e68c221ba"
      },
      "source": [
        "# Calculate the jacobian with respect to x\n",
        "Jx_sym = f_sym.jacobian(x_sym)\n",
        "Jx_sym\n"
      ],
      "execution_count": null,
      "outputs": [
        {
          "output_type": "execute_result",
          "data": {
            "text/latex": "$\\displaystyle \\left[\\begin{matrix}0 & 1 & 0 & 0\\\\\\dot{\\theta}^{2} + \\frac{2 k}{r^{3}} & 0 & 0 & 2 \\dot{\\theta} r\\\\0 & 0 & 0 & 1\\\\\\frac{2 \\dot{\\theta} \\dot{r}}{r^{2}} - \\frac{u_{\\theta}}{m r^{2}} & - \\frac{2 \\dot{\\theta}}{r} & 0 & - \\frac{2 \\dot{r}}{r}\\end{matrix}\\right]$",
            "text/plain": [
              "⎡                0                         1          0         0        ⎤\n",
              "⎢                                                                        ⎥\n",
              "⎢                   2   2⋅k                                              ⎥\n",
              "⎢       \\dot{\\theta}  + ───                0          0  2⋅\\dot{\\theta}⋅r⎥\n",
              "⎢                         3                                              ⎥\n",
              "⎢                        r                                               ⎥\n",
              "⎢                                                                        ⎥\n",
              "⎢                0                         0          0         1        ⎥\n",
              "⎢                                                                        ⎥\n",
              "⎢2⋅\\dot{\\theta}⋅\\dot{r}   u_\\theta  -2⋅\\dot{\\theta}        -2⋅\\dot{r}    ⎥\n",
              "⎢────────────────────── - ────────  ────────────────  0    ───────────   ⎥\n",
              "⎢           2                  2           r                    r        ⎥\n",
              "⎣          r                m⋅r                                          ⎦"
            ]
          },
          "metadata": {
            "tags": []
          },
          "execution_count": 2
        }
      ]
    },
    {
      "cell_type": "markdown",
      "metadata": {
        "id": "O4KOaVZwG_lw"
      },
      "source": [
        "\n",
        "Now we can evaluate the jacobian nearby desired trajectory $\\mathbf{A} = \\frac{\\partial\\mathbf{f}}{\\partial\\mathbf{x}}\\Bigr\\rvert_{\\mathbf{x}_d,\\mathbf{u}_d}$\n"
      ]
    },
    {
      "cell_type": "code",
      "metadata": {
        "colab": {
          "base_uri": "https://localhost:8080/",
          "height": 105
        },
        "id": "aoOae3bUgED1",
        "outputId": "28f3fb46-49fb-4560-d3a5-7ec1d8bdcadb"
      },
      "source": [
        "# Evaluate J_x nearby desired trajectory\n",
        "n = len(x_sym)\n",
        "A_sym = Jx_sym\n",
        "\n",
        "\n",
        "A_sym = A_sym.subs({x_sym[0]: 'r_d'})\n",
        "A_sym = A_sym.subs({x_sym[1]: 0})\n",
        "A_sym = A_sym.subs({x_sym[3]: sym.symbols(r'\\omega')})\n",
        "A_sym = A_sym.subs({u_sym[1]: 0})\n",
        "\n",
        "A_sym.simplify()\n",
        "A_sym"
      ],
      "execution_count": null,
      "outputs": [
        {
          "output_type": "execute_result",
          "data": {
            "text/latex": "$\\displaystyle \\left[\\begin{matrix}0 & 1 & 0 & 0\\\\\\omega^{2} + \\frac{2 k}{r_{d}^{3}} & 0 & 0 & 2 \\omega r_{d}\\\\0 & 0 & 0 & 1\\\\0 & - \\frac{2 \\omega}{r_{d}} & 0 & 0\\end{matrix}\\right]$",
            "text/plain": [
              "⎡      0             1       0       0      ⎤\n",
              "⎢                                           ⎥\n",
              "⎢      2   2⋅k                              ⎥\n",
              "⎢\\omega  + ────      0       0  2⋅\\omega⋅r_d⎥\n",
              "⎢             3                             ⎥\n",
              "⎢          r_d                              ⎥\n",
              "⎢                                           ⎥\n",
              "⎢      0             0       0       1      ⎥\n",
              "⎢                                           ⎥\n",
              "⎢                -2⋅\\omega                  ⎥\n",
              "⎢      0         ──────────  0       0      ⎥\n",
              "⎣                   r_d                     ⎦"
            ]
          },
          "metadata": {
            "tags": []
          },
          "execution_count": 3
        }
      ]
    },
    {
      "cell_type": "markdown",
      "metadata": {
        "id": "aBuMq5GPHb4v"
      },
      "source": [
        "System jacobian with respect to control: $\\frac{\\partial\\mathbf{f}}{\\partial\\mathbf{u}}$\n"
      ]
    },
    {
      "cell_type": "code",
      "metadata": {
        "colab": {
          "base_uri": "https://localhost:8080/",
          "height": 98
        },
        "id": "YD6RTM42cqke",
        "outputId": "6bb324c8-fa2f-404a-c15f-615673e148a0"
      },
      "source": [
        "# calculate the jacobian with respect to u\n",
        "Ju_sym = f_sym.jacobian(u_sym)\n",
        "Ju_sym"
      ],
      "execution_count": null,
      "outputs": [
        {
          "output_type": "execute_result",
          "data": {
            "text/latex": "$\\displaystyle \\left[\\begin{matrix}0 & 0\\\\\\frac{1}{m} & 0\\\\0 & 0\\\\0 & \\frac{1}{m r}\\end{matrix}\\right]$",
            "text/plain": [
              "⎡0   0 ⎤\n",
              "⎢      ⎥\n",
              "⎢1     ⎥\n",
              "⎢─   0 ⎥\n",
              "⎢m     ⎥\n",
              "⎢      ⎥\n",
              "⎢0   0 ⎥\n",
              "⎢      ⎥\n",
              "⎢    1 ⎥\n",
              "⎢0  ───⎥\n",
              "⎣   m⋅r⎦"
            ]
          },
          "metadata": {
            "tags": []
          },
          "execution_count": 4
        }
      ]
    },
    {
      "cell_type": "markdown",
      "metadata": {
        "id": "D1ytkCOgHhHA"
      },
      "source": [
        "Now we may substitude the desired trajectory $\\mathbf{B} = \\frac{\\partial\\mathbf{f}}{\\partial\\mathbf{u}}\\Bigr\\rvert_{\\mathbf{x}_d,\\mathbf{u}_d}$\n"
      ]
    },
    {
      "cell_type": "code",
      "metadata": {
        "colab": {
          "base_uri": "https://localhost:8080/",
          "height": 100
        },
        "id": "EQr0s1_GpLHm",
        "outputId": "1821a6de-226e-41a0-86a0-7736abafcdef"
      },
      "source": [
        "B_sym = Ju_sym.subs(x_sym[0], 'r_d')\n",
        "B_sym"
      ],
      "execution_count": null,
      "outputs": [
        {
          "output_type": "execute_result",
          "data": {
            "text/latex": "$\\displaystyle \\left[\\begin{matrix}0 & 0\\\\\\frac{1}{m} & 0\\\\0 & 0\\\\0 & \\frac{1}{m r_{d}}\\end{matrix}\\right]$",
            "text/plain": [
              "⎡0    0  ⎤\n",
              "⎢        ⎥\n",
              "⎢1       ⎥\n",
              "⎢─    0  ⎥\n",
              "⎢m       ⎥\n",
              "⎢        ⎥\n",
              "⎢0    0  ⎥\n",
              "⎢        ⎥\n",
              "⎢     1  ⎥\n",
              "⎢0  ─────⎥\n",
              "⎣   m⋅r_d⎦"
            ]
          },
          "metadata": {
            "tags": []
          },
          "execution_count": 5
        }
      ]
    },
    {
      "cell_type": "markdown",
      "metadata": {
        "id": "pzSpd1RGqMFj"
      },
      "source": [
        "### **Similarity Transformation**\n",
        "\n",
        "There are situations when system matrices are not well defined in several directions, it may happen for instance when the variables to control represent a physical quantities that are highly different in their magnitudes, thus resulting system (matrices $\\mathbf{A}, \\mathbf{B}$) will be barely controllable. To tackle this one may appropriately scale the state variables with some matrix $\\mathbf{T}$ as follows:\n",
        "\\begin{equation}\n",
        "\\mathbf{x}^* = \\mathbf{T}\\mathbf{x}\n",
        "\\end{equation}\n",
        "\n",
        "Thus the state transition may be calculated by substitution of the $\\mathbf{x} = \\mathbf{T}^{-1}\\mathbf{x}^*$ to the system dynamics:\n",
        "\\begin{equation}\n",
        "\\dot{\\mathbf{x}}^* = \\mathbf{A}^*\\mathbf{x}^* + \\mathbf{B}^*\\mathbf{u}\n",
        "\\end{equation}\n",
        "\\begin{equation}\n",
        "\\mathbf{y}^* = \\mathbf{C}^*\\mathbf{x}^*\n",
        "\\end{equation}\n",
        "\n",
        "where matrices $\\mathbf{A}^* = \\mathbf{T}\\mathbf{A}\\mathbf{T}^{-1}, \\mathbf{B}^* = \\mathbf{T}\\mathbf{B}, \\mathbf{C}^* = \\mathbf{C}\\mathbf{T}^{-1}$\n",
        "\n",
        "Note that the control input do not changed, thus we can design the controller in terms of new state $\\mathbf{x}^*$ and then apply the resulting controller directly to the original variables $\\mathbf{x}$\n",
        "\n",
        "Let us choose the following transformation:\n"
      ]
    },
    {
      "cell_type": "code",
      "metadata": {
        "colab": {
          "base_uri": "https://localhost:8080/",
          "height": 98
        },
        "id": "Lr2hgPZ8qLmI",
        "outputId": "b0fbde35-e040-432f-829e-0d8418f6a535"
      },
      "source": [
        "T_sym = sym.matrices.zeros(4)\n",
        "T_sym = T_sym.diag([1, 1, 'r_d', 'r_d'])\n",
        "T_sym"
      ],
      "execution_count": null,
      "outputs": [
        {
          "output_type": "execute_result",
          "data": {
            "text/latex": "$\\displaystyle \\left[\\begin{matrix}1 & 0 & 0 & 0\\\\0 & 1 & 0 & 0\\\\0 & 0 & r_{d} & 0\\\\0 & 0 & 0 & r_{d}\\end{matrix}\\right]$",
            "text/plain": [
              "⎡1  0   0    0 ⎤\n",
              "⎢              ⎥\n",
              "⎢0  1   0    0 ⎥\n",
              "⎢              ⎥\n",
              "⎢0  0  r_d   0 ⎥\n",
              "⎢              ⎥\n",
              "⎣0  0   0   r_d⎦"
            ]
          },
          "metadata": {
            "tags": []
          },
          "execution_count": 6
        }
      ]
    },
    {
      "cell_type": "code",
      "metadata": {
        "colab": {
          "base_uri": "https://localhost:8080/",
          "height": 104
        },
        "id": "wjge2Mzr2uT7",
        "outputId": "ba3e4a1f-a7a4-4580-d7b6-07a3d99b02a1"
      },
      "source": [
        "As_sym = T_sym*A_sym*T_sym.inv()\n",
        "As_sym"
      ],
      "execution_count": null,
      "outputs": [
        {
          "output_type": "execute_result",
          "data": {
            "text/latex": "$\\displaystyle \\left[\\begin{matrix}0 & 1 & 0 & 0\\\\\\omega^{2} + \\frac{2 k}{r_{d}^{3}} & 0 & 0 & 2 \\omega\\\\0 & 0 & 0 & 1\\\\0 & - 2 \\omega & 0 & 0\\end{matrix}\\right]$",
            "text/plain": [
              "⎡      0             1      0     0    ⎤\n",
              "⎢                                      ⎥\n",
              "⎢      2   2⋅k                         ⎥\n",
              "⎢\\omega  + ────      0      0  2⋅\\omega⎥\n",
              "⎢             3                        ⎥\n",
              "⎢          r_d                         ⎥\n",
              "⎢                                      ⎥\n",
              "⎢      0             0      0     1    ⎥\n",
              "⎢                                      ⎥\n",
              "⎣      0         -2⋅\\omega  0     0    ⎦"
            ]
          },
          "metadata": {
            "tags": []
          },
          "execution_count": 7
        }
      ]
    },
    {
      "cell_type": "code",
      "metadata": {
        "colab": {
          "base_uri": "https://localhost:8080/",
          "height": 98
        },
        "id": "TjPwCpFR2tmZ",
        "outputId": "f8a7019d-3de8-4c5d-b46a-636f041ad5ff"
      },
      "source": [
        "Bs_sym = T_sym*B_sym\n",
        "Bs_sym"
      ],
      "execution_count": null,
      "outputs": [
        {
          "output_type": "execute_result",
          "data": {
            "text/latex": "$\\displaystyle \\left[\\begin{matrix}0 & 0\\\\\\frac{1}{m} & 0\\\\0 & 0\\\\0 & \\frac{1}{m}\\end{matrix}\\right]$",
            "text/plain": [
              "⎡0  0⎤\n",
              "⎢    ⎥\n",
              "⎢1   ⎥\n",
              "⎢─  0⎥\n",
              "⎢m   ⎥\n",
              "⎢    ⎥\n",
              "⎢0  0⎥\n",
              "⎢    ⎥\n",
              "⎢   1⎥\n",
              "⎢0  ─⎥\n",
              "⎣   m⎦"
            ]
          },
          "metadata": {
            "tags": []
          },
          "execution_count": 8
        }
      ]
    },
    {
      "cell_type": "markdown",
      "metadata": {
        "id": "cb-SYu1m36x1"
      },
      "source": [
        "Let's now create the numerical representation of system matrices as follows:"
      ]
    },
    {
      "cell_type": "code",
      "metadata": {
        "id": "zzR-yC6l4OQ4",
        "colab": {
          "base_uri": "https://localhost:8080/"
        },
        "outputId": "e823ed61-ec48-4dc2-e359-fb61d6ba09eb"
      },
      "source": [
        "import numpy as np\n",
        "\n",
        "re =\t6371e+3\n",
        "r_d = re + 35e6\n",
        "\n",
        "m = 200\n",
        "G = 6.67408e-11\n",
        "M = 5.972e+24\n",
        "k = G*M\n",
        "omega = np.sqrt(k/r_d**3)\n",
        "\n",
        "A = np.array(As_sym.subs({'r_d':r_d, 'k':k, '\\omega':omega}), dtype = 'double')\n",
        "B = np.array(Bs_sym.subs({'m':m}), dtype = 'double')\n",
        "print(A)\n"
      ],
      "execution_count": null,
      "outputs": [
        {
          "output_type": "stream",
          "text": [
            "[[ 0.00000000e+00  1.00000000e+00  0.00000000e+00  0.00000000e+00]\n",
            " [ 1.68866852e-08  0.00000000e+00  0.00000000e+00  1.50051925e-04]\n",
            " [ 0.00000000e+00  0.00000000e+00  0.00000000e+00  1.00000000e+00]\n",
            " [ 0.00000000e+00 -1.50051925e-04  0.00000000e+00  0.00000000e+00]]\n"
          ],
          "name": "stdout"
        }
      ]
    },
    {
      "cell_type": "markdown",
      "metadata": {
        "id": "8unZC2cW8XHx"
      },
      "source": [
        "### **Discretization**\n",
        "In practice the control is implemented in digital fashion, thus in order to design the control, system dynamics must be discretized and be presented in the form:\n",
        "\n",
        "\\begin{equation}\n",
        "{\\mathbf  {x}}[k+1]={\\mathbf  A}_{d}{\\mathbf  {x}}[k]+{\\mathbf  B}_{d}{\\mathbf  {u}}[k]\n",
        "\\end{equation}\n",
        "\n",
        "In order to descretize system exactly, one just need to solve it on time interval $T$ (sampling time):\n",
        "\n",
        "\\begin{equation}\n",
        "{\\mathbf  A}_{d}=e^{{{\\mathbf  A}T}}={\\mathcal  {L}}^{{-1}}\\{(s{\\mathbf  I}-{\\mathbf  A})^{{-1}}\\}_{{t=T}}\n",
        "\\\\\n",
        "{\\mathbf  B}_{d}=\\left(\\int _{{\\tau =0}}^{{T}}e^{{{\\mathbf  A}\\tau }}d\\tau \\right){\\mathbf  B}={\\mathbf  A}^{{-1}}({\\mathbf  A}_{d}-I){\\mathbf  B}\n",
        "\\end{equation}"
      ]
    },
    {
      "cell_type": "markdown",
      "metadata": {
        "id": "LSR2lugPHYoT"
      },
      "source": [
        "Let us find the discrete representation of system dynamics with samplng time $T = 10$ s"
      ]
    },
    {
      "cell_type": "code",
      "metadata": {
        "id": "cURZN5-q8W0N",
        "colab": {
          "base_uri": "https://localhost:8080/"
        },
        "outputId": "5b87f01d-63fe-4ed8-8f34-86fb49633d00"
      },
      "source": [
        "from scipy.signal import cont2discrete\n",
        "\n",
        "C = np.array([[1, 0, 0 ,0]])\n",
        "D = np.array([[0, 0]])\n",
        "\n",
        "dT = 10\n",
        "\n",
        "B_r = np.array([B[:,0]]).T\n",
        "B_theta = np.array([B[:,1]]).T\n",
        "\n",
        "A_d, B_d, C_d, D_d, _ = cont2discrete((A,B,C,D), dT)\n",
        "_, B_theta_d, _, _, _ = cont2discrete((A,B_theta,C,D), dT)\n",
        "_, B_r_d, _, _, _ = cont2discrete((A,B_r,C,D), dT)\n",
        "\n",
        "print(f\"Exact discretization:\\n {A_d, B_d}\")"
      ],
      "execution_count": null,
      "outputs": [
        {
          "output_type": "stream",
          "text": [
            "Exact discretization:\n",
            " (array([[ 1.00000084e+00,  9.99999906e+00,  0.00000000e+00,\n",
            "         7.50259590e-03],\n",
            "       [ 1.68866836e-07,  9.99999719e-01,  0.00000000e+00,\n",
            "         1.50051911e-03],\n",
            "       [-4.22313257e-10, -7.50259590e-03,  1.00000000e+00,\n",
            "         9.99999625e+00],\n",
            "       [-1.26693975e-10, -1.50051911e-03,  0.00000000e+00,\n",
            "         9.99998874e-01]]), array([[ 2.49999988e-01,  1.25043267e-04],\n",
            "       [ 4.99999953e-02,  3.75129795e-05],\n",
            "       [-1.25043267e-04,  2.49999953e-01],\n",
            "       [-3.75129795e-05,  4.99999812e-02]]))\n"
          ],
          "name": "stdout"
        }
      ]
    },
    {
      "cell_type": "markdown",
      "metadata": {
        "id": "gvR4vEgw8BNj"
      },
      "source": [
        "### **Controlability**\n"
      ]
    },
    {
      "cell_type": "code",
      "metadata": {
        "id": "QkcaT1Qb-4_E"
      },
      "source": [
        "def ctrb(A, B):\n",
        "  R = B\n",
        "  n = np.shape(A)[0]\n",
        "  for i in range(1,n):\n",
        "    A_pwr_n = np.linalg.matrix_power(A, i)\n",
        "    R = np.hstack((R,A_pwr_n.dot(B)))\n",
        "    rank_R = np.linalg.matrix_rank(R)\n",
        "  \n",
        "  if rank_R == n:\n",
        "    test = 'controllable'\n",
        "  else:\n",
        "    test = 'uncontrollable'\n",
        "  return R, rank_R, test"
      ],
      "execution_count": null,
      "outputs": []
    },
    {
      "cell_type": "markdown",
      "metadata": {
        "id": "8nb_DTT-IUKZ"
      },
      "source": [
        "Let us check the contrallability condition using both of the control channels  \n",
        "$u_r, u_\\theta$ and each of them separately:\n"
      ]
    },
    {
      "cell_type": "code",
      "metadata": {
        "colab": {
          "base_uri": "https://localhost:8080/"
        },
        "id": "tko_eOv-Brkm",
        "outputId": "a30a3641-d125-43a7-b708-dc3d4ddf3daa"
      },
      "source": [
        "for B_matrix in B_r_d, B_theta_d, B_d:\n",
        "  R, rank, test = ctrb(A_d, B_matrix)\n",
        "  print(f'\\nRank of the controlability matrix: {rank},\\nsystem is {test}' )"
      ],
      "execution_count": null,
      "outputs": [
        {
          "output_type": "stream",
          "text": [
            "\n",
            "Rank of the controlability matrix: 3,\n",
            "system is uncontrollable\n",
            "\n",
            "Rank of the controlability matrix: 4,\n",
            "system is controllable\n",
            "\n",
            "Rank of the controlability matrix: 4,\n",
            "system is controllable\n"
          ],
          "name": "stdout"
        }
      ]
    },
    {
      "cell_type": "markdown",
      "metadata": {
        "id": "FMXgCn1jCreO"
      },
      "source": [
        "Thus the system is controllable just with the one input, physically it represent the thrust vector pointing in tangent line: $u_\\theta$  "
      ]
    },
    {
      "cell_type": "markdown",
      "metadata": {
        "id": "TUjoxX4vIsM_"
      },
      "source": [
        "Recall that one can use the Popov-Belevitch-Hautus test to do the same. "
      ]
    },
    {
      "cell_type": "code",
      "metadata": {
        "colab": {
          "base_uri": "https://localhost:8080/"
        },
        "id": "2ETkN4m0AQ3d",
        "outputId": "2edbbff8-d6e3-439e-8a4d-424df6cb585a"
      },
      "source": [
        "def pbh(A, B):\n",
        "    lambdas, v = np.linalg.eig(A)\n",
        "    n = np.shape(A)[0]\n",
        "    ranks = n*[0]\n",
        "    # M = n*[0]\n",
        "    test = 'controllable'\n",
        "    for i in range(n):\n",
        "      M = np.hstack((A - lambdas[i]*np.eye(n), B))\n",
        "      ranks[i] = np.linalg.matrix_rank(M)\n",
        "      if ranks[i] != n:\n",
        "        test = 'uncontrollable'\n",
        "        if np.real(lambdas[i])<0:\n",
        "          test += ' but stabilizable'\n",
        "    return ranks, lambdas, test\n",
        "\n",
        "\n",
        "\n",
        "eigs, ranks, test = pbh(A_d,B_r_d)\n",
        "print(f'Eigen values of PBH matrices:\\n{eigs}\\n\\nRanks of the PBH matrices: {ranks},\\nsystem is {test}' )\n",
        "\n",
        "eigs, ranks, test = pbh(A_d,B_theta_d)\n",
        "print(f'Eigen values of PBH matrices:\\n{eigs}\\n\\nRanks of the PBH matrices: {ranks},\\nsystem is {test}' )"
      ],
      "execution_count": null,
      "outputs": [
        {
          "output_type": "stream",
          "text": [
            "Eigen values of PBH matrices:\n",
            "[3, 4, 4, 3]\n",
            "\n",
            "Ranks of the PBH matrices: [1.        +0.j         0.99999972+0.00075026j 0.99999972-0.00075026j\n",
            " 1.        +0.j        ],\n",
            "system is uncontrollable\n",
            "Eigen values of PBH matrices:\n",
            "[4, 4, 4, 4]\n",
            "\n",
            "Ranks of the PBH matrices: [1.        +0.j         0.99999972+0.00075026j 0.99999972-0.00075026j\n",
            " 1.        +0.j        ],\n",
            "system is controllable\n"
          ],
          "name": "stdout"
        }
      ]
    },
    {
      "cell_type": "markdown",
      "metadata": {
        "id": "tJafbrmEJfuG"
      },
      "source": [
        "The number of necesarry control channels may be deduced by analyzing the rank of \"PBH matrices\""
      ]
    },
    {
      "cell_type": "code",
      "metadata": {
        "colab": {
          "base_uri": "https://localhost:8080/"
        },
        "id": "4G1VL35LI6bA",
        "outputId": "d55541ab-20a1-465b-a44a-903a6a611310"
      },
      "source": [
        "lambdas, v = np.linalg.eig(A_d)\n",
        "n = len(lambdas)\n",
        "\n",
        "for i in range(n):\n",
        "  A_e = A_d - lambdas[i]*np.eye(n)\n",
        "  print(f'Eigenvalue s: {lambdas[i]}')\n",
        "  print(f'Rank of A - sI: {np.linalg.matrix_rank(A_e)}')\n",
        "  print(f'Rank difficiency: {n - np.linalg.matrix_rank(A_e)}\\n')"
      ],
      "execution_count": null,
      "outputs": [
        {
          "output_type": "stream",
          "text": [
            "Eigenvalue s: (1+0j)\n",
            "Rank of A - sI: 3\n",
            "Rank difficiency: 1\n",
            "\n",
            "Eigenvalue s: (0.9999997185552608+0.0007502595547439014j)\n",
            "Rank of A - sI: 3\n",
            "Rank difficiency: 1\n",
            "\n",
            "Eigenvalue s: (0.9999997185552608-0.0007502595547439014j)\n",
            "Rank of A - sI: 3\n",
            "Rank difficiency: 1\n",
            "\n",
            "Eigenvalue s: (1.0000000000000002+0j)\n",
            "Rank of A - sI: 3\n",
            "Rank difficiency: 1\n",
            "\n"
          ],
          "name": "stdout"
        }
      ]
    },
    {
      "cell_type": "markdown",
      "metadata": {
        "id": "fk4AlkpvJvB8"
      },
      "source": [
        "Since the matrices are of rank 3 - we need the only one actuator to control this system. However, for this practice lets use both of them. "
      ]
    },
    {
      "cell_type": "markdown",
      "metadata": {
        "id": "dKpvMqZgKOT6"
      },
      "source": [
        "### **Discrete Time LQR**\n",
        "For a discrete-time linear system described by:\n",
        "\n",
        "\\begin{equation}\n",
        "\\mathbf{x}_{k+1}=\\mathbf{A} \\mathbf{x}_{k}+\\mathbf{B}\\mathbf{u}_{k}\n",
        "\\end{equation}\n",
        "with a performance index defined as:\n",
        "\\begin{equation}\n",
        "J_c=\\sum \\limits _{{k=0}}^{{\\infty }}\\left(\\mathbf{x}_{k}^{T}\\mathbf{Q}\\mathbf{x}_{k}+\\mathbf{u}_{k}^{T}\\mathbf{R}\\mathbf{u}_{k}\\right)\n",
        "\\end{equation}\n",
        "\n",
        "the optimal control sequence minimizing the performance index is given by:\n",
        "\\begin{equation}\n",
        "\\mathbf{u}_{k}=-\\mathbf{K} \\mathbf{x}_{k}\n",
        "\\end{equation}\n",
        "\n",
        "where:\n",
        "\\begin{equation}\n",
        "\\mathbf{K}=(\\mathbf{R}+\\mathbf{B}^{T}\\mathbf{S}\\mathbf{B})^{{-1}}\\mathbf{B}^{T}\\mathbf{S}\\mathbf{A}\n",
        "\\end{equation}\n",
        "\n",
        "and $\\mathbf{S}$ is the unique positive definite solution to the discrete time algebraic Riccati equation (DARE):\n",
        "\n",
        "\\begin{equation}\n",
        "\\mathbf{S}=\\mathbf{A}^{T}\\mathbf{S}\\mathbf{A}-(\\mathbf{A}^{T}\\mathbf{S}\\mathbf{B})\\left(\\mathbf{R}+\\mathbf{B}^{T}\\mathbf{S}\\mathbf{B}\\right)^{{-1}}(\\mathbf{B}^{T}\\mathbf{S}\\mathbf{A})+\\mathbf{Q}\n",
        "\\end{equation}"
      ]
    },
    {
      "cell_type": "code",
      "metadata": {
        "id": "OeQE3qRGFQZ1"
      },
      "source": [
        "from scipy.linalg import solve_discrete_are as dare\n",
        "\n",
        "def dlqr(A, B, Q, R):\n",
        "    # Solve the DARE\n",
        "    S = dare(A, B, Q, R)\n",
        "    R_inv = np.linalg.inv(R + B.T @ S @ B )\n",
        "    K = R_inv @ (B.T @ S @ A)\n",
        "    Ac = A - B.dot(K)\n",
        "    E = np.linalg.eigvals(Ac)\n",
        "    return S, K, E\n"
      ],
      "execution_count": null,
      "outputs": []
    },
    {
      "cell_type": "markdown",
      "metadata": {
        "id": "oEL_UfFcLE_v"
      },
      "source": [
        "Let us find the descrete LQR gain that minimize the cost above while highly penelazing the thrust vector: "
      ]
    },
    {
      "cell_type": "code",
      "metadata": {
        "id": "bshxqqS4RT8K"
      },
      "source": [
        "Q = np.diag([0.1,0.1,0.00001,0.01])\n",
        "\n",
        "R = np.diag([10000000, 1000000])\n",
        "\n",
        "S, Kd, E = dlqr(A_d, B_d, Q, R)"
      ],
      "execution_count": null,
      "outputs": []
    },
    {
      "cell_type": "markdown",
      "metadata": {
        "id": "6hGVYCStRMAq"
      },
      "source": [
        " ### **Simulation**\n",
        "\n",
        "As for now we find the controller to be:\n",
        "\n",
        "\\begin{equation}\n",
        "\\mathbf{u}_{k}=-\\mathbf{K} \\mathbf{x}_{k}\n",
        "\\end{equation}\n",
        "\n",
        "Let us simulate the controller on two systems:\n",
        "\n",
        "1.   Linear discrete system:\n",
        "\\begin{equation}\n",
        "\\mathbf{x}_{k+1}=\\mathbf{A} \\mathbf{x}_{k}+\\mathbf{B}\\mathbf{u}_{k}\n",
        "\\end{equation}\n",
        "\n",
        "2.   Nonlinear continues system, solved on discrete time instances (discrete control, continues dynamics):\n",
        "\\begin{equation}\n",
        "\\mathbf{x}_{k+1}=\\int_{t_k}^{t_k + dT} \\mathbf{f}(\\mathbf{x}(\\tau),\\mathbf{u}_k) d\\tau \n",
        "\\end{equation}\n",
        "\n",
        "\n"
      ]
    },
    {
      "cell_type": "markdown",
      "metadata": {
        "id": "KZknGLITR6O7"
      },
      "source": [
        " #### **Linear Case**\n"
      ]
    },
    {
      "cell_type": "markdown",
      "metadata": {
        "id": "SIN0KpNaU8JJ"
      },
      "source": [
        "We will assume that the initial orbit is $5000$ km above desired one:"
      ]
    },
    {
      "cell_type": "code",
      "metadata": {
        "id": "_DrG3UFZxi7W"
      },
      "source": [
        "r_0 = r_d + 5e6"
      ],
      "execution_count": null,
      "outputs": []
    },
    {
      "cell_type": "markdown",
      "metadata": {
        "id": "UaKk1FXCVRqP"
      },
      "source": [
        "Let us first choose the initial orbit that $5000$ km far from the desired one:"
      ]
    },
    {
      "cell_type": "code",
      "metadata": {
        "colab": {
          "base_uri": "https://localhost:8080/",
          "height": 450
        },
        "id": "QzW4yRKL_WZ7",
        "outputId": "a2d89ba8-d70b-4680-b0a5-b1fe1c3674bd"
      },
      "source": [
        "import numpy as np\n",
        "import matplotlib.pyplot as plt\n",
        "\n",
        "N = 1600\n",
        "x = np.array([ r_0 - r_d,0, 0, 0])\n",
        "X = x\n",
        "U = -Kd@x\n",
        "\n",
        "for k in range(N):\n",
        "  u = -Kd@x \n",
        "  x = A_d @ x + B_d @ u\n",
        "  X = np.vstack((X, x))\n",
        "  U = np.vstack((U, u))\n",
        "\n",
        "e_r_d, e_dr_d, e_theta_d, e_dtheta_d = np.split(X, 4, axis = 1)\n",
        "\n",
        "\n",
        "t = np.array(range(N+1))*dT/60\n",
        "\n",
        "plt.figure(figsize=(9, 3))\n",
        "plt.step(t,e_r_d)\n",
        "plt.grid(color='black', linestyle='--', linewidth=1.0, alpha = 0.7)\n",
        "plt.grid(True)\n",
        "plt.ylabel(r'Error $\\tilde{r}$')\n",
        "plt.xlabel(r'Time  $T$ (min)')\n",
        "plt.show()\n",
        "\n",
        "plt.figure(figsize=(9, 3))\n",
        "plt.step(t,U)\n",
        "plt.grid(color='black', linestyle='--', linewidth=1.0, alpha = 0.7)\n",
        "plt.grid(True)\n",
        "plt.ylabel(r'Control $\\mathbf{u}[k]$')\n",
        "plt.xlabel(r'Time  $T$ (min)')\n",
        "plt.show()"
      ],
      "execution_count": null,
      "outputs": [
        {
          "output_type": "display_data",
          "data": {
            "image/png": "[encoded data removed]",
            "text/plain": [
              "<Figure size 648x216 with 1 Axes>"
            ]
          },
          "metadata": {
            "tags": [],
            "needs_background": "light"
          }
        },
        {
          "output_type": "display_data",
          "data": {
            "image/png": "[encoded data removed]",
            "text/plain": [
              "<Figure size 648x216 with 1 Axes>"
            ]
          },
          "metadata": {
            "tags": [],
            "needs_background": "light"
          }
        }
      ]
    },
    {
      "cell_type": "markdown",
      "metadata": {
        "id": "I5tEr-YtRHph"
      },
      "source": [
        " #### **Nonlinear Case**\n"
      ]
    },
    {
      "cell_type": "code",
      "metadata": {
        "colab": {
          "base_uri": "https://localhost:8080/",
          "height": 450
        },
        "id": "9BmwnW7AUF9d",
        "outputId": "5deddf80-7f87-4cec-9115-1d09a8fb0d9b"
      },
      "source": [
        "from scipy.integrate import odeint\n",
        "\n",
        "params = k, m\n",
        "\n",
        "func = lambda x, t, u, params : f(x, u, params)\n",
        "\n",
        "x0 = np.array([r_0, 0, 0, 0])\n",
        "T_span = np.linspace(0, dT, 5)\n",
        "X = x0\n",
        "\n",
        "x_d = np.array([r_d, 0, 0, omega])\n",
        "e = x0 - x_d \n",
        "E = e\n",
        "U = -Kd@e\n",
        "\n",
        "for k in range(N):\n",
        "  t = k*dT\n",
        "  x_d = np.array([r_d, 0, omega*t, omega])\n",
        "  e = x0 - x_d \n",
        "  u = -Kd@e\n",
        "  x_sol = odeint(func, x0, T_span, args=(u, params,))\n",
        "  x0 = x_sol[-1]\n",
        "\n",
        "  X = np.vstack((X, x0))\n",
        "  E = np.vstack((E, e))\n",
        "  U = np.vstack((U, u))\n",
        "\n",
        "r, dr, theta, dtheta = np.split(X, 4, axis = 1)\n",
        "e_r, e_dr, e_theta, e_dtheta = np.split(E, 4, axis = 1)\n",
        "t = np.array(range(N+1))*dT/60\n",
        "\n",
        "plt.figure(figsize=(9, 3))\n",
        "plt.step(t,e_r)\n",
        "plt.grid(color='black', linestyle='--', linewidth=1.0, alpha = 0.7)\n",
        "plt.grid(True)\n",
        "plt.ylabel(r'Error $\\tilde{r}$')\n",
        "plt.xlabel(r'Time  $t$ (min)')\n",
        "plt.show()\n",
        "\n",
        "plt.figure(figsize=(9, 3))\n",
        "plt.step(t,U)\n",
        "plt.grid(color='black', linestyle='--', linewidth=1.0, alpha = 0.7)\n",
        "plt.grid(True)\n",
        "plt.ylabel(r'Control $\\mathbf{u}[k]$')\n",
        "plt.xlabel(r'Time  $t$ (min)')\n",
        "plt.show()"
      ],
      "execution_count": null,
      "outputs": [
        {
          "output_type": "display_data",
          "data": {
            "image/png": "[encoded data removed]",
            "text/plain": [
              "<Figure size 648x216 with 1 Axes>"
            ]
          },
          "metadata": {
            "tags": [],
            "needs_background": "light"
          }
        },
        {
          "output_type": "display_data",
          "data": {
            "image/png": "[encoded data removed]",
            "text/plain": [
              "<Figure size 648x216 with 1 Axes>"
            ]
          },
          "metadata": {
            "tags": [],
            "needs_background": "light"
          }
        }
      ]
    },
    {
      "cell_type": "markdown",
      "metadata": {
        "id": "ywH2-r8rOXTf"
      },
      "source": [
        "We can compare the response:"
      ]
    },
    {
      "cell_type": "code",
      "metadata": {
        "colab": {
          "base_uri": "https://localhost:8080/",
          "height": 239
        },
        "id": "CbNcim53Oitl",
        "outputId": "10569e98-12c7-4bef-bc15-98b2897723fd"
      },
      "source": [
        "plt.figure(figsize=(9, 3))\n",
        "plt.step(t,e_r)\n",
        "plt.step(t,e_r_d)\n",
        "plt.grid(color='black', linestyle='--', linewidth=1.0, alpha = 0.7)\n",
        "plt.grid(True)\n",
        "plt.ylabel(r'State $\\mathbf{x}[k]$')\n",
        "plt.xlabel(r'Time  $t$ (min)')\n",
        "plt.show()\n"
      ],
      "execution_count": null,
      "outputs": [
        {
          "output_type": "display_data",
          "data": {
            "image/png": "[encoded data removed]",
            "text/plain": [
              "<Figure size 648x216 with 1 Axes>"
            ]
          },
          "metadata": {
            "tags": [],
            "needs_background": "light"
          }
        }
      ]
    },
    {
      "cell_type": "markdown",
      "metadata": {
        "id": "Il8RG8NGQdtw"
      },
      "source": [
        "### **HW Problem:**\n",
        "\n",
        "Check if it is possible to use either $r$ or $\\theta$ to design controller, if it's so design the observer to estimate the full state $\\mathbf{\\hat{x}}$ and then use the estimated state for full state feedback $\\mathbf{u}_k = -\\mathbf{K}\\mathbf{\\hat{x}}_k$. Simulate the designed controller both on linear and nonlinear systems.\n"
      ]
    }
  ]
}