{
  "nbformat": 4,
  "nbformat_minor": 0,
  "metadata": {
    "colab": {
      "name": "[CT21] lab06_discrete_systems.ipynb",
      "provenance": [],
      "collapsed_sections": [],
      "include_colab_link": true
    },
    "kernelspec": {
      "name": "python3",
      "display_name": "Python 3"
    }
  },
  "cells": [
    {
      "cell_type": "markdown",
      "metadata": {
        "id": "view-in-github",
        "colab_type": "text"
      },
      "source": [
        "<a href=\"https://colab.research.google.com/github/SergeiSa/Control-Theory-Slides-Spring-2021/blob/main/%20ColabNotebooks/practice_06_discrete_systems.ipynb\" target=\"_parent\"><img src=\"https://colab.research.google.com/assets/colab-badge.svg\" alt=\"Open In Colab\"/></a>"
      ]
    },
    {
      "cell_type": "markdown",
      "metadata": {
        "id": "zPmrTNlSBW-R"
      },
      "source": [
        "# **Practice 6: Discrete Systems**\n",
        "<!-- ## **Goals for today**\n",
        "\n",
        "---\n",
        "\n",
        "\n",
        "\n",
        "During today practice we will:\n",
        "- Recall the pole placement and root locus techniques\n",
        "- Solve the regulation and tracking problems -->\n",
        "\n"
      ]
    },
    {
      "cell_type": "markdown",
      "metadata": {
        "id": "vE2ZtaIMguPd"
      },
      "source": [
        "\n",
        "### **Discrete Time State Space**\n",
        "The state space representation of such models are given by:\n",
        "\\begin{equation}\n",
        "{\\mathbf  {x}}[k+1]={\\mathbf  A}_{d}{\\mathbf  {x}}[k]+{\\mathbf  B}_{d}{\\mathbf  {u}}[k]\n",
        "\\end{equation}\n",
        "\n",
        "where $\\mathbf{x}[k],\\mathbf{u}[k]$ are descrete **sequences** "
      ]
    },
    {
      "cell_type": "code",
      "metadata": {
        "colab": {
          "base_uri": "https://localhost:8080/",
          "height": 283
        },
        "id": "UXqCEwzXhIkz",
        "outputId": "cf90cc08-6d40-42ce-e942-af033d9ef7e2"
      },
      "source": [
        "import numpy as np\n",
        "import matplotlib.pyplot as plt\n",
        "\n",
        "A_d = np.array([[0.6, 0.5], \n",
        "              [-0.8, 0.5]])\n",
        "N = 40\n",
        "x = np.array([1,-1])\n",
        "X = x\n",
        "for k in range(N):\n",
        "  x = A_d.dot(x)\n",
        "  X = np.vstack((X, x))\n",
        "\n",
        "plt.step(range(N+1),X)\n",
        "plt.xlim([-0.2, N])\n",
        "plt.grid(color='black', linestyle='--', linewidth=1.0, alpha = 0.7)\n",
        "plt.grid(True)\n",
        "plt.ylabel(r'State $\\mathbf{x}[k]$')\n",
        "plt.xlabel(r'Sample $k$')\n",
        "plt.show()"
      ],
      "execution_count": null,
      "outputs": [
        {
          "output_type": "display_data",
          "data": {
            "image/png": "[encoded data removed]",
            "text/plain": [
              "<Figure size 432x288 with 1 Axes>"
            ]
          },
          "metadata": {
            "tags": [],
            "needs_background": "light"
          }
        }
      ]
    },
    {
      "cell_type": "markdown",
      "metadata": {
        "id": "VMv9_G55JAVR"
      },
      "source": [
        "### **Discretization**\n",
        "\n",
        "Recall the linear system in state space form:\n",
        "\\begin{equation}\n",
        "\\mathbf{\\dot{x}}(t)=\\mathbf{A}\\mathbf{x}(t) + \\mathbf{B}\\mathbf{u}(t)\n",
        "\\end{equation}\n",
        "\n",
        "This equations may be represented in the descrete form via so called **discretization**. Discretization is the process of transferring continuous functions, models, variables, and equations into discrete counterparts. This process is usually carried out as a first step toward making them suitable for numerical evaluation and implementation on digital computers.\n",
        "\n",
        "\n",
        "\n",
        "\n",
        "In order to descretize system exactly, one just need to solve it on time interval $T$ (sampling time):\n",
        "\n",
        "\\begin{equation}\n",
        "{\\mathbf  A}_{d}=e^{{{\\mathbf  A}T}}={\\mathcal  {L}}^{{-1}}\\{(s{\\mathbf  I}-{\\mathbf  A})^{{-1}}\\}_{{t=T}}\n",
        "\\\\\n",
        "{\\mathbf  B}_{d}=\\left(\\int _{{\\tau =0}}^{{T}}e^{{{\\mathbf  A}\\tau }}d\\tau \\right){\\mathbf  B}={\\mathbf  A}^{{-1}}({\\mathbf  A}_{d}-I){\\mathbf  B}\n",
        "\\end{equation}\n"
      ]
    },
    {
      "cell_type": "code",
      "metadata": {
        "colab": {
          "base_uri": "https://localhost:8080/"
        },
        "id": "DsFdX0WDewf7",
        "outputId": "1a9398be-f58a-474c-9f6f-30a58b17160f"
      },
      "source": [
        "import numpy as np\n",
        "from scipy.integrate import odeint\n",
        "from scipy import signal\n",
        "\n",
        "def system_ode(x, t, A):\n",
        "    dx = np.dot(A,x)\n",
        "    return dx\n",
        "\n",
        "A = np.array([[0, 1], \n",
        "              [-10, -5]])\n",
        "\n",
        "B = np.array([[0], \n",
        "              [1]])\n",
        "\n",
        "C = np.array([[1, 0]])\n",
        "D = np.array([[0]])\n",
        "\n",
        "T = 0.1\n",
        "\n",
        "A_d, B_d, C_d, D_d, _ = signal.cont2discrete((A,B,C,D), T)\n",
        "print(A_d, B_d, C_d, D_d)\n"
      ],
      "execution_count": null,
      "outputs": [
        {
          "output_type": "stream",
          "text": [
            "[[ 0.95772944  0.07739424]\n",
            " [-0.7739424   0.57075825]] [[0.00422706]\n",
            " [0.07739424]] [[1 0]] [[0]]\n"
          ],
          "name": "stdout"
        }
      ]
    },
    {
      "cell_type": "markdown",
      "metadata": {
        "id": "W0MN40s6gh-7"
      },
      "source": [
        "Lets compare solutions of descrete system and it's continues original:"
      ]
    },
    {
      "cell_type": "code",
      "metadata": {
        "colab": {
          "base_uri": "https://localhost:8080/",
          "height": 283
        },
        "id": "9l-WQQd1ghi1",
        "outputId": "71438748-57a4-4abd-b094-161b75a0af4a"
      },
      "source": [
        "N = 30\n",
        "tf = N*T # Final time\n",
        "t = np.linspace(0, tf, N) # Create time span\n",
        "x0 = [1, 0] # Set initial state \n",
        "\n",
        "x_sol = odeint(system_ode, x0, t, args=(A, )) \n",
        "x = x0\n",
        "x_d = x0\n",
        "for k in range(N):\n",
        "  x = A_d.dot(x)\n",
        "  x_d = np.vstack((x_d, x))\n",
        "\n",
        "plt.step(range(N+1), x_d)\n",
        "plt.plot(x_sol)\n",
        "plt.grid(color='black', linestyle='--', linewidth=1.0, alpha = 0.7)\n",
        "plt.grid(True)\n",
        "plt.ylabel(r'State $\\mathbf{x}[k]$')\n",
        "plt.xlabel(r'Sample $k$')\n",
        "plt.show()"
      ],
      "execution_count": null,
      "outputs": [
        {
          "output_type": "display_data",
          "data": {
            "image/png": "[encoded data removed]",
            "text/plain": [
              "<Figure size 432x288 with 1 Axes>"
            ]
          },
          "metadata": {
            "tags": [],
            "needs_background": "light"
          }
        }
      ]
    },
    {
      "cell_type": "markdown",
      "metadata": {
        "id": "vBBWZU9fOtf7"
      },
      "source": [
        "### **Approximations**\n",
        "\n",
        "  Exact discretization may sometimes be intractable due to the heavy matrix exponential and integral operations involved. It is much easier to calculate an approximate discrete model, based on that for small timesteps $e^{{{\\mathbf  A}T}}\\approx {\\mathbf  I}+{\\mathbf  A}T$. The approximate solution then becomes:\n",
        "\n",
        "\n",
        "\\begin{equation}\n",
        "{\\mathbf  x}[k+1]\\approx ({\\mathbf  I}+{\\mathbf  A}T){\\mathbf  x}[k]+T{\\mathbf  B}{\\mathbf  u}[k]\n",
        "\\end{equation}\n",
        "Another method is to use so called bilinear transform, or Tustin transform. \n",
        "\\begin{equation}\n",
        "\\mathbf{A}_d = e^{{{\\mathbf  A}T}}\\approx \\left({\\mathbf  I}+{\\frac  {1}{2}}{\\mathbf  A}T\\right)\\left({\\mathbf  I}-{\\frac  {1}{2}}{\\mathbf  A}T\\right)^{{-1}}\n",
        "\\end{equation}\n",
        "\n",
        "Each of these approximations has different stability properties. The bilinear transform preserves the instability of the continuous-time system."
      ]
    },
    {
      "cell_type": "markdown",
      "metadata": {
        "id": "MQ3fceFLKoH_"
      },
      "source": [
        "### **Exercise:**\n",
        "Find the exact and approximate descretization of the following systems. \n",
        "$$\\dot x = \n",
        "\\begin{bmatrix} 10 & 0 \\\\ -5 & 10\n",
        "\\end{bmatrix}\n",
        "x\n",
        "+\n",
        "\\begin{bmatrix} \n",
        "2 \\\\ 0\n",
        "\\end{bmatrix}\n",
        "u\n",
        "$$\n",
        "\n",
        "$$\\dot x = \n",
        "\\begin{bmatrix} 2 & 2 \\\\ -6 & 10\n",
        "\\end{bmatrix}\n",
        "x\n",
        "+\n",
        "\\begin{bmatrix} \n",
        "0 & -1 \\\\ 5 & -1\n",
        "\\end{bmatrix}\n",
        "u\n",
        "$$"
      ]
    },
    {
      "cell_type": "code",
      "metadata": {
        "id": "LHBJaMF7ndeG",
        "colab": {
          "base_uri": "https://localhost:8080/"
        },
        "outputId": "b92fa638-1674-4d6b-ee10-13466e842ff7"
      },
      "source": [
        "A = np.array([[0, 1], \n",
        "              [-10, -5]])\n",
        "\n",
        "B = np.array([[0], \n",
        "              [1]])\n",
        "\n",
        "C = np.array([[1, 0]])\n",
        "\n",
        "D = np.array([[0]])\n",
        "\n",
        "T = 0.001\n",
        "\n",
        "A_d, B_d, C_d, D_d, _ = signal.cont2discrete((A,B,C,D), T)\n",
        "\n",
        "print(f\"Exact discretization:\\n {A_d, B_d}\")\n",
        "\n",
        "A_d_approx = np.eye(2) + T*A \n",
        "B_d_approx = T*B\n",
        "\n",
        "print(f\"\\nApproximate discretization:\\n {A_d_approx, B_d_approx}\")"
      ],
      "execution_count": null,
      "outputs": [
        {
          "output_type": "stream",
          "text": [
            "Exact discretization:\n",
            " (array([[ 9.99995008e-01,  9.97502499e-04],\n",
            "       [-9.97502499e-03,  9.95007496e-01]]), array([[4.99167291e-07],\n",
            "       [9.97502499e-04]]))\n",
            "\n",
            "Approximate discretization:\n",
            " (array([[ 1.   ,  0.001],\n",
            "       [-0.01 ,  0.995]]), array([[0.   ],\n",
            "       [0.001]]))\n"
          ],
          "name": "stdout"
        }
      ]
    },
    {
      "cell_type": "markdown",
      "metadata": {
        "id": "POx7WJ1aRBh8"
      },
      "source": [
        "### **Stability**\n",
        "\n",
        "the concepts of stability is fairly general and can be applied to the descrete time systems, however, in this case solutions may be analized directly, and stability criterias are the following:\n",
        "\n",
        "\n",
        "*   Asymptotically stable $|\\lambda_i| = \\sqrt{\\operatorname{Re}(\\lambda_i)^2 + \\operatorname{Im}(\\lambda_i)^2} < 1,\\forall i$ \n",
        "*   Lyapunov stable: $ |\\lambda_i|\\leq 1,\\forall i$\n",
        "*   Unstable: $\\exists\\lambda_i, |\\lambda_i|>1 $\n"
      ]
    },
    {
      "cell_type": "markdown",
      "metadata": {
        "id": "W7PpZtoyo_pw"
      },
      "source": [
        "### **Exercise:**\n",
        "Check the stability properties for system defined above. "
      ]
    },
    {
      "cell_type": "code",
      "metadata": {
        "id": "aVilPFmQRA_g",
        "colab": {
          "base_uri": "https://localhost:8080/"
        },
        "outputId": "1b70f100-ffda-42a0-8f8f-a7fca288f988"
      },
      "source": [
        "from numpy.linalg import eig\n",
        "e, v = eig(A_d)\n",
        "print(\"Eigenvalues of A:\\n\", abs(e))"
      ],
      "execution_count": null,
      "outputs": [
        {
          "output_type": "stream",
          "text": [
            "Eigenvalues of A:\n",
            " [0.99750312 0.99750312]\n"
          ],
          "name": "stdout"
        }
      ]
    },
    {
      "cell_type": "markdown",
      "metadata": {
        "id": "BV2VxRCyUUCP"
      },
      "source": [
        "### **Descrete Feedback**\n",
        "\n",
        "The general form of feedback that may stabilize our system is linear as well as for continues time system:\n",
        "\\begin{equation}\n",
        "\\mathbf{u}[k]=-\\mathbf{K}\\mathbf{x}[k]\n",
        "\\end{equation}"
      ]
    },
    {
      "cell_type": "markdown",
      "metadata": {
        "id": "Oy2uWXakaWXW"
      },
      "source": [
        "### **Pole Placement**\n",
        "\n",
        "Previously we have designed a stable poles for continues time systems by placing them on the left hand side of comple plane. In case of descrete time systems we should place them inside of **unit circle**\n"
      ]
    },
    {
      "cell_type": "code",
      "metadata": {
        "colab": {
          "base_uri": "https://localhost:8080/"
        },
        "id": "UoGq0eulafoH",
        "outputId": "91a302ff-8c6a-4564-b8dc-bbb91f169bef"
      },
      "source": [
        "A = np.array([[3, 1], \n",
        "               [0, 2]])\n",
        "\n",
        "B = np.array([[1], \n",
        "              [1]])\n",
        "\n",
        "C = np.array([[1, 0]])\n",
        "D = np.array([[0]])\n",
        "\n",
        "T = 0.1\n",
        "\n",
        "A_d, B_d, C_d, D_d, _ = signal.cont2discrete((A,B,C,D), T)\n",
        "\n",
        "e, v = eig(A_d)\n",
        "print(\"Original eigenvalues of A:\\n\", e)\n",
        "\n",
        "#desired eigenvalues\n",
        "poles = np.array([0.5+0.2j, 0.5-0.2j])\n",
        "place_obj = signal.place_poles(A_d, B_d, poles)\n",
        "\n",
        "#found control gains\n",
        "K = place_obj.gain_matrix\n",
        "print(\"\\nGain matrix K:\\n\", K)\n",
        "\n",
        "#test that eigenvalues of the closed loop system are what they are supposed to be \n",
        "e, v = eig((A_d - B_d.dot(K)))\n",
        "print(\"\\nPlaced eigenvalues of A - B*K:\\n\", abs(e))"
      ],
      "execution_count": null,
      "outputs": [
        {
          "output_type": "stream",
          "text": [
            "Original eigenvalues of A:\n",
            " [1.34985881 1.22140276]\n",
            "\n",
            "Gain matrix K:\n",
            " [[ 25.44175186 -13.96834808]]\n",
            "\n",
            "Placed eigenvalues of A - B*K:\n",
            " [0.53851648 0.53851648]\n"
          ],
          "name": "stdout"
        }
      ]
    },
    {
      "cell_type": "code",
      "metadata": {
        "id": "7V1pKvTldWDP"
      },
      "source": [
        "# Implement the stabilization problem"
      ],
      "execution_count": null,
      "outputs": []
    }
  ]
}