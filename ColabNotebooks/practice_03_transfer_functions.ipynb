{
  "nbformat": 4,
  "nbformat_minor": 0,
  "metadata": {
    "colab": {
      "name": "[CT21] lab03_transfer_functions.ipynb",
      "provenance": [],
      "collapsed_sections": [],
      "include_colab_link": true
    },
    "kernelspec": {
      "name": "python3",
      "display_name": "Python 3"
    }
  },
  "cells": [
    {
      "cell_type": "markdown",
      "metadata": {
        "id": "view-in-github",
        "colab_type": "text"
      },
      "source": [
        "<a href=\"https://colab.research.google.com/github/SergeiSa/Control-Theory-Slides-Spring-2021/blob/main/ColabNotebooks/practice3_transfer_functions.ipynb\" target=\"_parent\"><img src=\"https://colab.research.google.com/assets/colab-badge.svg\" alt=\"Open In Colab\"/></a>"
      ]
    },
    {
      "cell_type": "markdown",
      "metadata": {
        "id": "D-dOD4xqsPiR"
      },
      "source": [
        "# **Practice 3: Laplace Transform and Transfer Functions**\n",
        "## **Goals for today**\n",
        "\n",
        "---\n",
        "\n",
        "\n",
        "\n",
        "During today practice we will:\n",
        "* Recall the Laplace transform\n",
        "* Define the transfer functions\n",
        "* Model particular systems with transfer functions \n"
      ]
    },
    {
      "cell_type": "markdown",
      "metadata": {
        "id": "RCityqOscrJV"
      },
      "source": [
        "## **Laplace transform**\n",
        "\n",
        "In mathematics, the Laplace transform, named after its inventor Pierre-Simon Laplace, is an integral transform that converts a function of a real variable $t$ (time domain) to a function of a complex variable $s$ (frequency domain). The transform has many applications in science and engineering because it is a tool for solving differential equations. In particular, it transforms differential equations into algebraic equations.\n",
        "\n",
        "The Laplace transform of a function $f(t)$ is given as:\n",
        "\\begin{equation}\n",
        "    F(s) = \\mathcal{L} \\{ x(t)\\} = \\int_0^\\infty f(t) e^{-st}dt\n",
        "\\end{equation}\n",
        "\n",
        "where $F(s)$ is called an ***image*** of the function and $s=\\alpha +\\beta i $ is a complex frequency.\n",
        "\n",
        "Laplace transform is defined as transformation from the time domain $t$ to the frequency domain $s$.\n",
        "\n",
        "it is convinient to use the table of precalculated Laplace transforms:\n",
        "<p><img alt=\"mbk\" height=\"340px\" src=\"https://drive.google.com/uc?id=1ge8dKAmcvYr6VOmQ4ouzolNUDJ9V9wDH\" align=\"center\" hspace=\"220px\" vspace=\"0px\"></p>\n",
        "\n",
        "#### **Some Usefull properties**\n",
        "Linear properties:\n",
        "\\begin{equation}\n",
        "    {\\mathcal {L}}\\{f(t)+g(t)\\}={\\mathcal {L}}\\{f(t)\\}+{\\mathcal {L}}\\{g(t)\\}\n",
        "\\end{equation}\n",
        "\n",
        "\\begin{equation}\n",
        "    {\\mathcal {L}}\\{af(t)\\}=a{\\mathcal {L}}\\{f(t)\\}\n",
        "\\end{equation}\n",
        "Final value theorem:\n",
        "\\begin{equation}\n",
        "f(\\infty )=\\lim _{s\\to 0}{sF(s)}\n",
        "\\end{equation}\n",
        "The final value theorem is useful because it gives the long-term behaviour for particular function. \n",
        "\n",
        "#### **Inverse Laplace Transform**\n",
        "The inverse Laplace transform is going in other way, by transforming image of your function $F(s)$ from frequancy domain to time domain $x(t)$:\n",
        "\\begin{equation}\n",
        "{\\displaystyle f(t)={\\mathcal {L}}^{-1}\\{F\\}(t)={\\frac {1}{2\\pi i}}\\lim _{T\\to \\infty }\\int _{\\gamma -iT}^{\\gamma +iT}e^{st}F(s)\\,ds}\n",
        "\\end{equation}\n",
        "\n",
        "However in poractice we mostly use precalculated laplace transforms and then trying to decompose the image $X(s)$ into known transforms of functions obtained from a table, and construct the inverse by inspection, or just use some symbolic routines:\n",
        "\n"
      ]
    },
    {
      "cell_type": "code",
      "metadata": {
        "id": "MKcM-1G4gaYW"
      },
      "source": [
        "import sympy\n",
        "sympy.init_printing()\n"
      ],
      "execution_count": null,
      "outputs": []
    },
    {
      "cell_type": "code",
      "metadata": {
        "id": "0Qj3OoWjgikM"
      },
      "source": [
        "t, s = sympy.symbols('t, s')\n",
        "a = sympy.symbols('a', real=True, positive=True)"
      ],
      "execution_count": null,
      "outputs": []
    },
    {
      "cell_type": "code",
      "metadata": {
        "colab": {
          "base_uri": "https://localhost:8080/",
          "height": 38
        },
        "id": "psiuazxSgkhO",
        "outputId": "b26ec563-1f02-4f55-d04f-52f98f450600"
      },
      "source": [
        "f = sympy.exp(a*t)\n",
        "f"
      ],
      "execution_count": null,
      "outputs": [
        {
          "output_type": "execute_result",
          "data": {
            "image/png": "[encoded data removed]",
            "text/latex": "$$e^{a t}$$",
            "text/plain": [
              " a⋅t\n",
              "ℯ   "
            ]
          },
          "metadata": {
            "tags": []
          },
          "execution_count": 19
        }
      ]
    },
    {
      "cell_type": "code",
      "metadata": {
        "colab": {
          "base_uri": "https://localhost:8080/",
          "height": 39
        },
        "id": "ntT8J1XIgzKW",
        "outputId": "020ea8c7-51df-4311-f257-90e6ee5aa3f0"
      },
      "source": [
        "F = sympy.laplace_transform(f, t, s, noconds=True)\n",
        "F"
      ],
      "execution_count": null,
      "outputs": [
        {
          "output_type": "execute_result",
          "data": {
            "image/png": "[encoded data removed]",
            "text/latex": "$$\\frac{1}{- a + s}$$",
            "text/plain": [
              "  1   \n",
              "──────\n",
              "-a + s"
            ]
          },
          "metadata": {
            "tags": []
          },
          "execution_count": 20
        }
      ]
    },
    {
      "cell_type": "code",
      "metadata": {
        "colab": {
          "base_uri": "https://localhost:8080/",
          "height": 38
        },
        "id": "ClrfANLng66x",
        "outputId": "41c64eaa-c256-4150-f126-023c75ca22fb"
      },
      "source": [
        "f = sympy.inverse_laplace_transform(F, s, t)\n",
        "f"
      ],
      "execution_count": null,
      "outputs": [
        {
          "output_type": "execute_result",
          "data": {
            "image/png": "[encoded data removed]",
            "text/latex": "$$e^{a t} \\theta\\left(t\\right)$$",
            "text/plain": [
              " a⋅t             \n",
              "ℯ   ⋅Heaviside(t)"
            ]
          },
          "metadata": {
            "tags": []
          },
          "execution_count": 21
        }
      ]
    },
    {
      "cell_type": "code",
      "metadata": {
        "id": "TdHXASZ6hJAq"
      },
      "source": [
        "def L(f):\n",
        "    return sympy.laplace_transform(f, t, s, noconds=True)\n",
        "\n",
        "def invL(F):\n",
        "    return sympy.inverse_laplace_transform(F, s, t)\n",
        "\n"
      ],
      "execution_count": null,
      "outputs": []
    },
    {
      "cell_type": "code",
      "metadata": {
        "colab": {
          "base_uri": "https://localhost:8080/",
          "height": 39
        },
        "id": "H0g7os87j51Y",
        "outputId": "9757fb16-958f-4139-d797-c698427b2d1d"
      },
      "source": [
        "L(sympy.exp(a*t))"
      ],
      "execution_count": null,
      "outputs": [
        {
          "output_type": "execute_result",
          "data": {
            "image/png": "[encoded data removed]",
            "text/latex": "$$\\frac{1}{- a + s}$$",
            "text/plain": [
              "  1   \n",
              "──────\n",
              "-a + s"
            ]
          },
          "metadata": {
            "tags": []
          },
          "execution_count": 23
        }
      ]
    },
    {
      "cell_type": "code",
      "metadata": {
        "colab": {
          "base_uri": "https://localhost:8080/",
          "height": 38
        },
        "id": "Ma5asUr4j5db",
        "outputId": "89227400-769f-464a-ca66-e06b5baec9be"
      },
      "source": [
        "invL(F)"
      ],
      "execution_count": null,
      "outputs": [
        {
          "output_type": "execute_result",
          "data": {
            "image/png": "[encoded data removed]",
            "text/latex": "$$e^{a t} \\theta\\left(t\\right)$$",
            "text/plain": [
              " a⋅t             \n",
              "ℯ   ⋅Heaviside(t)"
            ]
          },
          "metadata": {
            "tags": []
          },
          "execution_count": 24
        }
      ]
    },
    {
      "cell_type": "markdown",
      "metadata": {
        "id": "Bj7W6rQViF4J"
      },
      "source": [
        "\n",
        ">### **Exercise**\n",
        "> Write the code that will reproduce the first 5 rows of the table above."
      ]
    },
    {
      "cell_type": "code",
      "metadata": {
        "id": "fY3HSwLsiAtM"
      },
      "source": [
        "# Put your code here"
      ],
      "execution_count": null,
      "outputs": []
    },
    {
      "cell_type": "markdown",
      "metadata": {
        "id": "o3Z6WvjdfnpO"
      },
      "source": [
        "\n",
        "\n",
        "### **Laplace transform of a function's derivative**\n",
        ">For us one of the most usefull properties of Laplace transform is that if we apply it to the derevetive of a given variable it will result with following:\n",
        ">\n",
        "> \\begin{equation}\n",
        "\\mathcal{L}\\left\\{\\frac{dx(t)}{dt}\\right\\} = s \\mathcal{L}\\left(x\\right) = s X(s)\n",
        "\\end{equation}\n",
        "which is true for $x(0) = 0$\n",
        ">\n",
        ">Thus we can define a **derivative operator**:\n",
        "\\begin{equation}\n",
        "\\frac{dx}{dt} \\xrightarrow{\\mathcal{L}} s X(s)\n",
        "\\end{equation}\n",
        "\n",
        "The proof is as follows, using defenition of Laplace transform:\n",
        "\\begin{equation}\n",
        "    \\mathcal{L}\\left\\{\\frac{dx}{dt}\\right\\} = \\int_0^\\infty \\frac{dx}{dt} e^{-st}dt\n",
        "\\end{equation}\n",
        "Then using integration by parts:\n",
        "\n",
        "\\begin{equation}\n",
        "\\int_0^\\infty \\frac{dx}{dt} e^{-st}dt =  \\left[x e^{-st} \\right]_0^\\infty - \n",
        "\\int_0^\\infty -se^{-st} x dt \n",
        "\\end{equation}\n",
        "which yields:\n",
        "\\begin{equation}\n",
        "\\left[x e^{-st} \\right]_0^\\infty + \n",
        "s\\int_0^\\infty e^{-st} x dt = x(0) + s\\mathcal{L}\\{x(t)\\} = x(0) + sX(s)\n",
        "\\end{equation}\n",
        "\n",
        "by induction it can be shown that:\n",
        "\\begin{equation}\n",
        "{\\mathcal {L}}\\left\\{\\frac{d^{n}x}{dt^{n}}(t)\\right\\}=s^{n}\\cdot {\\mathcal {L}}\\{x(t)\\}+s^{n-1}x(0)+\\cdots +x^{(n-1)}(0)\n",
        "\\end{equation}\n",
        "\n",
        "\\begin{equation}\n",
        "    \\mathcal{L}\\left(\\frac{dx}{dt}\\right) = \\int_0^\\infty \\frac{dx}{dt} e^{-st}dt\n",
        "\\end{equation}\n",
        "\n",
        "### **Applications to the linear ODEs**\n",
        ">Let us consider the following ODE:\n",
        "\\begin{equation}\n",
        "a_{n}x^{(n)} +a_{n-1}x^{(n-1)}+...+a_{2}\\ddot x+a_{1}\\dot x + a_0 x= u_{m}b^{(m)} +b_{m-1}u^{(m-1)}+...+b_{2}\\ddot u+b_{1}\\dot u + b_0 u\n",
        "\\end{equation}\n",
        "Notice that we introduce a new variable that we call the input $u$ (control). \n",
        "\n",
        "Aplying the inverse laplace transform with zero initial conditions yields:\n",
        "\\begin{equation}\n",
        "a_{n}s^{(n)}X(s) +a_{n-1}s^{(n-1)}X(s)+...+a_{2} s^2 X(s)+a_{1}s X(s) + a_0 X(s) =\\\\\n",
        "= b_{m}s^{(m)}U(s) +b_{m-1}s^{(m-1)}U(s)+...+b_{2}s^2 U(s)+b_{1}sU(s) + b_0 U(s)\n",
        "\\end{equation}\n",
        "\n"
      ]
    },
    {
      "cell_type": "markdown",
      "metadata": {
        "id": "RDrejDYJkiWH"
      },
      "source": [
        "\n",
        ">### **Exercise**\n",
        "> Apply Laplace transform to the following ODEs:\n",
        ">* $2 \\ddot{x} -7 x  = u $\n",
        ">* $ x^{(3)} - 2   \\ddot x  + 2x  = u + 3\\dot{u}$\n",
        ">* $10 x^{(4)} -7  x^{(3)} + 2   \\ddot x + 0.5 \\dot x + 4x  = u + 3\\dot{u} -2 {\\ddot{u}}$"
      ]
    },
    {
      "cell_type": "markdown",
      "metadata": {
        "id": "xC0pbISDkw-g"
      },
      "source": [
        "\n",
        "## **Transfer Functions**\n",
        "A transfer function is a mathematical function which theoretically models the device's output for each possible input. Transfer functions are commonly used in the analysis of systems such as single-input single-output filters in the fields of signal processing, communication theory, and control theory. The term is often used exclusively to refer to linear time-invariant (LTI) systems\n",
        "\n",
        "Thus, for continuous-time input signal $u(t)$ and output $x(t)$, the transfer function $H(s)$ is the linear mapping of the Laplace transform of the input, $U(s) = \\mathcal{L}\\left\\{u(t)\\right\\}$, to the Laplace transform of the output $X(s) = \\mathcal{L}\\left\\{x(t)\\right\\}$:\n",
        "\\begin{equation}\n",
        " X(s) = W(s)\\;U(s) \\rightarrow  W(s) = \\frac{X(s)}{U(s)} = \\frac{ \\mathcal{L}\\left\\{x(t)\\right\\} }{ \\mathcal{L}\\left\\{u(t)\\right\\} }\n",
        "\\end{equation}\n",
        "\n",
        "Considering this defenition we can evaluate tha transfer function for ODE given above as:\n",
        "\\begin{equation}\n",
        "W(s) = \\frac{X(s)}{U(s)} = \\frac{b_{m}s^{(m)} +b_{m-1}s^{(m-1)}+...+b_{2}s^2 +b_{1}s + b_0 }{a_{n}s^{(n)} +a_{n-1}s^{(n-1)}+...+a_{2} s^2 +a_{1}s  + a_0 }\n",
        "\\end{equation}\n",
        "\n",
        "A transfer function thus represent the ODE by its behaviour from input image $U(s)$ to output image $X(s)$.\n",
        "\n",
        "\n"
      ]
    },
    {
      "cell_type": "markdown",
      "metadata": {
        "id": "oV6h4Uok27gX"
      },
      "source": [
        ">### **Example**\r\n",
        ">Consider the mass-spring-damper system:\r\n",
        "><p><img alt=\"mbk\" height=\"250px\" src=\"https://drive.google.com/uc?id=1ouEckIc8hm6IOTJ5uGVJHCwx2tBeyKj8\" align=\"center\" hspace=\"350px\" vspace=\"0px\"></p>\r\n",
        ">\r\n",
        "> with dynamics given by\r\n",
        "> \\begin{equation}\r\n",
        "m \\ddot y + b \\dot y + k y = u\r\n",
        "\\end{equation} \r\n",
        ">\r\n",
        ">where $u$ is force that applied to the mass, let's model this system by using transfer functions.\r\n",
        "\r\n"
      ]
    },
    {
      "cell_type": "code",
      "metadata": {
        "colab": {
          "base_uri": "https://localhost:8080/",
          "height": 279
        },
        "id": "3cPmD7N7tZow",
        "outputId": "8695b5eb-434b-4181-b9c4-70e331e23a07"
      },
      "source": [
        "import numpy as np\r\n",
        "from scipy import signal\r\n",
        "import matplotlib.pyplot as plt\r\n",
        "from scipy.integrate import odeint\r\n",
        "\r\n",
        "# Simulate m d^2y/dt^2 + b dy/dt + k y = u \r\n",
        "# from u to y\r\n",
        "# W(s) = 1/(m s^2 + bs + k)\r\n",
        "\r\n",
        "m = 2\r\n",
        "b = 1\r\n",
        "k = 5\r\n",
        "\r\n",
        "num = [1,0]\r\n",
        "den = [m, b, k]\r\n",
        "sys_tf = signal.TransferFunction(num,den)\r\n",
        "t_tf,y_tf = signal.step(sys_tf)\r\n",
        "\r\n",
        "plt.figure(1)\r\n",
        "plt.plot(t_tf,y_tf,'r',linewidth=2,label=r'$y$ response')\r\n",
        "plt.xlabel(r'Time')\r\n",
        "plt.ylabel(r'Response (y)')\r\n",
        "plt.grid(color='black', linestyle='--', linewidth=1.0, alpha = 0.7)\r\n",
        "plt.grid(True)\r\n",
        "plt.xlim([t_tf[0], t_tf[-1]])\r\n",
        "plt.legend(loc='best')\r\n",
        "plt.show()"
      ],
      "execution_count": null,
      "outputs": [
        {
          "output_type": "display_data",
          "data": {
            "image/png": "[encoded data removed]",
            "text/plain": [
              "<Figure size 432x288 with 1 Axes>"
            ]
          },
          "metadata": {
            "tags": [],
            "needs_background": "light"
          }
        }
      ]
    },
    {
      "cell_type": "markdown",
      "metadata": {
        "id": "1qQ-mJEhs7L3"
      },
      "source": [
        " >### **Exercises**\r\n",
        "> 1) Find the transfer function of the ODEs given above\r\n",
        ">\r\n",
        "> 2) Modify the code above to represent the response from input force $u$ to output velocity $\\dot{y}$\r\n",
        ">\r\n",
        "> 2) Compare solutions with ones provided by `odeint` \r\n"
      ]
    },
    {
      "cell_type": "markdown",
      "metadata": {
        "id": "f_jpmegAx_Pj"
      },
      "source": [
        "### **From State Space to Transfer Functions**\n",
        "\n",
        "Consider standard form state-space dynamical system:\n",
        "\n",
        "\\begin{equation}\n",
        "\\begin{cases}\n",
        "\\dot{\\mathbf{x}} = \\mathbf{A}\\mathbf{x} + \\mathbf{B}\\mathbf{u} \\\\\n",
        "     \\mathbf{y}  = \\mathbf{C}\\mathbf{x} + \\mathbf{D}\\mathbf{u}\n",
        "\\end{cases}\n",
        "\\end{equation}\n",
        "\n",
        "We can rewrite it using the derivative operator:\n",
        "\n",
        "\\begin{equation}\n",
        "\\begin{cases}\n",
        "s\\mathbf{I}\\mathbf{X}(s) -\\mathbf{A}\\mathbf{X}(s) = \\mathbf{B}\\mathbf{U}(s) \\\\\n",
        "\\mathbf{Y}(s)  = \\mathbf{C}\\mathbf{X}(s) + \\mathbf{D}\\mathbf{U}(s)\n",
        "\\end{cases}\n",
        "\\end{equation}\n",
        "\n",
        "and then collect $\\mathbf{X}(s)$ on the left-hand-side: $\\mathbf{X}(s) = (s\\mathbf{I} -\\mathbf{A})^{-1} \\mathbf{B}\\mathbf{U}(s)$\n",
        "\n",
        "and finally, express $\\mathbf{Y}(s)$ output:\n",
        "\n",
        "\\begin{equation}\n",
        "\\mathbf{Y}(s)  = \\left( \\mathbf{C}(s\\mathbf{I} -\\mathbf{A})^{-1} \\mathbf{B} + \\mathbf{D} \\right) \\mathbf{U}(s)\n",
        "\\end{equation}\n",
        "\n"
      ]
    },
    {
      "cell_type": "markdown",
      "metadata": {
        "id": "bYjgqfd22d2b"
      },
      "source": [
        ">### **Example**\r\n",
        "> Let us recall the \"love equation\" between Romeo and Juliet:\r\n",
        "\\begin{equation}\r\n",
        "\\begin{bmatrix}\r\n",
        "\\dot{J} \\\\\r\n",
        "\\dot{R} \r\n",
        "\\end{bmatrix} = \r\n",
        "\\begin{bmatrix}\r\n",
        "-b  R \\\\\r\n",
        "a J\r\n",
        "\\end{bmatrix}\r\n",
        "\\end{equation}\r\n",
        "\r\n",
        "But now lets consider the case when they can manipulate each other feelings with some control inputs $u_R$ and $u_J$, however suppose Romeo now really love to manipulate Juliet feelings but hold down a bit when notice Juliet manipulation thus:\r\n",
        "\\begin{equation}\r\n",
        "\\begin{bmatrix}\r\n",
        "\\dot{J} \\\\\r\n",
        "\\dot{R} \r\n",
        "\\end{bmatrix} = \r\n",
        "\\begin{bmatrix}\r\n",
        "-b  R + c u_R - d u_J\\\\\r\n",
        "a J + e u_R\r\n",
        "\\end{bmatrix}\r\n",
        "\\end{equation}\r\n",
        "State space representation of this system is given as:\r\n",
        "\\begin{equation}\r\n",
        "\\begin{bmatrix}\r\n",
        "\\dot{J} \\\\\r\n",
        "\\dot{R} \r\n",
        "\\end{bmatrix} = \r\n",
        "\\begin{bmatrix}\r\n",
        "0 & -b \\\\\r\n",
        "a & 0 \r\n",
        "\\end{bmatrix}\r\n",
        "\\begin{bmatrix}\r\n",
        "J \\\\\r\n",
        "R \r\n",
        "\\end{bmatrix} +\r\n",
        "\\begin{bmatrix}\r\n",
        "-d & c \\\\\r\n",
        "0 & e \r\n",
        "\\end{bmatrix}\r\n",
        "\\begin{bmatrix}\r\n",
        "u_J \\\\\r\n",
        "u_R \r\n",
        "\\end{bmatrix}\r\n",
        "\\end{equation}\r\n",
        "\r\n",
        "And our goal is to find the transfer functions form Romeo effort to Juliet love and vice versa. "
      ]
    },
    {
      "cell_type": "markdown",
      "metadata": {
        "id": "RPWJbCSS-Les"
      },
      "source": [
        "Lets first find the solution analytically:"
      ]
    },
    {
      "cell_type": "code",
      "metadata": {
        "id": "5ip-SUMp-Qih"
      },
      "source": [
        "a, b, c, d, e = sympy.symbols('a, b, c, d, e') \r\n",
        "s = sympy.symbols('s')\r\n",
        "\r\n",
        "A = sympy.Matrix([[0, -b], [a, 0]])\r\n",
        "B = sympy.Matrix([[-d, c],[0, e]])\r\n"
      ],
      "execution_count": null,
      "outputs": []
    },
    {
      "cell_type": "code",
      "metadata": {
        "colab": {
          "base_uri": "https://localhost:8080/",
          "height": 61
        },
        "id": "HLhxjSqiA8-S",
        "outputId": "72050bb4-18f2-4a76-967c-d10898a70e99"
      },
      "source": [
        "Xs = (s * sympy.eye(2) - A).inv()*B\r\n",
        "Xs"
      ],
      "execution_count": null,
      "outputs": [
        {
          "output_type": "execute_result",
          "data": {
            "text/latex": "$$\\left[\\begin{matrix}- \\frac{d s}{a b + s^{2}} & - \\frac{b e}{a b + s^{2}} + \\frac{c s}{a b + s^{2}}\\\\- \\frac{a d}{a b + s^{2}} & \\frac{a c}{a b + s^{2}} + \\frac{e s}{a b + s^{2}}\\end{matrix}\\right]$$",
            "text/plain": [
              "⎡ -d⋅s         b⋅e        c⋅s   ⎤\n",
              "⎢────────  - ──────── + ────────⎥\n",
              "⎢       2           2          2⎥\n",
              "⎢a⋅b + s     a⋅b + s    a⋅b + s ⎥\n",
              "⎢                               ⎥\n",
              "⎢ -a⋅d        a⋅c        e⋅s    ⎥\n",
              "⎢────────   ──────── + ──────── ⎥\n",
              "⎢       2          2          2 ⎥\n",
              "⎣a⋅b + s    a⋅b + s    a⋅b + s  ⎦"
            ]
          },
          "metadata": {
            "tags": []
          },
          "execution_count": 28
        }
      ]
    },
    {
      "cell_type": "code",
      "metadata": {
        "id": "4WMJSP2OBlCs"
      },
      "source": [
        "# lets now denote output equations\r\n",
        "C = sympy.Matrix([[1, 0]])\r\n",
        "D = sympy.Matrix([[0,0]])"
      ],
      "execution_count": null,
      "outputs": []
    },
    {
      "cell_type": "code",
      "metadata": {
        "colab": {
          "base_uri": "https://localhost:8080/",
          "height": 39
        },
        "id": "ptRHD0Lk_Tnh",
        "outputId": "3c31a2b6-6a76-41a4-c3eb-73e6ee56a4f4"
      },
      "source": [
        "Ys = C*(s * sympy.eye(2) - A).inv()*B +D\r\n",
        "Ys"
      ],
      "execution_count": null,
      "outputs": [
        {
          "output_type": "execute_result",
          "data": {
            "text/latex": "$$\\left[\\begin{matrix}- \\frac{d s}{a b + s^{2}} & - \\frac{b e}{a b + s^{2}} + \\frac{c s}{a b + s^{2}}\\end{matrix}\\right]$$",
            "text/plain": [
              "⎡ -d⋅s         b⋅e        c⋅s   ⎤\n",
              "⎢────────  - ──────── + ────────⎥\n",
              "⎢       2           2          2⎥\n",
              "⎣a⋅b + s     a⋅b + s    a⋅b + s ⎦"
            ]
          },
          "metadata": {
            "tags": []
          },
          "execution_count": 30
        }
      ]
    },
    {
      "cell_type": "markdown",
      "metadata": {
        "id": "jhLtdz0a-RUF"
      },
      "source": [
        "We can do the same numerically instead:"
      ]
    },
    {
      "cell_type": "code",
      "metadata": {
        "colab": {
          "base_uri": "https://localhost:8080/"
        },
        "id": "Azm-4SVl82nx",
        "outputId": "9111818d-4a07-4f89-ebdd-e99f9485963f"
      },
      "source": [
        "from scipy.signal import ss2tf\r\n",
        "a, b, c, d, e = 1, 1, 1, 1, 1\r\n",
        "\r\n",
        "A = [[0, -b], [a, 0]]\r\n",
        "B = [[-d, c],[0, e]]\r\n",
        "C = [[1, 0],[0, 1]]\r\n",
        "D = [[0,0],[0,0]]\r\n",
        "ss2tf(A, B, C, D)"
      ],
      "execution_count": null,
      "outputs": [
        {
          "output_type": "execute_result",
          "data": {
            "text/plain": [
              "(array([[ 0, -1,  0],\n",
              "        [ 0,  0, -1]]), array([1., 0., 1.]))"
            ]
          },
          "metadata": {
            "tags": []
          },
          "execution_count": 31
        }
      ]
    },
    {
      "cell_type": "markdown",
      "metadata": {
        "id": "5hHBY9f_-VuS"
      },
      "source": [
        ">### **Exercises**\r\n",
        "> Simulate the response of \"love\" system using transfer functions and state space approaches compare results. (you may use [this as reference](https://apmonitor.com/pdc/index.php/Main/ModelSimulation) )\r\n"
      ]
    },
    {
      "cell_type": "markdown",
      "metadata": {
        "id": "B_UjtGnvCXGf"
      },
      "source": [
        ">### **Bonus Exercise**\r\n",
        "> Considering the following ODE:\r\n",
        "> \\begin{equation}\r\n",
        "a_{n}y^{(n)} +a_{n-1}y^{(n-1)}+...+a_{2}\\ddot y+a_{1}\\dot y + a_0 y= u_{m}b^{(m)} +b_{m-1}u^{(m-1)}+...+b_{2}\\ddot u+b_{1}\\dot u + b_0 u\r\n",
        "\\end{equation}\r\n",
        ">With related transfer function:\r\n",
        "\\begin{equation}\r\n",
        "W(s) = \\frac{Y(s)}{U(s)} = \\frac{b_{m}s^{(m)} +b_{m-1}s^{(m-1)}+...+b_{2}s^2 +b_{1}s + b_0 }{a_{n}s^{(n)} +a_{n-1}s^{(n-1)}+...+a_{2} s^2 +a_{1}s  + a_0 }\r\n",
        "\\end{equation}\r\n",
        ">\r\n",
        ">where $Y(s) = \\mathcal{}$ $m\\leq n$ suggest a method to represent it in the equalient state space representation:\r\n",
        "\\begin{equation}\r\n",
        "\\begin{cases}\r\n",
        "\\dot{\\mathbf{x}} = \\mathbf{A}\\mathbf{x} + \\mathbf{B}\\mathbf{u} \\\\\r\n",
        "     \\mathbf{y}  = \\mathbf{C}\\mathbf{x} + \\mathbf{D}\\mathbf{u}\r\n",
        "\\end{cases}\r\n",
        "\\end{equation}\r\n",
        "and output $Y(s) = \\mathcal{L}\\{y\\} = \\mathcal{L}\\{\\mathbf{y}_1\\} =\\mathcal{L}\\{\\mathbf{x}_1\\}$ \r\n",
        ">\r\n",
        ">Use [this link as reference](https://lpsa.swarthmore.edu/Representations/SysRepTransformations/TF2SS.html)"
      ]
    }
  ]
}