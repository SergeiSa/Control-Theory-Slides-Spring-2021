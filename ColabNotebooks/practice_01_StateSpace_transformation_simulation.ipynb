{
  "nbformat": 4,
  "nbformat_minor": 0,
  "metadata": {
    "colab": {
      "name": "[CT21] lab01_state_space.ipynb",
      "provenance": [],
      "collapsed_sections": [],
      "include_colab_link": true
    },
    "kernelspec": {
      "name": "python3",
      "display_name": "Python 3"
    }
  },
  "cells": [
    {
      "cell_type": "markdown",
      "metadata": {
        "id": "view-in-github",
        "colab_type": "text"
      },
      "source": [
        "<a href=\"https://colab.research.google.com/github/SergeiSa/Control-Theory-Slides-Spring-2021/blob/main/ColabNotebooks/practice1_StateSpace_transformation_simulation.ipynb\" target=\"_parent\"><img src=\"https://colab.research.google.com/assets/colab-badge.svg\" alt=\"Open In Colab\"/></a>"
      ]
    },
    {
      "cell_type": "markdown",
      "metadata": {
        "id": "zVZdDu7VjMqg"
      },
      "source": [
        "# **Introduction**\r\n",
        "\r\n",
        "---\r\n",
        "\r\n",
        "## **Practice Instructor**\r\n",
        "Name: Simeon Nedelchev\r\n",
        "\r\n",
        "Background:\r\n",
        "* **MSTU STANKIN** (Bachelor/Master in Robotics 2018) \r\n",
        "* **Korea University of Technology And Education** (KoreaTech) (Master ME 2019), Research fellow 'BioRobotics' lab\r\n",
        "* **Innopolis University** (PhD), Research fellow 'MCP' lab\r\n",
        "\r\n",
        "\r\n",
        "Research interests:\r\n",
        "\r\n",
        "\r\n",
        "*   **Control**: Nonlinear, Robust, Adaptive, Energy based, Noncolocated and Underactuated, with focus on discrete-time and physically inspired numerical methods.\r\n",
        "*   **Online Identification and Estimation**: Moving Horizon Estimators, Sliding Mode Observers.\r\n",
        "*  **Analytical Mechanics and Dynamical Systems**:\r\n",
        "Dynamical Modeling, Limit Cycles, Constrained Dynamics (UK), Computational mechanics.\r\n",
        "*  **Applied Optimization**:\r\n",
        "Linear, Quadratic, and Nonlinear programming, Dynamical programming, Optimal Control, Optimal Mechanical Design. \r\n",
        "\r\n",
        "\r\n",
        "Feel free to contact me in person (in basement lab/office 105) or via [telegram](https://t.me/simkasimka) and [mail](https://t.me/simkasimka) if you face any problems with the course or would like to do research and work on hardware\r\n",
        "## **Prerequisites for practice**\r\n",
        "There are no strong prerequisites for this class, however:\r\n",
        "* **Linear Algebra**, **Calculus**, **Differential Equations**, and **Dynamics** (Mechanics, Physics) courses will be really helpfull\r\n",
        "* We will use a bit of **Python** in this class\r\n",
        "* We will often use [mathematical quantifiers](https://en.wikipedia.org/wiki/Quantifier_(logic)). Revise them by going over [exercises](https://www.whitman.edu/mathematics/higher_math_online/section01.02.html) if you forgot some.\r\n",
        "\r\n",
        "## **Notation**\r\n",
        "We will use the following notation in \"notebooks\":\r\n",
        "> A key points or equations looks like this \r\n",
        "\r\n",
        ">**QUESTION**: \r\n",
        "Questions related to the subject, pay attention to them, they may enhance your understanding of the topic\r\n",
        "\r\n",
        ">**EXERCISE**: \r\n",
        "These exercises we will do during the practice sessions, remaining you may treat as your HW\r\n",
        "\r\n",
        ">**BONUS EXERCISE** Problems that will be graded separately and will give you bonus points on final exam\r\n",
        "\r\n",
        "## **Literature**\r\n",
        "I personally suggest a following books on the subject:\r\n",
        "\r\n",
        "\r\n",
        "*   C.T. Chen, **Linear System Theory and Design**\r\n",
        "\r\n",
        "*   Vladimir I. Arnold, **Ordinary Differential Equations**\r\n",
        "\r\n",
        "*   Steven H. Strogatz, **Nonlinear Dynamics and Chaos**\r\n",
        "\r\n",
        "\r\n",
        "\r\n"
      ]
    },
    {
      "cell_type": "markdown",
      "metadata": {
        "id": "D-dOD4xqsPiR"
      },
      "source": [
        "# **Practice 1: State Space modeling, Transformations and Simulation**\n",
        "## **Goals for today**\n",
        "\n",
        "---\n",
        "\n",
        "\n",
        "\n",
        "During today practice we will:\n",
        "*   Recall the notion of ODE, transform \n",
        "*   Write mathematical models in state space form.\n",
        "*   Obtain solution of state space equations with `odeint`.\n"
      ]
    },
    {
      "cell_type": "markdown",
      "metadata": {
        "id": "RCityqOscrJV"
      },
      "source": [
        "## **State Space and Ordinary Differential Equations**\n",
        "A state-space representation is a mathematical model of a physical system as a set of input $\\mathbf{u}$, output $\\mathbf{y}$ and state variables $\\mathbf{x}$ related by first-order differential equations (difference equations in discrete time). \n",
        "\n",
        "State variables $\\mathbf{x}$ are variables whose values evolve through time $t$ in a way that depends on the values they have at any given time and also depends on the externally imposed values of input variables $\\mathbf{u}$. Output $\\mathbf{y}$ depend on the values of the state variables $\\mathbf{x}$.\n",
        "\n",
        "### **Ordinary Differential Equations**\n",
        "\n",
        "Given $\\mathcal{F}$, a function of $t$, $z$, and derivatives of $z$ . Then an equation of the form\n",
        "\n",
        "$$\n",
        "\\mathcal{F} \\left(t,z,\\dot{z},\\ldots ,z^{(n-1)}\\right)=z^{(n)}\n",
        "$$\n",
        "\n",
        "is called an explicit **ordinary differential equation** of order n.\n",
        "\n",
        "### **Nonlinear State Space**\n",
        "\n",
        "General form of a state-space model can be written as system of two functions:\n",
        "\\begin{equation}\n",
        "\\begin{cases} \n",
        "\\mathbf{\\dot{x}} (t)=\\boldsymbol{f}(t,\\mathbf{x}(t),\\mathbf{u}(t)) \\\\ \n",
        "\\mathbf{y}(t)=\\boldsymbol{h}(t,\\mathbf{x}(t),\\mathbf{u}(t))\n",
        "\\end{cases}\n",
        "\\end{equation}\n",
        "\n",
        "\n",
        "In this class we consider a simplest case of equations above, namely **linear** ones.\n",
        "\n",
        "\n",
        "### **Linear State Space**\n",
        "if relationships between state, output and control is **linear**, we can formulate the model of system in following form:\n",
        "\\begin{equation}\n",
        "\\begin{cases} \n",
        "\\mathbf{\\dot{x}} (t)=\\mathbf{A}(t)\\mathbf{x}(t) + \\mathbf{B}(t)\\mathbf{u}(t) \\\\ \n",
        "\\mathbf{y}(t)=\\mathbf{C}(t)\\mathbf{x}(t) + \\mathbf{D}(t)\\mathbf{u}(t)\n",
        "\\end{cases}\n",
        "\\end{equation}\n",
        "\n",
        "where\n",
        "*   $\\mathbf{x} \\in \\mathbb{R}^n$ states of the system\n",
        "*   $\\mathbf{y} \\in \\mathbb{R}^l$ output vector\n",
        "*   $\\mathbf{u} \\in \\mathbb{R}^m$ control inputs\n",
        "*   $\\mathbf{A} \\in \\mathbb{R}^{n \\times n}$ state matrix\n",
        "*   $\\mathbf{B} \\in \\mathbb{R}^{n \\times m}$ input matrix\n",
        "*   $\\mathbf{C} \\in \\mathbb{R}^{l \\times n}$ output matrix\n",
        "*   $\\mathbf{D} \\in \\mathbb{R}^{l \\times m}$ feedforward matrix\n",
        "\n",
        "Note that matrices $\\mathbf{A},\\mathbf{B},\\mathbf{C},\\mathbf{D}$ are time dependend, we call such systems **time-varient**.\n",
        "\n",
        "However, in practice we often deal with systems whose dynamics is time-invarient and output is independent from control, such that we can rewrite the model as:\n",
        "\\begin{equation}\n",
        "\\begin{cases} \n",
        "\\mathbf{\\dot{x}} (t)=\\mathbf{A}\\mathbf{x}(t) + \\mathbf{B}\\mathbf{u}(t) \\\\ \n",
        "\\mathbf{y}(t)=\\mathbf{C}\\mathbf{x}(t)\n",
        "\\end{cases}\n",
        "\\end{equation}\n",
        "\n",
        "### **Unforced systems**\n",
        "\n",
        "During today practice however we will consider a unforced (uncontrolled systems)as follows:\n",
        "\\begin{equation}\n",
        "\\mathbf{\\dot{x}} (t)=\\mathbf{A}\\mathbf{x}(t) + \\mathbf{b}\n",
        "\\end{equation}\n",
        "where $\\mathbf{b} \\in \\mathbb{R}^n$ is a constant vector\n",
        "\n",
        ">**QUESTION:** Can we rewrite system above in the following form?\n",
        "\\begin{equation}\n",
        "\\mathbf{\\dot{x}}_n (t)=\\mathbf{A}_n\\mathbf{x}_n(t)\n",
        "\\end{equation}"
      ]
    },
    {
      "cell_type": "markdown",
      "metadata": {
        "id": "N-krnoYnbvmu"
      },
      "source": [
        "\n",
        "\n",
        "\n",
        "## **From the linear ODE to the State Space**\n",
        "\n",
        "\n",
        "A probleim is to, given an ODE in canonical form:\n",
        "\n",
        "$$a_{n}z^{(n)} +a_{n-1}z^{(n-1)}+...+a_{2}\\ddot z+a_{1}\\dot z + a_0 z= b_0$$\n",
        "\n",
        "find its state space representation:\n",
        "\n",
        "$$\\dot{ \\mathbf{x}} = \\mathbf{A}\\mathbf{x} + \\mathbf{b}$$\n",
        "\n",
        "### **Methodology**\n",
        "\n",
        "The first step is to express higher derivatives as follows:\n",
        "\n",
        "$$z^{(n)} = \n",
        "-\\frac{a_{n-1}}{a_{n}}z^{(n-1)}-\n",
        "...-\n",
        "\\frac{a_{2}}{a_{n}}\\ddot z -\n",
        "\\frac{a_{1}}{a_{n}}\\dot z - \n",
        "\\frac{a_{0}}{a_{n}} z + \n",
        "\\frac{b_0}{a_{n}}$$\n",
        "\n",
        "Now let us introduce new variables $\\mathbf{x}$ as follows:\n",
        "$$\n",
        "\\mathbf{x} = \n",
        "\\begin{bmatrix}\n",
        "x_1 \\\\ \n",
        "x_{2} \\\\\n",
        "... \\\\\n",
        "x_n \\\\\n",
        "\\end{bmatrix}\n",
        "=\n",
        "\\begin{bmatrix}\n",
        "z \\\\\n",
        "z^{(1)} \\\\\n",
        "  ... \\\\\n",
        "z^{(n-1)} \\\\\n",
        "\\end{bmatrix}\n",
        "$$\n",
        "\n",
        "Thus original ODE may be written as:\n",
        "$$\n",
        "\\begin{bmatrix}\n",
        "\\dot{x}_1 \\\\ \n",
        "\\dot{x}_{2} \\\\\n",
        "... \\\\\n",
        "\\dot{x}_n \\\\\n",
        "\\end{bmatrix}\n",
        "=\n",
        "\\begin{bmatrix}\n",
        "x_2 \\\\ \n",
        "x_3 \\\\\n",
        "... \\\\\n",
        "-\\frac{a_{k-1}}{a_{n}}x_n-\n",
        "...-\n",
        "\\frac{a_{2}}{a_{n}} x_3 -\n",
        "\\frac{a_{1}}{a_{n}} x_2 - \n",
        "\\frac{a_{0}}{a_{n}} x_1 + \n",
        "\\frac{b_0}{a_{n}} \\\\\n",
        "\\end{bmatrix}$$\n",
        "\n",
        "Finally, in a matrix form:\n",
        "\\begin{equation}\n",
        "\\mathbf{\\dot{x}} (t) = \\mathbf{A}\\mathbf{x}(t) + \\mathbf{b}\n",
        "\\end{equation}\n",
        "\n",
        ">**QUESTION:** How matrix $\\mathbf{A}$ and vector $\\mathbf{b}$ will look like?\n"
      ]
    },
    {
      "cell_type": "markdown",
      "metadata": {
        "id": "sk9IEZJg2cS_"
      },
      "source": [
        " >### **Exercises**\r\n",
        ">\r\n",
        "> 1) Convert to State Space represantation\r\n",
        ">\r\n",
        ">* $10 z^{(4)} -7  z^{(3)} + 2   \\ddot z + 0.5 \\dot z + 4z  = 15$\r\n",
        "* $5  z^{(4)} -17 z^{(3)} - 3   \\ddot z + 1.5 \\dot z + 2z  = 25$\r\n",
        "* $-3 z^{(4)} +  22 z^{(3)} + 4   \\ddot z + 1.5 \\dot z + 1z  = 15$\r\n",
        "* $5  z^{(4)} -17 z^{(3)} - 1.5 \\ddot z + 100 \\dot z + 1.1z= 45$\r\n",
        "* $1.5 z^{(4)} -23 z^{(3)} - 2.5 \\ddot z + 0.1 \\dot z + 100z= -10$\r\n",
        ">\r\n",
        "> 2) Do the same in the oposit way, in order to convert the following to a second order ODE:\r\n",
        ">\r\n",
        ">$$\\dot{\\mathbf{x}} = \\mathbf{A}\\mathbf{x}\r\n",
        "$$\r\n",
        ">\r\n",
        ">with wollowing matrices $\\mathbf{A}$:\r\n",
        ">$$\r\n",
        "\\begin{bmatrix} 1 & 0 \\\\ -5 & -10\r\n",
        "\\end{bmatrix},\\quad\r\n",
        "\\begin{bmatrix} 0 & 8 \\\\ 1 & 3\r\n",
        "\\end{bmatrix}\r\n",
        ",\\quad\r\n",
        "\\begin{bmatrix} 0 & 8 \\\\ 6 & 0\r\n",
        "\\end{bmatrix}\r\n",
        ",\\quad\r\n",
        "\\begin{bmatrix} 0 & 1 \\\\ 6 & 3\r\n",
        "\\end{bmatrix}\r\n",
        "$$\r\n"
      ]
    },
    {
      "cell_type": "markdown",
      "metadata": {
        "id": "HKH0Tk6Rl7ec"
      },
      "source": [
        "## **Intro to Simulation (solution of ODE)**\n",
        "While studying ODE $\\dot{\\mathbf{x}} = \\boldsymbol{f}(\\mathbf{x}, \\mathbf{u}, t)$, one is often interested in its solution $\\mathbf{x}(t)$ (integral curve):\n",
        "\\begin{equation}\n",
        "\\mathbf{x} = \\int_{t_0}^{t_f} \\boldsymbol{f}(t,\\mathbf{x}(t),\\mathbf{u}(t))dt,\\quad \\text{s.t: } \\mathbf{x}(t_0) = \\mathbf{x}_0\n",
        "\\end{equation}\n",
        "\n",
        "In most practical situations the integral above cannot be solved analyticaly and one should consider numerical integration instead.\n",
        "\n",
        "\n"
      ]
    },
    {
      "cell_type": "code",
      "metadata": {
        "id": "7U4i-VI8jQsm"
      },
      "source": [
        "import numpy as np\r\n",
        "from scipy.integrate import odeint\r\n",
        "\r\n",
        "n = 3\r\n",
        "A = np.array([[0, 1, 0], \r\n",
        "              [0, 0, 1], \r\n",
        "              [-10, -5, -2]])\r\n",
        "\r\n",
        "# x_dot from state space\r\n",
        "def f(x, t):\r\n",
        "    return A.dot(x)\r\n",
        "\r\n",
        "t0 = 0 # Initial time \r\n",
        "tf = 10 # Final time\r\n",
        "t = np.linspace(t0, tf, 1000)\r\n",
        "\r\n",
        "x0 = np.random.rand(n)  # initial state\r\n",
        "\r\n",
        "solution = {\"ss\": odeint(f, x0, t, args = (1,2,3,4))}"
      ],
      "execution_count": null,
      "outputs": []
    },
    {
      "cell_type": "markdown",
      "metadata": {
        "id": "TIRdklAZCxBc"
      },
      "source": [
        "Let us plot the result of simulation:"
      ]
    },
    {
      "cell_type": "code",
      "metadata": {
        "colab": {
          "base_uri": "https://localhost:8080/",
          "height": 281
        },
        "id": "m96wVXsfCd7V",
        "outputId": "c261ec17-dbfc-41ad-f5c4-c0922455fad2"
      },
      "source": [
        "\r\n",
        "from matplotlib.pyplot import *\r\n",
        "\r\n",
        "plot(t, solution['ss'], linewidth=2.0)\r\n",
        "grid(color='black', linestyle='--', linewidth=1.0, alpha = 0.7)\r\n",
        "grid(True)\r\n",
        "xlim([t0, tf])\r\n",
        "ylabel(r'State ${x}$')\r\n",
        "xlabel(r'Time $t$')\r\n",
        "show()"
      ],
      "execution_count": null,
      "outputs": [
        {
          "output_type": "display_data",
          "data": {
            "image/png": "[encoded data removed]",
            "text/plain": [
              "<Figure size 432x288 with 1 Axes>"
            ]
          },
          "metadata": {
            "tags": [],
            "needs_background": "light"
          }
        }
      ]
    },
    {
      "cell_type": "markdown",
      "metadata": {
        "id": "E3hMR9WiBCA5"
      },
      "source": [
        ">**QUESTION:** How would you find analytical solution for linear state space equations:\n",
        "\\begin{equation}\n",
        "\\mathbf{\\dot{x}} (t)=\\mathbf{A}\\mathbf{x}(t)\n",
        "\\end{equation}\n",
        ">**TIP:** recall the solution of the equation $\\dot{x} = a x$, and try to generilize it to the $n$-dimensional case. "
      ]
    },
    {
      "cell_type": "markdown",
      "metadata": {
        "id": "ufR3L7_eC6x-"
      },
      "source": [
        "\r\n",
        ">### **Exercises**\r\n",
        ">\r\n",
        "> 1) Convert the following ODE to state space and simulate them from random initial conditions. If solution diverges, try to change parameters so it will converge\r\n",
        ">\r\n",
        ">* $10 z^{(5)} + 10 z^{(4)} -7  z^{(3)} + 2   \\ddot z + 0.5 \\dot z + 4z  = 0$\r\n",
        "* $1 z^{(5)} + 5  z^{(4)} -17 z^{(3)} - 3   \\ddot z + 1.5 \\dot z + 2z  = 0$\r\n",
        "* $6 z^{(5)} -3 z^{(4)}  22 z^{(3)} + 4   \\ddot z + 1.5 \\dot z + 1z  = 0$\r\n",
        "* $22 z^{(5)} + 5  z^{(4)} -17 z^{(3)} - 1.5 \\ddot z + 100 \\dot z + 1.1z = 0$\r\n",
        "* $-10 z^{(5)} + 1.5z^{(4)} -23 z^{(3)} - 2.5 \\ddot z + 0.1 \\dot z + 100z = 0$\r\n",
        ">\r\n",
        "> 2) Solve the same but without converting it to state space.\r\n",
        ">\r\n",
        "> 3) Find or derive equations for a mass-spring-damper system (shown on figure below), write them in state-space and second order ODE forms, integrate them from different initial conditions, play with coefficients and investigate how they affect the solution.\r\n",
        "\r\n",
        "<p><img alt=\"mbk\" height=\"250px\" src=\"https://drive.google.com/uc?id=1ouEckIc8hm6IOTJ5uGVJHCwx2tBeyKj8\" align=\"center\" hspace=\"350px\" vspace=\"0px\"></p>\r\n",
        "\r\n",
        "\r\n",
        ">### **Bonus Exercises**\r\n",
        ">\r\n",
        ">* Implement your own integration routine that will take state-space function \r\n",
        "$\\mathbf{f}$, free variable $t$, and initial state $\\mathbf{x}(0)$ as input and produce the solution $\\mathbf{x}^*(t)$ as output. You may use [Runge–Kutta method](https://en.wikipedia.org/wiki/Runge%E2%80%93Kutta_methods) \r\n",
        ">\r\n",
        ">* Suppose Romeo is in love with Juliet, but in our version of the story, Juliet is a fickle lover. The more Romeo loves her, the more she wants to run away and hide, such that the rate of her love is decreasing proportional to love of Romeo with constant $b$. But when he takes the hint and backs off, she begins to find him strangely attractive and her love raise again with same rate. He, on the other hand, tends to echo her: he warms up when she loves him and cools down when she hates him, but with rate proportional to constant $a$. Write differential equation that will model how their love evolve in time. Solve them and plot the result.\r\n"
      ]
    }
  ]
}